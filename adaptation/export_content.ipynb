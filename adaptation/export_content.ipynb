{
 "cells": [
  {
   "cell_type": "code",
   "execution_count": 9,
   "metadata": {},
   "outputs": [],
   "source": [
    "import sys\n",
    "import os\n",
    "import re\n",
    "import pandas as pd\n",
    "import redis\n",
    "from pathlib import Path\n",
    "sys.path.append('/home/jeremy/Library')\n",
    "\n",
    "from storage.cherrytree import CherryTree\n",
    "from utility.helpers import snake_case\n",
    "from document.pandoc import PandocArgs, temp_content\n",
    "\n",
    "\n",
    "def export_note_content(index_file, output_dir, base_node=None):\n",
    "        ct = CherryTree(index_file)\n",
    "        output_path = Path(output_dir)\n",
    "        if not output_path.exists():\n",
    "            print(output_path, 'does not exist')\n",
    "            return False\n",
    "        for node in [n for n in ct.nodes(base_node) if n.content if not n.filepath]:\n",
    "            input = temp_content(node.content)\n",
    "            output=output_path.joinpath(snake_case(node.name)).with_suffix('.md')\n",
    "            if output.exists():\n",
    "                print(output, 'already exists')\n",
    "                continue\n",
    "            node.insert_link(href=output, text='Content')\n",
    "\n",
    "#             node.remove_element(node.content)\n",
    "\n",
    "            print(PandocArgs(input=input,\n",
    "                            output=output,\n",
    "                            metadata=dict(title=node.name),\n",
    "                            defaults='create_document'\n",
    "                         ))\n",
    "#         self.ct.save()"
   ]
  },
  {
   "cell_type": "code",
   "execution_count": 20,
   "metadata": {},
   "outputs": [
    {
     "name": "stdout",
     "output_type": "stream",
     "text": [
      "--metadata=title:\"Bule Kare\" --defaults=create_document -s --output=staging/bule_kare.md /tmp/tmp95h4nx9t\n",
      "--metadata=title:\"Muharto Visits Post\" --defaults=create_document -s --output=staging/muharto_visits_post.md /tmp/tmpvjkmikr9\n",
      "--metadata=title:\"Santoso Trance\" --defaults=create_document -s --output=staging/santoso_trance.md /tmp/tmpyi5ivsro\n",
      "--metadata=title:\"Victor Suggests Julius\" --defaults=create_document -s --output=staging/victor_suggests_julius.md /tmp/tmp6mhxhzcn\n",
      "--metadata=title:\"Syd Explains Gruffness\" --defaults=create_document -s --output=staging/syd_explains_gruffness.md /tmp/tmptebico30\n",
      "--metadata=title:\"Koke unmasked\" --defaults=create_document -s --output=staging/koke_unmasked.md /tmp/tmpoo03kdz6\n",
      "--metadata=title:\"Bob Buys an Olds\" --defaults=create_document -s --output=staging/bob_buys_an_olds.md /tmp/tmp5slfflfc\n",
      "--metadata=title:\"Dear Boy\" --defaults=create_document -s --output=staging/dear_boy.md /tmp/tmp68xfltsf\n"
     ]
    }
   ],
   "source": [
    "\n",
    "export_note_content('synopsis.ctd', 'staging', base_node='Stories')"
   ]
  },
  {
   "cell_type": "code",
   "execution_count": 16,
   "metadata": {},
   "outputs": [
    {
     "data": {
      "text/plain": [
       "<IPython.utils.capture.CapturedIO at 0x7f645de79410>"
      ]
     },
     "execution_count": 16,
     "metadata": {},
     "output_type": "execute_result"
    }
   ],
   "source": [
    "exports"
   ]
  },
  {
   "cell_type": "code",
   "execution_count": 19,
   "metadata": {},
   "outputs": [
    {
     "data": {
      "text/plain": [
       "[]"
      ]
     },
     "execution_count": 19,
     "metadata": {},
     "output_type": "execute_result"
    }
   ],
   "source": [
    "exports.outputs"
   ]
  },
  {
   "cell_type": "code",
   "execution_count": null,
   "metadata": {},
   "outputs": [],
   "source": []
  }
 ],
 "metadata": {
  "kernelspec": {
   "display_name": "Python 3",
   "language": "python",
   "name": "python3"
  },
  "language_info": {
   "codemirror_mode": {
    "name": "ipython",
    "version": 3
   },
   "file_extension": ".py",
   "mimetype": "text/x-python",
   "name": "python",
   "nbconvert_exporter": "python",
   "pygments_lexer": "ipython3",
   "version": "3.7.9"
  }
 },
 "nbformat": 4,
 "nbformat_minor": 4
}
