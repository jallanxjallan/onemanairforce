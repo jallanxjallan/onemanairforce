{
 "cells": [
  {
   "cell_type": "code",
   "execution_count": 9,
   "metadata": {},
   "outputs": [],
   "source": [
    "import re\n",
    "from pathlib import Path\n",
    "import spacy\n",
    "from textacy.extract import subject_verb_object_triples\n",
    "nlp = spacy.load('en_core_web_sm')\n",
    "import sys\n",
    "sys.path.append('/home/jeremy/Library')\n",
    "from utility.helpers import snake_case, title_case"
   ]
  },
  {
   "cell_type": "code",
   "execution_count": 35,
   "metadata": {},
   "outputs": [],
   "source": [
    "entries = Path('events.md').read_text()"
   ]
  },
  {
   "cell_type": "code",
   "execution_count": 5,
   "metadata": {},
   "outputs": [],
   "source": [
    "# split_pat = r'qqq(\\w+(?:\\w+)+)xxx'\n",
    "split_pat = r'\\n'\n",
    "staging = Path('staging')"
   ]
  },
  {
   "cell_type": "code",
   "execution_count": 16,
   "metadata": {},
   "outputs": [],
   "source": [
    "for sname in ('events.md', 'investigation.md', 'moments.md'):\n",
    "    source = Path('.md')\n",
    "    target = staging.joinpath(title_case(source.stem))\n",
    "    if not target.exists():\n",
    "        target.mkdir()\n",
    "    export_entries(source, target)\n",
    "\n",
    "        "
   ]
  },
  {
   "cell_type": "code",
   "execution_count": 15,
   "metadata": {},
   "outputs": [],
   "source": [
    "def export_entries(source, target):\n",
    "    entries = source.read_text()\n",
    "    sections = [s for s in re.split(split_pat, entries) if len(s)> 1]\n",
    "    docs = nlp.pipe(s for s in sections)\n",
    "    for doc in docs:\n",
    "        sovs = list(subject_verb_object_triples(doc))\n",
    "        if len(sovs) > 0:\n",
    "\n",
    "            text = ' '.join((t.text for t in sovs[0] ))\n",
    "            filename = text.title()\n",
    "        else:\n",
    "            sents = list(doc.sents)\n",
    "            filename = title_case(sents[1].text)\n",
    "        fp = target.joinpath(filename).with_suffix('.txt')\n",
    "        fp.write_text(str(doc))\n",
    "\n",
    "               "
   ]
  },
  {
   "cell_type": "code",
   "execution_count": null,
   "metadata": {},
   "outputs": [],
   "source": []
  }
 ],
 "metadata": {
  "kernelspec": {
   "display_name": "Python 3",
   "language": "python",
   "name": "python3"
  },
  "language_info": {
   "codemirror_mode": {
    "name": "ipython",
    "version": 3
   },
   "file_extension": ".py",
   "mimetype": "text/x-python",
   "name": "python",
   "nbconvert_exporter": "python",
   "pygments_lexer": "ipython3",
   "version": "3.6.8"
  }
 },
 "nbformat": 4,
 "nbformat_minor": 2
}
