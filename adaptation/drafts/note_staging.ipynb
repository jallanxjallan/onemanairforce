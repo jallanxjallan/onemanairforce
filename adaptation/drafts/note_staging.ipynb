{
 "cells": [
  {
   "cell_type": "code",
   "execution_count": 9,
   "metadata": {},
   "outputs": [],
   "source": [
    "import re\n",
    "from pathlib import Path\n",
    "import spacy\n",
    "from textacy.extract import subject_verb_object_triples\n",
    "nlp = spacy.load('en_core_web_sm')\n",
    "import sys\n",
    "sys.path.append('/home/jeremy/Library')\n",
    "from utility.helpers import snake_case, title_case"
   ]
  },
  {
   "cell_type": "code",
   "execution_count": 35,
   "metadata": {},
   "outputs": [],
   "source": [
    "entries = Path('events.md').read_text()"
   ]
  },
  {
   "cell_type": "code",
   "execution_count": 5,
   "metadata": {},
   "outputs": [],
   "source": [
    "# split_pat = r'qqq(\\w+(?:\\w+)+)xxx'\n",
    "split_pat = r'\\n'\n"
   ]
  },
  {
   "cell_type": "code",
   "execution_count": 28,
   "metadata": {},
   "outputs": [
    {
     "name": "stdout",
     "output_type": "stream",
     "text": [
      "staging/Moments/Compare With Rags Worn In Jogja And Muharto/Boedi Going On Shopping Trips In Manila And Singapore..txt\n"
     ]
    }
   ],
   "source": [
    "for sname in ('events.md', 'investigation.md', 'moments.md'):\n",
    "    staging = Path('staging')\n",
    "    source = Path(sname)\n",
    "    target = staging.joinpath(title_case(source.stem))\n",
    "    if not target.exists():\n",
    "        target.mkdir()\n",
    "    export_entries(source, target)\n",
    "\n",
    "        "
   ]
  },
  {
   "cell_type": "code",
   "execution_count": 31,
   "metadata": {},
   "outputs": [],
   "source": [
    "source_dir = Path('stories')\n",
    "staging = Path('staging/Stories')\n",
    "for sname in source_dir.iterdir():\n",
    "    source = Path(sname)\n",
    "    target = staging.joinpath(title_case(source.stem))\n",
    "    if not target.exists():\n",
    "        target.mkdir()\n",
    "    export_entries(source, target)"
   ]
  },
  {
   "cell_type": "code",
   "execution_count": 27,
   "metadata": {},
   "outputs": [],
   "source": [
    "def export_entries(source, target_dir):\n",
    "    entries = source.read_text()\n",
    "    sections = [s for s in re.split(split_pat, entries) if len(s)> 1]\n",
    "    docs = nlp.pipe(s for s in sections)\n",
    "    for doc in docs:\n",
    "        sovs = list(subject_verb_object_triples(doc))\n",
    "        if len(sovs) > 0:\n",
    "\n",
    "            text = ' '.join((t.text for t in sovs[0] ))\n",
    "            filename = text.title()\n",
    "        else:\n",
    "            sents = list(doc.sents)\n",
    "            try:\n",
    "                filename = title_case(sents[1].text)\n",
    "            except:\n",
    "                filename = title_case(sents[0].text)\n",
    "        fp = target_dir.joinpath(filename).with_suffix('.txt')\n",
    "        try:\n",
    "            fp.write_text(str(doc))\n",
    "        except:\n",
    "            print(fp)\n",
    "\n",
    "               "
   ]
  },
  {
   "cell_type": "code",
   "execution_count": 35,
   "metadata": {},
   "outputs": [],
   "source": [
    "split_pat = r'qqq(\\w+(?:\\w+)+)xxx'\n",
    "staging = Path('staging/Characters')\n",
    "source = Path('characters_split.md').read_text()\n",
    "sections = re.split(split_pat, source)\n",
    "for i in range(1, len(sections), 2):\n",
    "    filename = title_case(sections[i])\n",
    "    target = staging.joinpath(filename).with_suffix('.txt')\n",
    "    target.write_text(sections[i+1])\n",
    "    "
   ]
  },
  {
   "cell_type": "code",
   "execution_count": null,
   "metadata": {},
   "outputs": [],
   "source": []
  }
 ],
 "metadata": {
  "kernelspec": {
   "display_name": "Python 3",
   "language": "python",
   "name": "python3"
  },
  "language_info": {
   "codemirror_mode": {
    "name": "ipython",
    "version": 3
   },
   "file_extension": ".py",
   "mimetype": "text/x-python",
   "name": "python",
   "nbconvert_exporter": "python",
   "pygments_lexer": "ipython3",
   "version": "3.6.8"
  }
 },
 "nbformat": 4,
 "nbformat_minor": 2
}
