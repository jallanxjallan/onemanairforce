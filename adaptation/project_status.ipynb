{
 "cells": [
  {
   "cell_type": "code",
   "execution_count": null,
   "metadata": {},
   "outputs": [],
   "source": [
    "import pandas as pd\n",
    "from pathlib import Path\n",
    "from storage.cherrytree import CherryTree\n",
    "from utility.config import load_config\n",
    "import sys\n",
    "import redis\n",
    "import dateparser\n",
    "\n",
    "cf = load_config()\n",
    "namespace = cf.get('namespace', 'document')\n",
    "base_node = cf.get('base-node', None)\n",
    "r = redis.Redis(decode_responses=True)\n"
   ]
  },
  {
   "cell_type": "code",
   "execution_count": null,
   "metadata": {},
   "outputs": [],
   "source": [
    "def load_status_data():\n",
    "    ct = CherryTree(cf['index-file']) \n",
    "    di = f'{namespace}:filepath.document:index'\n",
    "    data = []\n",
    "    for node in [n for n in ct.nodes(base_node) if n.filepath]:\n",
    "        dk = r.hget(di, node.filepath)\n",
    "        if dk:\n",
    "            data.append(r.hgetall(dk))\n",
    "        else:\n",
    "            print(dk, 'not found')\n",
    "    \n",
    "    df = pd.DataFrame(data).fillna('No Data')\n",
    "    df['timestamp'] = df.date.apply(lambda x: dateparser.parse(x))\n",
    "    return df"
   ]
  },
  {
   "cell_type": "code",
   "execution_count": null,
   "metadata": {},
   "outputs": [],
   "source": [
    "df =load_status_data()"
   ]
  },
  {
   "cell_type": "code",
   "execution_count": 4,
   "metadata": {},
   "outputs": [
    {
     "data": {
      "text/html": [
       "<div>\n",
       "<style scoped>\n",
       "    .dataframe tbody tr th:only-of-type {\n",
       "        vertical-align: middle;\n",
       "    }\n",
       "\n",
       "    .dataframe tbody tr th {\n",
       "        vertical-align: top;\n",
       "    }\n",
       "\n",
       "    .dataframe thead th {\n",
       "        text-align: right;\n",
       "    }\n",
       "</style>\n",
       "<table border=\"1\" class=\"dataframe\">\n",
       "  <thead>\n",
       "    <tr style=\"text-align: right;\">\n",
       "      <th></th>\n",
       "      <th>title</th>\n",
       "      <th>date</th>\n",
       "    </tr>\n",
       "  </thead>\n",
       "  <tbody>\n",
       "    <tr>\n",
       "      <th>0</th>\n",
       "      <td>Sabam Assigns Muharto Interview</td>\n",
       "      <td>27 September 1988</td>\n",
       "    </tr>\n",
       "    <tr>\n",
       "      <th>1</th>\n",
       "      <td>Cameron Interviews Muharto</td>\n",
       "      <td>28 September 1988</td>\n",
       "    </tr>\n",
       "    <tr>\n",
       "      <th>2</th>\n",
       "      <td>Surprise Call</td>\n",
       "      <td>7 June 1947</td>\n",
       "    </tr>\n",
       "    <tr>\n",
       "      <th>3</th>\n",
       "      <td>Flight to Tasik</td>\n",
       "      <td>28 September 1988</td>\n",
       "    </tr>\n",
       "    <tr>\n",
       "      <th>4</th>\n",
       "      <td>Third CALI Run</td>\n",
       "      <td>31 March 1947</td>\n",
       "    </tr>\n",
       "    <tr>\n",
       "      <th>...</th>\n",
       "      <td>...</td>\n",
       "      <td>...</td>\n",
       "    </tr>\n",
       "    <tr>\n",
       "      <th>123</th>\n",
       "      <td>Karangendah Raid</td>\n",
       "      <td>December 1988</td>\n",
       "    </tr>\n",
       "    <tr>\n",
       "      <th>124</th>\n",
       "      <td>Syd Absent</td>\n",
       "      <td>December 1988</td>\n",
       "    </tr>\n",
       "    <tr>\n",
       "      <th>125</th>\n",
       "      <td>Sabam Fires Cameron</td>\n",
       "      <td>December 1988</td>\n",
       "    </tr>\n",
       "    <tr>\n",
       "      <th>126</th>\n",
       "      <td>Victor Learns Truth</td>\n",
       "      <td>December 1988</td>\n",
       "    </tr>\n",
       "    <tr>\n",
       "      <th>127</th>\n",
       "      <td>Cameron Says Goodbye</td>\n",
       "      <td>December 1988</td>\n",
       "    </tr>\n",
       "  </tbody>\n",
       "</table>\n",
       "<p>128 rows × 2 columns</p>\n",
       "</div>"
      ],
      "text/plain": [
       "                               title               date\n",
       "0    Sabam Assigns Muharto Interview  27 September 1988\n",
       "1         Cameron Interviews Muharto  28 September 1988\n",
       "2                      Surprise Call        7 June 1947\n",
       "3                    Flight to Tasik  28 September 1988\n",
       "4                     Third CALI Run      31 March 1947\n",
       "..                               ...                ...\n",
       "123                 Karangendah Raid      December 1988\n",
       "124                       Syd Absent      December 1988\n",
       "125              Sabam Fires Cameron      December 1988\n",
       "126              Victor Learns Truth      December 1988\n",
       "127             Cameron Says Goodbye      December 1988\n",
       "\n",
       "[128 rows x 2 columns]"
      ]
     },
     "execution_count": 4,
     "metadata": {},
     "output_type": "execute_result"
    }
   ],
   "source": [
    "df[['title', 'date']]"
   ]
  },
  {
   "cell_type": "code",
   "execution_count": null,
   "metadata": {},
   "outputs": [],
   "source": []
  }
 ],
 "metadata": {
  "kernelspec": {
   "display_name": "Python 3",
   "language": "python",
   "name": "python3"
  },
  "language_info": {
   "codemirror_mode": {
    "name": "ipython",
    "version": 3
   },
   "file_extension": ".py",
   "mimetype": "text/x-python",
   "name": "python",
   "nbconvert_exporter": "python",
   "pygments_lexer": "ipython3",
   "version": "3.7.9"
  }
 },
 "nbformat": 4,
 "nbformat_minor": 4
}
