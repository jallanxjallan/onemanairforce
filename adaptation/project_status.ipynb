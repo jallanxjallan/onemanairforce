{
 "cells": [
  {
   "cell_type": "code",
   "execution_count": 6,
   "metadata": {},
   "outputs": [],
   "source": [
    "import pandas as pd\n",
    "from pathlib import Path\n",
    "from storage.cherrytree import CherryTree\n",
    "from utility.config import load_config\n",
    "import sys\n",
    "import redis\n",
    "import dateparser\n",
    "\n",
    "cf = load_config()\n",
    "namespace = cf.get('namespace', 'document')\n",
    "base_node = cf.get('base-node', None)\n",
    "r = redis.Redis(decode_responses=True)\n"
   ]
  },
  {
   "cell_type": "code",
   "execution_count": 7,
   "metadata": {},
   "outputs": [],
   "source": [
    "def load_status_data():\n",
    "    ct = CherryTree(cf['index-file']) \n",
    "    di = f'{namespace}:filepath.document:index'\n",
    "    data = []\n",
    "    for node in [n for n in ct.nodes(base_node) if n.filepath]:\n",
    "        dk = r.hget(di, node.filepath)\n",
    "        if dk:\n",
    "            item = {**{'name':node.name, 'level':node.level}, **r.hgetall(dk)}\n",
    "            data.append(item)\n",
    "        else:\n",
    "            print(dk, 'not found')\n",
    "    \n",
    "    return pd.DataFrame(data).fillna('No Data')\n"
   ]
  },
  {
   "cell_type": "code",
   "execution_count": 8,
   "metadata": {},
   "outputs": [],
   "source": [
    "df =load_status_data()"
   ]
  },
  {
   "cell_type": "code",
   "execution_count": 9,
   "metadata": {},
   "outputs": [
    {
     "data": {
      "text/html": [
       "<div>\n",
       "<style scoped>\n",
       "    .dataframe tbody tr th:only-of-type {\n",
       "        vertical-align: middle;\n",
       "    }\n",
       "\n",
       "    .dataframe tbody tr th {\n",
       "        vertical-align: top;\n",
       "    }\n",
       "\n",
       "    .dataframe thead th {\n",
       "        text-align: right;\n",
       "    }\n",
       "</style>\n",
       "<table border=\"1\" class=\"dataframe\">\n",
       "  <thead>\n",
       "    <tr style=\"text-align: right;\">\n",
       "      <th></th>\n",
       "      <th>name</th>\n",
       "      <th>date</th>\n",
       "    </tr>\n",
       "  </thead>\n",
       "  <tbody>\n",
       "    <tr>\n",
       "      <th>0</th>\n",
       "      <td>Cameron Assigned Story</td>\n",
       "      <td>27 September 1988</td>\n",
       "    </tr>\n",
       "    <tr>\n",
       "      <th>1</th>\n",
       "      <td>Muharto First Interview</td>\n",
       "      <td>28 September 1988</td>\n",
       "    </tr>\n",
       "    <tr>\n",
       "      <th>2</th>\n",
       "      <td>Surprise Call</td>\n",
       "      <td>7 June 1947</td>\n",
       "    </tr>\n",
       "    <tr>\n",
       "      <th>3</th>\n",
       "      <td>Flight to Tasik</td>\n",
       "      <td>28 September 1988</td>\n",
       "    </tr>\n",
       "    <tr>\n",
       "      <th>4</th>\n",
       "      <td>Third CALI Run</td>\n",
       "      <td>31 March 1947</td>\n",
       "    </tr>\n",
       "    <tr>\n",
       "      <th>...</th>\n",
       "      <td>...</td>\n",
       "      <td>...</td>\n",
       "    </tr>\n",
       "    <tr>\n",
       "      <th>121</th>\n",
       "      <td>Bambang Studies Bob</td>\n",
       "      <td>September 1948</td>\n",
       "    </tr>\n",
       "    <tr>\n",
       "      <th>122</th>\n",
       "      <td>Syd Dies</td>\n",
       "      <td>December 1988</td>\n",
       "    </tr>\n",
       "    <tr>\n",
       "      <th>123</th>\n",
       "      <td>Sabam Fires Cameron</td>\n",
       "      <td>December 1988</td>\n",
       "    </tr>\n",
       "    <tr>\n",
       "      <th>124</th>\n",
       "      <td>Victor told truth</td>\n",
       "      <td>December 1988</td>\n",
       "    </tr>\n",
       "    <tr>\n",
       "      <th>125</th>\n",
       "      <td>Cameron Says Goodbye</td>\n",
       "      <td>December 1988</td>\n",
       "    </tr>\n",
       "  </tbody>\n",
       "</table>\n",
       "<p>126 rows × 2 columns</p>\n",
       "</div>"
      ],
      "text/plain": [
       "                        name               date\n",
       "0     Cameron Assigned Story  27 September 1988\n",
       "1    Muharto First Interview  28 September 1988\n",
       "2              Surprise Call        7 June 1947\n",
       "3            Flight to Tasik  28 September 1988\n",
       "4             Third CALI Run      31 March 1947\n",
       "..                       ...                ...\n",
       "121      Bambang Studies Bob     September 1948\n",
       "122                 Syd Dies      December 1988\n",
       "123      Sabam Fires Cameron      December 1988\n",
       "124        Victor told truth      December 1988\n",
       "125     Cameron Says Goodbye      December 1988\n",
       "\n",
       "[126 rows x 2 columns]"
      ]
     },
     "execution_count": 9,
     "metadata": {},
     "output_type": "execute_result"
    }
   ],
   "source": [
    "df[['name', 'date']]"
   ]
  },
  {
   "cell_type": "code",
   "execution_count": null,
   "metadata": {},
   "outputs": [],
   "source": []
  }
 ],
 "metadata": {
  "kernelspec": {
   "display_name": "Python 3",
   "language": "python",
   "name": "python3"
  },
  "language_info": {
   "codemirror_mode": {
    "name": "ipython",
    "version": 3
   },
   "file_extension": ".py",
   "mimetype": "text/x-python",
   "name": "python",
   "nbconvert_exporter": "python",
   "pygments_lexer": "ipython3",
   "version": "3.7.9"
  }
 },
 "nbformat": 4,
 "nbformat_minor": 4
}
