{
 "cells": [
  {
   "cell_type": "code",
   "execution_count": 1,
   "metadata": {},
   "outputs": [],
   "source": [
    "#%%writefile scripts/story_placements.py\n",
    "#!/usr/bin/env python\n",
    "\n",
    "import pandas as pd\n",
    "from pathlib import Path\n",
    "from storage.cherrytree import CherryTree\n",
    "import sys\n",
    "import dateparser\n",
    "\n"
   ]
  },
  {
   "cell_type": "code",
   "execution_count": 19,
   "metadata": {},
   "outputs": [],
   "source": [
    "def get_timestamp(node):\n",
    "    return next(filter(None, (dateparser.parse(b) for b in node.bullets)), None )"
   ]
  },
  {
   "cell_type": "code",
   "execution_count": 41,
   "metadata": {},
   "outputs": [],
   "source": [
    "ct = CherryTree('content_index.ctd')\n",
    "stories = ('History', 'Investigations', 'Fiction')\n",
    "data = []\n",
    "\n",
    "\n",
    "for node in [n for s in stories for n in ct.nodes(s) if n.level == 3]:\n",
    "    timestamp = get_timestamp(node) or dateparser.parse('1 January 2020')\n",
    "    item = dict(\n",
    "        incident=node.name,\n",
    "        story=node.parent.name,\n",
    "        timestamp=timestamp,\n",
    "        date=timestamp.strftime('%B %Y'),\n",
    "        sequence='Unplaced',\n",
    "        episode='Unplaced'\n",
    "        )\n",
    "    \n",
    "    link = ct.find_elem_by_attribute('link', f'node {node.id}')\n",
    "    if link:\n",
    "        item['sequence'] = link.name\n",
    "        item['episode'] = link.parent.name\n",
    "    data.append(item)\n",
    "    \n",
    "df = pd.DataFrame(data)\n"
   ]
  },
  {
   "cell_type": "code",
   "execution_count": 42,
   "metadata": {},
   "outputs": [
    {
     "data": {
      "text/html": [
       "<div>\n",
       "<style scoped>\n",
       "    .dataframe tbody tr th:only-of-type {\n",
       "        vertical-align: middle;\n",
       "    }\n",
       "\n",
       "    .dataframe tbody tr th {\n",
       "        vertical-align: top;\n",
       "    }\n",
       "\n",
       "    .dataframe thead th {\n",
       "        text-align: right;\n",
       "    }\n",
       "</style>\n",
       "<table border=\"1\" class=\"dataframe\">\n",
       "  <thead>\n",
       "    <tr style=\"text-align: right;\">\n",
       "      <th></th>\n",
       "      <th>incident</th>\n",
       "      <th>story</th>\n",
       "      <th>timestamp</th>\n",
       "      <th>date</th>\n",
       "      <th>sequence</th>\n",
       "      <th>episode</th>\n",
       "      <th>year</th>\n",
       "    </tr>\n",
       "  </thead>\n",
       "  <tbody>\n",
       "  </tbody>\n",
       "</table>\n",
       "</div>"
      ],
      "text/plain": [
       "Empty DataFrame\n",
       "Columns: [incident, story, timestamp, date, sequence, episode, year]\n",
       "Index: []"
      ]
     },
     "execution_count": 42,
     "metadata": {},
     "output_type": "execute_result"
    }
   ],
   "source": [
    "df['year'] = df.timestamp.apply(lambda x: x.year)\n",
    "df[df.year == 2020]"
   ]
  },
  {
   "cell_type": "code",
   "execution_count": null,
   "metadata": {},
   "outputs": [],
   "source": []
  }
 ],
 "metadata": {
  "kernelspec": {
   "display_name": "Python 3",
   "language": "python",
   "name": "python3"
  },
  "language_info": {
   "codemirror_mode": {
    "name": "ipython",
    "version": 3
   },
   "file_extension": ".py",
   "mimetype": "text/x-python",
   "name": "python",
   "nbconvert_exporter": "python",
   "pygments_lexer": "ipython3",
   "version": "3.7.9"
  }
 },
 "nbformat": 4,
 "nbformat_minor": 4
}
