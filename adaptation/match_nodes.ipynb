{
 "cells": [
  {
   "cell_type": "code",
   "execution_count": 9,
   "metadata": {},
   "outputs": [],
   "source": [
    "#%%writefile scripts/story_placements.py\n",
    "#!/usr/bin/env python\n",
    "\n",
    "import pandas as pd\n",
    "from pathlib import Path\n",
    "from storage.cherrytree import CherryTree\n",
    "import sys\n",
    "import redis\n",
    "import dateparser\n",
    "\n",
    "def story_placements(story_node, scenes_node, index_file):\n",
    "    ct = CherryTree(index_file)\n",
    "    story_node = ct.find_node_by_name(story_node)\n",
    "    scene_node = ct.find_node_by_name(scenes_node)\n",
    "    story_links = pd.DataFrame([dict(Scene=n.name, href=l.href, sc_no=no)\n",
    "                                for no, n in enumerate(scene_node.descendants)\n",
    "                                for l in n.links if l.type == 'node'])\n",
    "    story_nodes = pd.DataFrame([dict(Story=n.name, href=n.id, st_no=no)\n",
    "                                for no, n in enumerate(story_node.descendants)])\n",
    "\n",
    "    df = story_nodes.merge(story_links, how='left', on='href')\n",
    "    return df.fillna('Unplaced')[['Story', 'Scene']]\n"
   ]
  },
  {
   "cell_type": "code",
   "execution_count": 5,
   "metadata": {},
   "outputs": [],
   "source": [
    "ct = CherryTree('synopsis.ctd')\n",
    "r = redis.Redis(decode_responses=True)"
   ]
  },
  {
   "cell_type": "code",
   "execution_count": 29,
   "metadata": {},
   "outputs": [],
   "source": [
    "df = pd.DataFrame([r.hgetall(k) for k in r.keys('omaf*')]).fillna('No Data')"
   ]
  },
  {
   "cell_type": "code",
   "execution_count": 30,
   "metadata": {},
   "outputs": [],
   "source": [
    "df['timestamp'] = df.date.apply(lambda x: dateparser.parse(x))"
   ]
  },
  {
   "cell_type": "code",
   "execution_count": null,
   "metadata": {},
   "outputs": [],
   "source": [
    "\n",
    "[s.name for s in ct.nodes('Scenes') \\\n",
    "     if not next((l for l in s.links if  l.type == 'node'), None) if s.filepath]\n",
    "    "
   ]
  },
  {
   "cell_type": "code",
   "execution_count": 3,
   "metadata": {},
   "outputs": [
    {
     "data": {
      "text/plain": [
       "['VTCLA Crashes', 'Banteng Merah', 'Ambarrawa Raid']"
      ]
     },
     "execution_count": 3,
     "metadata": {},
     "output_type": "execute_result"
    }
   ],
   "source": [
    "[n.name for n in ct.nodes() if n.filepath if 'stories' in n.filepath]"
   ]
  },
  {
   "cell_type": "code",
   "execution_count": null,
   "metadata": {},
   "outputs": [],
   "source": [
    "scene_node = 'Scenes'\n",
    "index_file = 'synopsis.ctd'"
   ]
  },
  {
   "cell_type": "code",
   "execution_count": null,
   "metadata": {},
   "outputs": [],
   "source": [
    "story_node = 'Enduring Friendship'\n",
    "story_placements(story_node, scene_node, index_file)"
   ]
  },
  {
   "cell_type": "code",
   "execution_count": null,
   "metadata": {},
   "outputs": [],
   "source": [
    "[s.name for s in ct.nodes() if s.filepath \\\n",
    "  if 'scenes' in s.filepath \\\n",
    "  if not next((a for a in s.ancestors if a.name == 'Scenes'), None)]\n",
    "             "
   ]
  },
  {
   "cell_type": "code",
   "execution_count": 39,
   "metadata": {},
   "outputs": [
    {
     "data": {
      "text/html": [
       "<div>\n",
       "<style scoped>\n",
       "    .dataframe tbody tr th:only-of-type {\n",
       "        vertical-align: middle;\n",
       "    }\n",
       "\n",
       "    .dataframe tbody tr th {\n",
       "        vertical-align: top;\n",
       "    }\n",
       "\n",
       "    .dataframe thead th {\n",
       "        text-align: right;\n",
       "    }\n",
       "</style>\n",
       "<table border=\"1\" class=\"dataframe\">\n",
       "  <thead>\n",
       "    <tr style=\"text-align: right;\">\n",
       "      <th></th>\n",
       "      <th>title</th>\n",
       "      <th>seq</th>\n",
       "    </tr>\n",
       "  </thead>\n",
       "  <tbody>\n",
       "    <tr>\n",
       "      <th>111</th>\n",
       "      <td>Sabam Assigns Muharto Interview</td>\n",
       "      <td>0</td>\n",
       "    </tr>\n",
       "    <tr>\n",
       "      <th>44</th>\n",
       "      <td>Cameron Interviews Muharto</td>\n",
       "      <td>1</td>\n",
       "    </tr>\n",
       "    <tr>\n",
       "      <th>98</th>\n",
       "      <td>Beach Landing</td>\n",
       "      <td>10</td>\n",
       "    </tr>\n",
       "    <tr>\n",
       "      <th>24</th>\n",
       "      <td>SE Air Bankrupt</td>\n",
       "      <td>100</td>\n",
       "    </tr>\n",
       "    <tr>\n",
       "      <th>53</th>\n",
       "      <td>Spite Their Face</td>\n",
       "      <td>101</td>\n",
       "    </tr>\n",
       "    <tr>\n",
       "      <th>...</th>\n",
       "      <td>...</td>\n",
       "      <td>...</td>\n",
       "    </tr>\n",
       "    <tr>\n",
       "      <th>54</th>\n",
       "      <td>Bob Returns</td>\n",
       "      <td>95</td>\n",
       "    </tr>\n",
       "    <tr>\n",
       "      <th>64</th>\n",
       "      <td>POAS Flights</td>\n",
       "      <td>96</td>\n",
       "    </tr>\n",
       "    <tr>\n",
       "      <th>117</th>\n",
       "      <td>Spoor Orders Night Patrol</td>\n",
       "      <td>97</td>\n",
       "    </tr>\n",
       "    <tr>\n",
       "      <th>6</th>\n",
       "      <td>Partner Has Done Nothing</td>\n",
       "      <td>98</td>\n",
       "    </tr>\n",
       "    <tr>\n",
       "      <th>101</th>\n",
       "      <td>Reconciling With Muharto.</td>\n",
       "      <td>99</td>\n",
       "    </tr>\n",
       "  </tbody>\n",
       "</table>\n",
       "<p>127 rows × 2 columns</p>\n",
       "</div>"
      ],
      "text/plain": [
       "                               title  seq\n",
       "111  Sabam Assigns Muharto Interview    0\n",
       "44        Cameron Interviews Muharto    1\n",
       "98                     Beach Landing   10\n",
       "24                   SE Air Bankrupt  100\n",
       "53                  Spite Their Face  101\n",
       "..                               ...  ...\n",
       "54                       Bob Returns   95\n",
       "64                      POAS Flights   96\n",
       "117        Spoor Orders Night Patrol   97\n",
       "6           Partner Has Done Nothing   98\n",
       "101        Reconciling With Muharto.   99\n",
       "\n",
       "[127 rows x 2 columns]"
      ]
     },
     "execution_count": 39,
     "metadata": {},
     "output_type": "execute_result"
    }
   ],
   "source": [
    "df.sort_values('seq')[['title', 'seq']]"
   ]
  },
  {
   "cell_type": "code",
   "execution_count": 35,
   "metadata": {},
   "outputs": [
    {
     "data": {
      "text/plain": [
       "0       91\n",
       "1       72\n",
       "2       12\n",
       "3       21\n",
       "4       90\n",
       "      ... \n",
       "122     49\n",
       "123     20\n",
       "124    116\n",
       "125     79\n",
       "126     65\n",
       "Name: seq, Length: 127, dtype: object"
      ]
     },
     "execution_count": 35,
     "metadata": {},
     "output_type": "execute_result"
    }
   ],
   "source": [
    "df.seq"
   ]
  },
  {
   "cell_type": "code",
   "execution_count": null,
   "metadata": {},
   "outputs": [],
   "source": []
  }
 ],
 "metadata": {
  "kernelspec": {
   "display_name": "Python 3",
   "language": "python",
   "name": "python3"
  },
  "language_info": {
   "codemirror_mode": {
    "name": "ipython",
    "version": 3
   },
   "file_extension": ".py",
   "mimetype": "text/x-python",
   "name": "python",
   "nbconvert_exporter": "python",
   "pygments_lexer": "ipython3",
   "version": "3.7.9"
  }
 },
 "nbformat": 4,
 "nbformat_minor": 4
}
