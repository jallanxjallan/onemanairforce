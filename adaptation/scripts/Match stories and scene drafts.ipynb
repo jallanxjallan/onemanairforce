{
 "cells": [
  {
   "cell_type": "code",
   "execution_count": null,
   "metadata": {},
   "outputs": [],
   "source": [
    "import sys\n",
    "sys.path.append('/home/jeremy/Library')\n",
    "from storage.cherrytree import CherryTree\n",
    "from pathlib import Path\n",
    "import shutil\n",
    "import pandas as pd\n",
    "from utility.helpers import snake_case\n",
    "target_dir = Path('scenes')"
   ]
  },
  {
   "cell_type": "code",
   "execution_count": 40,
   "metadata": {},
   "outputs": [],
   "source": [
    "def scene_links(story):\n",
    "    ct = CherryTree('synopsis.ctd')\n",
    "    story_node = ct.find_node_by_name(story)\n",
    "    scene_node = ct.find_node_by_name('Scenes')\n",
    "    story_links = pd.DataFrame([dict(Scene=n.name, href=l.href) \\\n",
    "                    for n in scene_node.descendants \\\n",
    "                   for l in n.links if l.type == 'node'])\n",
    "    story_nodes = pd.DataFrame([dict(Story=n.name, href=n.id) \\\n",
    "                    for n in story_node.descendants])\n",
    "   \n",
    "    df = story_nodes.merge(story_links, how='left', on='href')[['Story', 'Scene']]\n",
    "    return df.fillna('Unplaced')\n",
    "    \n",
    "    \n",
    "    "
   ]
  },
  {
   "cell_type": "code",
   "execution_count": 24,
   "metadata": {},
   "outputs": [],
   "source": [
    "def file_matches():\n",
    "    ct = CherryTree('synopsis.ctd')\n",
    "    nodes = set([n.filepath for n in ct.nodes('Flight To Tasik') if n.filepath ])\n",
    "    files = set([str(f) for f in Path('scenes').iterdir()])\n",
    "    return [f for f in nodes.difference(files) if f.endswith('.md')]\n",
    "    "
   ]
  },
  {
   "cell_type": "code",
   "execution_count": 51,
   "metadata": {},
   "outputs": [
    {
     "data": {
      "text/html": [
       "<div>\n",
       "<style scoped>\n",
       "    .dataframe tbody tr th:only-of-type {\n",
       "        vertical-align: middle;\n",
       "    }\n",
       "\n",
       "    .dataframe tbody tr th {\n",
       "        vertical-align: top;\n",
       "    }\n",
       "\n",
       "    .dataframe thead th {\n",
       "        text-align: right;\n",
       "    }\n",
       "</style>\n",
       "<table border=\"1\" class=\"dataframe\">\n",
       "  <thead>\n",
       "    <tr style=\"text-align: right;\">\n",
       "      <th></th>\n",
       "      <th>Story</th>\n",
       "      <th>Scene</th>\n",
       "    </tr>\n",
       "  </thead>\n",
       "  <tbody>\n",
       "    <tr>\n",
       "      <th>0</th>\n",
       "      <td>Cameron Meets Julia</td>\n",
       "      <td>Cameron Meets Julia</td>\n",
       "    </tr>\n",
       "    <tr>\n",
       "      <th>1</th>\n",
       "      <td>Lunch With Julia</td>\n",
       "      <td>Lunch with Julia</td>\n",
       "    </tr>\n",
       "    <tr>\n",
       "      <th>2</th>\n",
       "      <td>Julia Rides a Harley</td>\n",
       "      <td>Julia Rides a Harley</td>\n",
       "    </tr>\n",
       "    <tr>\n",
       "      <th>3</th>\n",
       "      <td>Julia Admires Ani</td>\n",
       "      <td>Julia Admires Ani</td>\n",
       "    </tr>\n",
       "    <tr>\n",
       "      <th>4</th>\n",
       "      <td>Julia Researches Emeria</td>\n",
       "      <td>Julia Researches Emiria</td>\n",
       "    </tr>\n",
       "    <tr>\n",
       "      <th>5</th>\n",
       "      <td>Beres Sayang</td>\n",
       "      <td>Beres Sayang</td>\n",
       "    </tr>\n",
       "    <tr>\n",
       "      <th>6</th>\n",
       "      <td>Date With Eric</td>\n",
       "      <td>Date With Eric</td>\n",
       "    </tr>\n",
       "    <tr>\n",
       "      <th>7</th>\n",
       "      <td>Julia goes ballistic</td>\n",
       "      <td>Expat Party</td>\n",
       "    </tr>\n",
       "    <tr>\n",
       "      <th>8</th>\n",
       "      <td>Cameron spills the beans</td>\n",
       "      <td>Cameron Spills the Beans</td>\n",
       "    </tr>\n",
       "    <tr>\n",
       "      <th>9</th>\n",
       "      <td>Julia Confronts Eddy</td>\n",
       "      <td>Julia confronts Eddy</td>\n",
       "    </tr>\n",
       "    <tr>\n",
       "      <th>10</th>\n",
       "      <td>Julia finds Emeria</td>\n",
       "      <td>Julia Finds Emeria</td>\n",
       "    </tr>\n",
       "    <tr>\n",
       "      <th>11</th>\n",
       "      <td>Bule Kere</td>\n",
       "      <td>Unplaced</td>\n",
       "    </tr>\n",
       "    <tr>\n",
       "      <th>12</th>\n",
       "      <td>Julia Decides to Stay</td>\n",
       "      <td>Unplaced</td>\n",
       "    </tr>\n",
       "  </tbody>\n",
       "</table>\n",
       "</div>"
      ],
      "text/plain": [
       "                       Story                     Scene\n",
       "0        Cameron Meets Julia       Cameron Meets Julia\n",
       "1           Lunch With Julia          Lunch with Julia\n",
       "2       Julia Rides a Harley      Julia Rides a Harley\n",
       "3          Julia Admires Ani         Julia Admires Ani\n",
       "4   Julia Researches Emeria    Julia Researches Emiria\n",
       "5               Beres Sayang              Beres Sayang\n",
       "6             Date With Eric            Date With Eric\n",
       "7       Julia goes ballistic               Expat Party\n",
       "8   Cameron spills the beans  Cameron Spills the Beans\n",
       "9       Julia Confronts Eddy      Julia confronts Eddy\n",
       "10        Julia finds Emeria        Julia Finds Emeria\n",
       "11                 Bule Kere                  Unplaced\n",
       "12     Julia Decides to Stay                  Unplaced"
      ]
     },
     "execution_count": 51,
     "metadata": {},
     "output_type": "execute_result"
    }
   ],
   "source": [
    "scene_links('Bule Hunter')"
   ]
  },
  {
   "cell_type": "code",
   "execution_count": null,
   "metadata": {},
   "outputs": [],
   "source": [
    "[f for f in files.difference(nodes) if f.endswith('.md')]"
   ]
  },
  {
   "cell_type": "code",
   "execution_count": null,
   "metadata": {},
   "outputs": [],
   "source": [
    "\n"
   ]
  },
  {
   "cell_type": "code",
   "execution_count": null,
   "metadata": {},
   "outputs": [],
   "source": [
    "sequence\n",
    "\n"
   ]
  },
  {
   "cell_type": "code",
   "execution_count": null,
   "metadata": {},
   "outputs": [],
   "source": [
    "from collections import Counter"
   ]
  },
  {
   "cell_type": "code",
   "execution_count": null,
   "metadata": {},
   "outputs": [],
   "source": [
    "ct = CherryTree('synopsis.ctd')\n",
    "[k for k,v in Counter([n.name for n in ct.nodes()]).items() if v > 1]"
   ]
  },
  {
   "cell_type": "code",
   "execution_count": null,
   "metadata": {},
   "outputs": [],
   "source": [
    "from uuid import uuid4"
   ]
  },
  {
   "cell_type": "code",
   "execution_count": null,
   "metadata": {},
   "outputs": [],
   "source": [
    "uuid4().hex[:8]"
   ]
  },
  {
   "cell_type": "code",
   "execution_count": null,
   "metadata": {},
   "outputs": [],
   "source": []
  }
 ],
 "metadata": {
  "kernelspec": {
   "display_name": "Python 3",
   "language": "python",
   "name": "python3"
  },
  "language_info": {
   "codemirror_mode": {
    "name": "ipython",
    "version": 3
   },
   "file_extension": ".py",
   "mimetype": "text/x-python",
   "name": "python",
   "nbconvert_exporter": "python",
   "pygments_lexer": "ipython3",
   "version": "3.7.9"
  }
 },
 "nbformat": 4,
 "nbformat_minor": 4
}
