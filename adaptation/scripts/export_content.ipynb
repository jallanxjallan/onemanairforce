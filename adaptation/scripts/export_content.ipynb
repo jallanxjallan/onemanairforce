{
 "cells": [
  {
   "cell_type": "code",
   "execution_count": 30,
   "metadata": {},
   "outputs": [],
   "source": [
    "import sys\n",
    "import os\n",
    "import re\n",
    "\n",
    "\n",
    "from pathlib import Path\n",
    "\n",
    "from storage.cherrytree import CherryTree, Link\n",
    "from utility.helpers import snake_case\n",
    "from document.pandoc import PandocArgs, interfile, run_pandoc\n"
   ]
  },
  {
   "cell_type": "code",
   "execution_count": 39,
   "metadata": {},
   "outputs": [],
   "source": [
    "def get_links(node):\n",
    "    for elem in node.element.iterchildren('rich_text'):\n",
    "        if 'link' in elem.attrib:\n",
    "            link = Link(elem)\n",
    "            ref_node = ct.find_node_by_id(link.href)\n",
    "            yield ref_node.filepath\n",
    "        else:\n",
    "            yield interfile(elem.text)\n"
   ]
  },
  {
   "cell_type": "code",
   "execution_count": 41,
   "metadata": {},
   "outputs": [],
   "source": [
    "def export_synopsis(ct, output_dir, base_name): \n",
    "    args = [PandocArgs(\n",
    "            input=[l for n in ct.nodes(base_name) for l in get_links(n) if n.text],\n",
    "            output= Path(output_dir).joinpath('synopsis').with_suffix('.md'),\n",
    "            template='synopsis',\n",
    "            filters=['strip_codeblocks.lua']\n",
    "    )]\n",
    "    \n",
    "    return run_pandoc(args)"
   ]
  },
  {
   "cell_type": "code",
   "execution_count": 42,
   "metadata": {},
   "outputs": [
    {
     "data": {
      "text/plain": [
       "('',\n",
       " 'pandoc: [/tmp/tmpmnfmhjao.md,: openBinaryFile: does not exist (No such file or directory)\\n')"
      ]
     },
     "execution_count": 42,
     "metadata": {},
     "output_type": "execute_result"
    }
   ],
   "source": [
    "ct = CherryTree('synopsis.ctd')\n",
    "export_synopsis(ct, 'output', 'Synopsis')"
   ]
  },
  {
   "cell_type": "code",
   "execution_count": null,
   "metadata": {},
   "outputs": [],
   "source": []
  }
 ],
 "metadata": {
  "kernelspec": {
   "display_name": "Python 3",
   "language": "python",
   "name": "python3"
  },
  "language_info": {
   "codemirror_mode": {
    "name": "ipython",
    "version": 3
   },
   "file_extension": ".py",
   "mimetype": "text/x-python",
   "name": "python",
   "nbconvert_exporter": "python",
   "pygments_lexer": "ipython3",
   "version": "3.7.9"
  }
 },
 "nbformat": 4,
 "nbformat_minor": 4
}
