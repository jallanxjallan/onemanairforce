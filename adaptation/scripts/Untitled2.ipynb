{
 "cells": [
  {
   "cell_type": "code",
   "execution_count": 3,
   "metadata": {},
   "outputs": [],
   "source": [
    "# %load ../scripts/match_nodes.py\n",
    "#!/usr/bin/env python\n",
    "\n",
    "# In[ ]:\n",
    "\n",
    "\n",
    "import sys\n",
    "sys.path.append('/home/jeremy/Library')\n",
    "from storage.cherrytree import CherryTree\n",
    "from pathlib import Path\n",
    "import shutil\n",
    "import pandas as pd\n",
    "from utility.helpers import snake_case\n",
    "target_dir = Path('scenes')\n",
    "\n",
    "\n",
    "# In[40]:\n",
    "\n",
    "\n",
    "def scene_links(story):\n",
    "    ct = CherryTree('synopsis.ctd')\n",
    "    story_node = ct.find_node_by_name(story)\n",
    "    scene_node = ct.find_node_by_name('Scenes')\n",
    "    story_links = pd.DataFrame([dict(Scene=n.name, href=l.href)                     for n in scene_node.descendants                    for l in n.links if l.type == 'node'])\n",
    "    story_nodes = pd.DataFrame([dict(Story=n.name, href=n.id)                     for n in story_node.descendants])\n",
    "   \n",
    "    df = story_nodes.merge(story_links, how='left', on='href')[['Story', 'Scene']]\n",
    "    return df.fillna('Unplaced')\n",
    "    \n",
    "\n",
    "def file_matches():\n",
    "    ct = CherryTree('synopsis.ctd')\n",
    "    nodes = set([n.filepath for n in ct.nodes('Flight To Tasik') if n.filepath ])\n",
    "    files = set([str(f) for f in Path('scenes').iterdir()])\n",
    "    return [f for f in nodes.difference(files) if f.endswith('.md')]\n",
    "    "
   ]
  },
  {
   "cell_type": "code",
   "execution_count": null,
   "metadata": {},
   "outputs": [],
   "source": [
    "scene_links(\"Big Bre\")"
   ]
  }
 ],
 "metadata": {
  "kernelspec": {
   "display_name": "Python 3",
   "language": "python",
   "name": "python3"
  },
  "language_info": {
   "codemirror_mode": {
    "name": "ipython",
    "version": 3
   },
   "file_extension": ".py",
   "mimetype": "text/x-python",
   "name": "python",
   "nbconvert_exporter": "python",
   "pygments_lexer": "ipython3",
   "version": "3.7.9"
  }
 },
 "nbformat": 4,
 "nbformat_minor": 4
}
