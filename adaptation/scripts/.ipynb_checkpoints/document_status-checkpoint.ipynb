{
 "cells": [
  {
   "cell_type": "code",
   "execution_count": null,
   "metadata": {},
   "outputs": [],
   "source": [
    "import sys\n",
    "import os\n",
    "import re\n",
    "import pandas as pd\n",
    "import redis\n",
    "sys.path.append('/home/jeremy/Library')\n",
    "\n",
    "from storage.cherrytree import CherryTree\n",
    "\n",
    "r = redis.Redis(decode_responses=True)\n",
    "project_index_key = 'projects:filepath.document:index'\n"
   ]
  },
  {
   "cell_type": "code",
   "execution_count": null,
   "metadata": {},
   "outputs": [],
   "source": [
    "def get_document_metadata(node):\n",
    "    document_key = r.hget(project_index_key, node.filepath)\n",
    "    if not document_key:\n",
    "        return None\n",
    "    document_data_key = r.hget(document_key, 'metadata')\n",
    "    if not document_data_key:\n",
    "        return None\n",
    "    data = {k:v for k,v in r.hgetall(document_data_key).items()}\n",
    "    if not data:\n",
    "        return None\n",
    "    return dict(node=node, data=data)\n",
    "    "
   ]
  },
  {
   "cell_type": "code",
   "execution_count": 13,
   "metadata": {},
   "outputs": [],
   "source": [
    "ct = CherryTree('content.ctd')\n",
    "df = pd.DataFrame(filter(None, [get_document_metadata(n) for n in ct.nodes() if n.filepath]))\n",
    "df['name'] = df.node.apply(lambda x: x.name)\n",
    "df['status'] = df.data.apply(lambda x: x.get('status'))"
   ]
  },
  {
   "cell_type": "code",
   "execution_count": 16,
   "metadata": {},
   "outputs": [
    {
     "data": {
      "text/plain": [
       "[]"
      ]
     },
     "execution_count": 16,
     "metadata": {},
     "output_type": "execute_result"
    }
   ],
   "source": [
    "[r.name for r in df.itertuples() if not r.data.get('component')] "
   ]
  },
  {
   "cell_type": "code",
   "execution_count": 20,
   "metadata": {},
   "outputs": [
    {
     "data": {
      "text/plain": [
       "262    Nagano Gushes\n",
       "Name: name, dtype: object"
      ]
     },
     "execution_count": 20,
     "metadata": {},
     "output_type": "execute_result"
    }
   ],
   "source": [
    "# ndf = df.dropna()\n",
    "df[df.component.str.contains('interview')].name\n"
   ]
  },
  {
   "cell_type": "code",
   "execution_count": null,
   "metadata": {},
   "outputs": [],
   "source": [
    "%run Converter.py store_document_metadata.py --idx=content.ctd"
   ]
  },
  {
   "cell_type": "code",
   "execution_count": null,
   "metadata": {},
   "outputs": [],
   "source": [
    "df.head()"
   ]
  },
  {
   "cell_type": "code",
   "execution_count": 15,
   "metadata": {},
   "outputs": [
    {
     "data": {
      "text/plain": [
       "array(['narrative', 'background', 'current', 'article', 'news', 'memoir',\n",
       "       'letter', 'interview', 'narration'], dtype=object)"
      ]
     },
     "execution_count": 15,
     "metadata": {},
     "output_type": "execute_result"
    }
   ],
   "source": [
    "df['component'] = df.data.apply(lambda x: x.get('component'))\n",
    "df.component.unique()"
   ]
  },
  {
   "cell_type": "code",
   "execution_count": null,
   "metadata": {},
   "outputs": [],
   "source": []
  }
 ],
 "metadata": {
  "kernelspec": {
   "display_name": "Python 3",
   "language": "python",
   "name": "python3"
  },
  "language_info": {
   "codemirror_mode": {
    "name": "ipython",
    "version": 3
   },
   "file_extension": ".py",
   "mimetype": "text/x-python",
   "name": "python",
   "nbconvert_exporter": "python",
   "pygments_lexer": "ipython3",
   "version": "3.7.9"
  }
 },
 "nbformat": 4,
 "nbformat_minor": 4
}
