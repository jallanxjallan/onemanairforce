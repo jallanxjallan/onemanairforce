{
 "cells": [
  {
   "cell_type": "code",
   "execution_count": null,
   "metadata": {},
   "outputs": [],
   "source": [
    "import sys\n",
    "sys.path.append('/home/jeremy/Library')\n",
    "from storage.cherrytree import CherryTree\n",
    "from pathlib import Path\n",
    "from utility.helpers import snake_case\n",
    "target_dir = Path('stories')"
   ]
  },
  {
   "cell_type": "code",
   "execution_count": null,
   "metadata": {},
   "outputs": [],
   "source": [
    "ct = CherryTree('synopsis.ctd')\n",
    "nodes = set([n.filepath for n in ct.nodes('Stories') if n.filepath ])\n",
    "files = set([str(f) for f in Path('stories').iterdir()])\n"
   ]
  },
  {
   "cell_type": "code",
   "execution_count": null,
   "metadata": {},
   "outputs": [],
   "source": [
    "\n",
    "for node in [n for n in ct.nodes('Stories') if not n.filepath if n.level == 4]:\n",
    "    target_file = target_dir.joinpath(snake_case(node.name)).with_suffix('.md')\n",
    "    if target_file.exists():\n",
    "        node.insert_link(href=str(target_file), text='Story')\n",
    "ct.save()\n"
   ]
  },
  {
   "cell_type": "code",
   "execution_count": 11,
   "metadata": {},
   "outputs": [
    {
     "data": {
      "text/plain": [
       "['stories/cameron_meets_boedi.md',\n",
       " 'stories/banteng_merah.md',\n",
       " 'stories/news_of_the_indos.md',\n",
       " 'stories/funding_the_coup.md',\n",
       " 'stories/visiting_affandi.md',\n",
       " 'stories/crash_site_investigation.md',\n",
       " 'stories/muharto_investigates.md',\n",
       " 'stories/crash_of_ri003.md',\n",
       " 'stories/introducing_freeberg.md',\n",
       " 'stories/julia_finds_photo.md',\n",
       " 'stories/the_sixth_coffin.md',\n",
       " 'stories/muharto_regrets.md',\n",
       " 'stories/ambarrawa_raid.md']"
      ]
     },
     "execution_count": 11,
     "metadata": {},
     "output_type": "execute_result"
    }
   ],
   "source": [
    "ct = CherryTree('synopsis.ctd')\n",
    "nodes = set([n.filepath for n in ct.nodes('Stories') if n.filepath ])\n",
    "files = set([str(f) for f in Path('stories').iterdir()])\n",
    "[f for f in files.difference(nodes) if f.endswith('.md')]:"
   ]
  },
  {
   "cell_type": "code",
   "execution_count": null,
   "metadata": {},
   "outputs": [],
   "source": [
    "files.difference(nodes)"
   ]
  },
  {
   "cell_type": "code",
   "execution_count": 10,
   "metadata": {},
   "outputs": [
    {
     "data": {
      "text/plain": [
       "['stories/lousy_painting.md']"
      ]
     },
     "execution_count": 10,
     "metadata": {},
     "output_type": "execute_result"
    }
   ],
   "source": [
    "ct = CherryTree('synopsis.ctd')\n",
    "[n.filepath for n in ct.nodes('Stories') if n.filepath if not 'omaf' in Path(n.filepath).read_text()]"
   ]
  },
  {
   "cell_type": "code",
   "execution_count": 9,
   "metadata": {},
   "outputs": [
    {
     "data": {
      "text/plain": [
       "['Smuggled Gems',\n",
       " 'Ining Is Dood',\n",
       " 'Spite Their Face',\n",
       " 'Bob Furious',\n",
       " 'Subjects of the Queen',\n",
       " 'Muharto Appalled',\n",
       " 'Aviation Licences',\n",
       " 'Non Stop to Jogja',\n",
       " 'Tom Lee Treats',\n",
       " 'VT-CLA Crashes',\n",
       " 'Landing at KarangEndah',\n",
       " 'CALI Runs',\n",
       " 'Drop Over Bukittinggi',\n",
       " 'Primitivo Accuses',\n",
       " 'Reconciling With Muharto.']"
      ]
     },
     "execution_count": 9,
     "metadata": {},
     "output_type": "execute_result"
    }
   ],
   "source": [
    "story = 'Expecting To Fly'\n",
    "\n",
    "ct = CherryTree('synopsis.ctd')\n",
    "refs = set([l.href for n in ct.nodes('Sequences') for l in n.links if l.type == 'node'])\n",
    "nodes = set([n.id for n in ct.nodes(story) if n.filepath])\n",
    "[ct.find_node_by_id(n).name for n in nodes.difference(refs)]"
   ]
  },
  {
   "cell_type": "code",
   "execution_count": null,
   "metadata": {},
   "outputs": [],
   "source": [
    "ct = CherryTree('synopsis.ctd')\n",
    "story = 'Art and War'\n",
    "sequence = {l.href:n.name for n in ct.nodes('Sequences') for l in n.links if l.type == 'node'}\n",
    "[(n.name, sequence.get(n.id, 'Unplaced')) for n in  ct.nodes(story)]"
   ]
  },
  {
   "cell_type": "code",
   "execution_count": null,
   "metadata": {},
   "outputs": [],
   "source": [
    "sequence\n",
    "\n"
   ]
  },
  {
   "cell_type": "code",
   "execution_count": null,
   "metadata": {},
   "outputs": [],
   "source": [
    "from collections import Counter"
   ]
  },
  {
   "cell_type": "code",
   "execution_count": null,
   "metadata": {},
   "outputs": [],
   "source": [
    "ct = CherryTree('synopsis.ctd')\n",
    "[k for k,v in Counter([n.name for n in ct.nodes()]).items() if v > 1]"
   ]
  },
  {
   "cell_type": "code",
   "execution_count": 6,
   "metadata": {},
   "outputs": [],
   "source": [
    "from uuid import uuid4"
   ]
  },
  {
   "cell_type": "code",
   "execution_count": 8,
   "metadata": {},
   "outputs": [
    {
     "data": {
      "text/plain": [
       "'93b5139c'"
      ]
     },
     "execution_count": 8,
     "metadata": {},
     "output_type": "execute_result"
    }
   ],
   "source": [
    "uuid4().hex[:8]"
   ]
  },
  {
   "cell_type": "code",
   "execution_count": null,
   "metadata": {},
   "outputs": [],
   "source": []
  }
 ],
 "metadata": {
  "kernelspec": {
   "display_name": "Python 3",
   "language": "python",
   "name": "python3"
  },
  "language_info": {
   "codemirror_mode": {
    "name": "ipython",
    "version": 3
   },
   "file_extension": ".py",
   "mimetype": "text/x-python",
   "name": "python",
   "nbconvert_exporter": "python",
   "pygments_lexer": "ipython3",
   "version": "3.7.9"
  }
 },
 "nbformat": 4,
 "nbformat_minor": 4
}
