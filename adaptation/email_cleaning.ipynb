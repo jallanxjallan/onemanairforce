{
 "cells": [
  {
   "cell_type": "code",
   "execution_count": null,
   "metadata": {},
   "outputs": [],
   "source": [
    "from googlesearch import search"
   ]
  },
  {
   "cell_type": "code",
   "execution_count": null,
   "metadata": {},
   "outputs": [],
   "source": [
    "import pandas as pd"
   ]
  },
  {
   "cell_type": "code",
   "execution_count": null,
   "metadata": {},
   "outputs": [],
   "source": [
    "my_results_list = []\n",
    "for i in search(query,        # The query you want to run\n",
    "                tld = 'com',  # The top level domain\n",
    "                lang = 'en',  # The language\n",
    "                num = 10,     # Number of results per page\n",
    "                start = 0,    # First result to retrieve\n",
    "                stop = None,  # Last result to retrieve\n",
    "                pause = 2.0,  # Lapse between HTTP requests\n",
    "               ):\n",
    "    my_results_list.append(i)\n",
    "    print(i)"
   ]
  },
  {
   "cell_type": "code",
   "execution_count": null,
   "metadata": {},
   "outputs": [],
   "source": [
    "df = pd.read_csv('test_batch.txt', header=None)\n",
    "df.head()"
   ]
  },
  {
   "cell_type": "code",
   "execution_count": null,
   "metadata": {},
   "outputs": [],
   "source": [
    "df.rename(columns={0:'email'}, inplace=True)\n",
    "df.head()"
   ]
  },
  {
   "cell_type": "code",
   "execution_count": null,
   "metadata": {},
   "outputs": [],
   "source": [
    "t = df.drop_duplicates()\n"
   ]
  },
  {
   "cell_type": "code",
   "execution_count": null,
   "metadata": {},
   "outputs": [],
   "source": [
    "from sqlalchemy import create_engine\n",
    "engine = create_engine('sqlite:///test_emails.sql', echo=False)"
   ]
  },
  {
   "cell_type": "code",
   "execution_count": null,
   "metadata": {},
   "outputs": [],
   "source": [
    "t.to_sql('addresses', con=engine)"
   ]
  },
  {
   "cell_type": "code",
   "execution_count": null,
   "metadata": {},
   "outputs": [],
   "source": [
    "from bs4 import BeautifulSoup\n",
    "import requests"
   ]
  },
  {
   "cell_type": "code",
   "execution_count": null,
   "metadata": {},
   "outputs": [],
   "source": [
    "df = t"
   ]
  },
  {
   "cell_type": "code",
   "execution_count": null,
   "metadata": {},
   "outputs": [],
   "source": [
    "df.describe()"
   ]
  },
  {
   "cell_type": "code",
   "execution_count": null,
   "metadata": {},
   "outputs": [],
   "source": [
    "urls = []\n",
    "for r in df.iloc[11:100].itertuples(): \n",
    "    print('searching for ', r.email)\n",
    "    for i in search(r.email,        # The query you want to run\n",
    "                tld = 'com',  # The top level domain\n",
    "                lang = 'en',  # The language\n",
    "                num = 10,     # Number of results per page\n",
    "                start = 0,    # First result to retrieve\n",
    "                stop = 10,  # Last result to retrieve\n",
    "                pause = 2.0,  # Lapse between HTTP requests\n",
    "               ):\n",
    "        urls.append((r.email, i))\n",
    "dfu = pd.DataFrame(urls, columns=['email', 'url'])\n",
    "    "
   ]
  },
  {
   "cell_type": "code",
   "execution_count": null,
   "metadata": {},
   "outputs": [],
   "source": [
    "dfu.to_sql('urls', con=engine, if_exists='append')"
   ]
  },
  {
   "cell_type": "code",
   "execution_count": 80,
   "metadata": {},
   "outputs": [],
   "source": [
    "url = 'https://www.zawya.com/mena/en/company/Dian_Pelangi-12622368/'\n",
    "soup = BeautifulSoup(requests.get(url).text, 'lxml')\n"
   ]
  },
  {
   "cell_type": "code",
   "execution_count": 81,
   "metadata": {},
   "outputs": [
    {
     "data": {
      "text/plain": [
       "' Discover Refinitiv FinancialEikonEikon MessengerMENA Company DataIslamic FinanceMENA Projects AppKnowledge DirectLipperFXTDatastreamElektronRiskEnhanced Due DiligenceWorld-CheckAutoAuditConnected RiskYou are on:\\xa0MENA - ENGLISH\\xa0MENA - ENGLISHUAE - ENGLISHKSA - ENGLISHالشرْقُ الأوسَطالسعوديةالإمارات News Economic NewsGlobal EconomyGCC EconomyLevant EconomyNorth African EconomyMoreRegional NewsIndian Sub-ContinentEurope, UK & USAsia PacificOther NewsPress ReleasesTop NewsLatest NewsMultimediaFinancial & RiskFinancial ServicesIslamic FinanceEquities NewsCurrencies NewsCommodities NewsSectorsReal EstateConstructionEnergyTechnologyMoreLegalGovernment PolicyCorporate LawPersonal LawMoreInsights & OpinionOpinions HomeInsightsEconomic InsightsMarkets InsightsBusiness InsightsLegal InsightsWealthWealth HomeInvestment GuidesWealth ManagementFundsAlternative InvestmentsMarkets Markets HomeMarket AnalysisMorning BriefingsEquitiesCurrenciesCommoditiesStock ScreenerFundsFunds Screener EikonQuickly uncover hidden opportunities with comprehensive data and content.Companies MENA Company DataAccess the most comprehensive database of companies and officers in the Middle East and North Africa, covering all major sectors and industries, from Refinitiv.Companies HomeBig Ideas for Small BusinessesNew CompaniesUpdated CompaniesFind CompaniesProjects MENA Projects AppScreen, analyze and compare projects in the Middle East and North Africa across Infrastructure, Real Estate, Industrial and Energy sectors with Refinitiv’s Eikon.Projects HomeBelt & Road Initiative CoverageNew ProjectsUpdated ProjectsFind ProjectsSearchYou are on:\\xa0MENA - ENGLISH\\xa0MENA - ENGLISHUAE - ENGLISHKSA - ENGLISHالشرْقُ الأوسَطالسعوديةالإماراتgoogletag.cmd.push(function(){try{var f=document.documentElement.clientWidth;var b;var d=\"/21857811890/en.zcom/\";var c;if(f>=320&&f<728){b=[[300,50],[320,50]];c=[\"mobile_srch_sponsor_logo_new\"]}else{b=[120,50];c=[\"srch_sponsor_logo_new\"]}var h=\"srch_sponsor_logo_new\";var a=googletag.defineSlot(\"/21857811890/en.zcom/\",b,\"div-gpt-ad-srch_sponsor_logo_new\").setTargeting(\"type\",c).addService(googletag.pubads());gptAdSlots.push(a);if(h!=\"MR_Story\"){googletag.pubads().collapseEmptyDivs(true,true)}googletag.pubads().enableSingleRequest();googletag.enableServices();if((h==\"PSB_Left\")||(h==\"mobile_psb_left\")||(h==\"PSB_Top\")||(h==\"mobile_psb_top\")||(h==\"PSB_Bottom\")||(h==\"mobile_psb_bottom\")||(h==\"PSB_Middle\")||(h==\"mobile_psb_middle\")||(h==\"leaderboard_home\")||(h==\"leaderboard_bottom_home\")||(h==\"mobile_leaderboard_home\")||(h==\"mobile_leaderboard_bottom_home\")){setInterval(function(){googletag.pubads().refresh([a])},240000)}}catch(g){console.log(\"Error loading Ad banner \"+h)}});try{googletag.cmd.push(function(){googletag.display(\"div-gpt-ad-srch_sponsor_logo_new\")})}catch(e){console.log(\"Error displaying Ad banner \"+bannerName)};.market-second{background-color:#f6f6f6 !important;width:239px !important;height:328px !important}.wsdownmenu .dropdown-content .full-width:hover,.wsdownmenu .for-cta:hover,.wsdownmenu.column:hover{background-color:#e1e1e1 !important}.wsdownmenu .dropdown .dropbtn{color:#000064 !important}.edition-label,.edition-label+.top-dropdown{background:#fff !important}googletag.cmd.push(function(){try{var d=document.documentElement.clientWidth;var a;var c=\"/21857811890/en.zcom/\";var b;if(d>=320&&d<728){a=[[300,50],[320,50],[340,120]];b=[\"mobile_leaderboard\"]}else{if(d>=729&&d<990){a=[728,90];b=[\"leaderboard\",\"leaderboard\"]}else{a=[[1200,314],[728,90],[970,250],[970,90]];b=[\"leaderboard\"]}}var h=\"leaderboard\";var g=googletag.defineSlot(\"/21857811890/en.zcom/\",a,\"div-gpt-ad-leaderboard\").setTargeting(\"type\",b).addService(googletag.pubads());gptAdSlots.push(g);if(h!=\"MR_Story\"){googletag.pubads().collapseEmptyDivs(true,true)}googletag.pubads().enableSingleRequest();googletag.enableServices();if((h==\"PSB_Left\")||(h==\"mobile_psb_left\")||(h==\"PSB_Top\")||(h==\"mobile_psb_top\")||(h==\"PSB_Bottom\")||(h==\"mobile_psb_bottom\")||(h==\"PSB_Middle\")||(h==\"mobile_psb_middle\")||(h==\"leaderboard_home\")||(h==\"leaderboard_bottom_home\")||(h==\"mobile_leaderboard_home\")||(h==\"mobile_leaderboard_bottom_home\")){setInterval(function(){googletag.pubads().refresh([g])},240000)}}catch(f){console.log(\"Error loading Ad banner \"+h)}});try{googletag.cmd.push(function(){googletag.display(\"div-gpt-ad-leaderboard\")})}catch(e){console.log(\"Error displaying Ad banner \"+bannerName)};ZAWYA Companies Homegoogletag.cmd.push(function(){try{var f=document.documentElement.clientWidth;var b;var d=\"/21857811890/en.zcom/\";var c;if(f>=320&&f<728){b=[300,40];c=[\"mobile_mkt_home_page_sponsor\"]}else{b=[300,80];c=[\"mkt_home_page_sponsor\"]}var h=\"mkt_home_page_sponsor\";var a=googletag.defineSlot(\"/21857811890/en.zcom/\",b,\"div-gpt-ad-mkt_home_page_sponsor\").setTargeting(\"type\",c).addService(googletag.pubads());gptAdSlots.push(a);if(h!=\"MR_Story\"){googletag.pubads().collapseEmptyDivs(true,true)}googletag.pubads().enableSingleRequest();googletag.enableServices();if((h==\"PSB_Left\")||(h==\"mobile_psb_left\")||(h==\"PSB_Top\")||(h==\"mobile_psb_top\")||(h==\"PSB_Bottom\")||(h==\"mobile_psb_bottom\")||(h==\"PSB_Middle\")||(h==\"mobile_psb_middle\")||(h==\"leaderboard_home\")||(h==\"leaderboard_bottom_home\")||(h==\"mobile_leaderboard_home\")||(h==\"mobile_leaderboard_bottom_home\")){setInterval(function(){googletag.pubads().refresh([a])},240000)}setTimeout(function(){var i=$(\"#div-gpt-ad-mkt_home_page_sponsor\");var e=i.prev(\"span.type\");i.prepend(e);if(e.length){e.removeClass(\"hidden\");i.prepend(e[0])}},1000)}catch(g){console.log(\"Error loading Ad banner \"+h)}});In partnership withtry{googletag.cmd.push(function(){googletag.display(\"div-gpt-ad-mkt_home_page_sponsor\")})}catch(e){console.log(\"Error displaying Ad banner \"+bannerName)};Dian Pelangi googletag.cmd.push(function(){try{var f=document.documentElement.clientWidth;var b;var d=\"/21857811890/en.zcom/\";var c;if(f>=320&&f<728){b=[[300,50],[320,50]];c=[\"mobile_leaderboard_1\"]}else{b=[[728,90],[728,200]];c=[\"Leaderboard_1\"]}var h=\"Leaderboard_1\";var a=googletag.defineSlot(\"/21857811890/en.zcom/\",b,\"div-gpt-ad-Leaderboard_1\").setTargeting(\"type\",c).addService(googletag.pubads());gptAdSlots.push(a);if(h!=\"MR_Story\"){googletag.pubads().collapseEmptyDivs(true,true)}googletag.pubads().enableSingleRequest();googletag.enableServices();if((h==\"PSB_Left\")||(h==\"mobile_psb_left\")||(h==\"PSB_Top\")||(h==\"mobile_psb_top\")||(h==\"PSB_Bottom\")||(h==\"mobile_psb_bottom\")||(h==\"PSB_Middle\")||(h==\"mobile_psb_middle\")||(h==\"leaderboard_home\")||(h==\"leaderboard_bottom_home\")||(h==\"mobile_leaderboard_home\")||(h==\"mobile_leaderboard_bottom_home\")){setInterval(function(){googletag.pubads().refresh([a])},240000)}}catch(g){console.log(\"Error loading Ad banner \"+h)}});try{googletag.cmd.push(function(){googletag.display(\"div-gpt-ad-Leaderboard_1\")})}catch(e){console.log(\"Error displaying Ad banner \"+bannerName)}; Company DetailsPeopleSimilar Companiesfast factsBusiness SummaryAn online boutique and blog that promotes traditional and modest Indonesian outfitCountry of IncorporationIndonesiaOwnership TypePrivateEstablished In1991Primary SectorConsumer GoodsNumber of Employees-Contact detailsPrimary address JI. Kemang Utara No. 51 A, Kemang, Jakarta Selatan 12730, IndonesiaCONTACTTel: +62 2171-81107Tel: +62 2198-115377Email: cs@dianpelangi.comwww.dianpelangi.comRelated linkswww.instagram.com/dianpelangiwww.blog.dianpelangi.comFind Out More InformationAccess the most comprehensive database of companies and officers in the Middle East and North Africa, covering all major sectors and industries, from Refinitiv.LEARN MORECompany information provided by Refinitiv Refinitiv research team update company information from primary sources (company annual reports, press releases, company websites, corporate briefings, official statements/interviews) and reliable secondary sources (stock markets, reliable third party publications). Similar CompaniesShafiraConsumer Goods, IndonesiaCakradayaConsumer Goods, IndonesiaBi Sea - Sea Mineral Beauty CareConsumer Goods, IndonesiaAmaranthine CosmeticsConsumer Goods, IndonesiaTheong SpaConsumer Goods, IndonesiaMore.adjust-h3{color:#000064 !important;font-size:14px;font-family:proxima-nova-bold,sans-serif;padding-bottom:8px;border-bottom:1px solid #ccc}googletag.cmd.push(function(){try{var f=document.documentElement.clientWidth;var b;var d=\"/21857811890/en.zcom/\";var c;if(f>=320&&f<728){b=[[300,50],[320,50]];c=[\"mobile_mr_top\"]}else{b=[[300,250],[300,600],[300,1050]];c=[\"MR_Top\"]}var h=\"MR_Top\";var a=googletag.defineSlot(\"/21857811890/en.zcom/\",b,\"div-gpt-ad-MR_Top\").setTargeting(\"type\",c).addService(googletag.pubads());gptAdSlots.push(a);if(h!=\"MR_Story\"){googletag.pubads().collapseEmptyDivs(true,true)}googletag.pubads().enableSingleRequest();googletag.enableServices();if((h==\"PSB_Left\")||(h==\"mobile_psb_left\")||(h==\"PSB_Top\")||(h==\"mobile_psb_top\")||(h==\"PSB_Bottom\")||(h==\"mobile_psb_bottom\")||(h==\"PSB_Middle\")||(h==\"mobile_psb_middle\")||(h==\"leaderboard_home\")||(h==\"leaderboard_bottom_home\")||(h==\"mobile_leaderboard_home\")||(h==\"mobile_leaderboard_bottom_home\")){setInterval(function(){googletag.pubads().refresh([a])},240000)}}catch(g){console.log(\"Error loading Ad banner \"+h)}});try{googletag.cmd.push(function(){googletag.display(\"div-gpt-ad-MR_Top\")})}catch(e){console.log(\"Error displaying Ad banner \"+bannerName)}; Find Companies  GO function populateDataLayer(b){if(b==\"build\"){var c=$(\"#countriesInput\").text();var a=$(\"#sectorInput\").text();var d=$(\"#ownershipInput\").text();dataLayer.push({event:\"customEvent\",eventCategory:\"User Engagement\",eventAction:\"Build Company List\",eventLabel:\"\",countryList:c,Sector:a,ownershipType:d})}else{var c=$(\"#presetlistsInput\").text();dataLayer.push({event:\"customEvent\",eventCategory:\"User Engagement\",eventAction:\"Preset Company List\",eventLabel:c})}};Zawya CoverageaviationEtihad offers free COVID-19 insurance for passengersuaeUAE public-sector lending gains, private sector contractsaviationEmirates pays $1.4bln in ticket refunds due to COVID-19equitiesBoursa Kuwait suspends trading of 14 companiesreal estateRobust real estate: Dubai\\'s ready home sales surpass 2019 transactionsMoregoogletag.cmd.push(function(){try{var f=document.documentElement.clientWidth;var b;var d=\"/21857811890/en.zcom/\";var c;if(f>=320&&f<728){b=[[300,50],[320,50]];c=[\"mobile_mr_middle\"]}else{b=[[300,250],[300,600],[300,1050]];c=[\"MR_Middle\"]}var h=\"MR_Middle\";var a=googletag.defineSlot(\"/21857811890/en.zcom/\",b,\"div-gpt-ad-MR_Middle\").setTargeting(\"type\",c).addService(googletag.pubads());gptAdSlots.push(a);if(h!=\"MR_Story\"){googletag.pubads().collapseEmptyDivs(true,true)}googletag.pubads().enableSingleRequest();googletag.enableServices();if((h==\"PSB_Left\")||(h==\"mobile_psb_left\")||(h==\"PSB_Top\")||(h==\"mobile_psb_top\")||(h==\"PSB_Bottom\")||(h==\"mobile_psb_bottom\")||(h==\"PSB_Middle\")||(h==\"mobile_psb_middle\")||(h==\"leaderboard_home\")||(h==\"leaderboard_bottom_home\")||(h==\"mobile_leaderboard_home\")||(h==\"mobile_leaderboard_bottom_home\")){setInterval(function(){googletag.pubads().refresh([a])},240000)}}catch(g){console.log(\"Error loading Ad banner \"+h)}});try{googletag.cmd.push(function(){googletag.display(\"div-gpt-ad-MR_Middle\")})}catch(e){console.log(\"Error displaying Ad banner \"+bannerName)};googletag.cmd.push(function(){try{var f=document.documentElement.clientWidth;var b;var d=\"/21857811890/en.zcom/\";var c;b=[300,250];c=[\"MPU_1\"];var h=\"MPU_1\";var a=googletag.defineSlot(\"/21857811890/en.zcom/\",b,\"div-gpt-ad-MPU_1\").setTargeting(\"type\",c).addService(googletag.pubads());gptAdSlots.push(a);if(h!=\"MR_Story\"){googletag.pubads().collapseEmptyDivs(true,true)}googletag.pubads().enableSingleRequest();googletag.enableServices();if((h==\"PSB_Left\")||(h==\"mobile_psb_left\")||(h==\"PSB_Top\")||(h==\"mobile_psb_top\")||(h==\"PSB_Bottom\")||(h==\"mobile_psb_bottom\")||(h==\"PSB_Middle\")||(h==\"mobile_psb_middle\")||(h==\"leaderboard_home\")||(h==\"leaderboard_bottom_home\")||(h==\"mobile_leaderboard_home\")||(h==\"mobile_leaderboard_bottom_home\")){setInterval(function(){googletag.pubads().refresh([a])},240000)}}catch(g){console.log(\"Error loading Ad banner \"+h)}});try{googletag.cmd.push(function(){googletag.display(\"div-gpt-ad-MPU_1\")})}catch(e){console.log(\"Error displaying Ad banner \"+bannerName)};googletag.cmd.push(function(){try{var f=document.documentElement.clientWidth;var b;var d=\"/21857811890/en.zcom/\";var c;if(f>=320&&f<728){b=[[300,50],[320,50]];c=[\"mobile_mr_bottom\"]}else{b=[[300,250],[300,600],[300,1050]];c=[\"MR_Bottom\"]}var h=\"MR_Bottom\";var a=googletag.defineSlot(\"/21857811890/en.zcom/\",b,\"div-gpt-ad-MR_Bottom\").setTargeting(\"type\",c).addService(googletag.pubads());gptAdSlots.push(a);if(h!=\"MR_Story\"){googletag.pubads().collapseEmptyDivs(true,true)}googletag.pubads().enableSingleRequest();googletag.enableServices();if((h==\"PSB_Left\")||(h==\"mobile_psb_left\")||(h==\"PSB_Top\")||(h==\"mobile_psb_top\")||(h==\"PSB_Bottom\")||(h==\"mobile_psb_bottom\")||(h==\"PSB_Middle\")||(h==\"mobile_psb_middle\")||(h==\"leaderboard_home\")||(h==\"leaderboard_bottom_home\")||(h==\"mobile_leaderboard_home\")||(h==\"mobile_leaderboard_bottom_home\")){setInterval(function(){googletag.pubads().refresh([a])},240000)}}catch(g){console.log(\"Error loading Ad banner \"+h)}});try{googletag.cmd.push(function(){googletag.display(\"div-gpt-ad-MR_Bottom\")})}catch(e){console.log(\"Error displaying Ad banner \"+bannerName)};Have news to share? Email us at editorial.zawya@refinitiv.com, or send us your company press releases to pressrelease.zawya@refinitiv.comAbout zawyaContact usCopyright © 2020 Zawya. All Rights Reserved.\\xa0 Privacy Statement.\\xa0Terms & Conditions. \\xa0Do not sell my info.Our Privacy Statement & Cookie PolicyThis website uses cookies to improve your online experience. They were placed on your computer when you launched this website. You can change your cookie settings through your browser.Privacy StatementCookie PolicyContinue.links-bar-bg{background-image:url(\"/resources/img/footer_pattern_background.png\");background-repeat:round}.copyright-bar{background:#000064 !important}.website-footer .links-bar{height:145px;border-bottom:none !important}var globalMVCMap={lang:\"EN\",urlprefix:\"/mena/en\",readMore:\"Read More\"};var messagesi18n={searchTip:\"To get the right results, start typing a name and select from the suggestions\"};$(document).ready(function(){var a=$(\".page-title\");if(a.length>0&&$(\"title\").text().trim().length==0){$(\"title\").text(a.text())}$(\"#dismissGetAppMobile\").on(\"click\",function(){$(\".website > .ad-wrapper\").removeClass(\"margin-top-zero\");$(\".website > .ad-wrapper\").css(\"cssText\",\"margin-top: 62px !important, margin-bottom: 30px;\")})});$(document).ready(function(){$(\".play-media\").on(\"click\",function(a){a.preventDefault();$(\"video, audio\").each(function(){this.pause()});$(this).closest(\".news-content-inner\").find(\".media-in-parent\").show();$(this).closest(\".news-content-inner\").find(\".the-media\")[0].play()});$(\".media-close\").on(\"click\",function(){$(this).closest(\".news-content-inner\").find(\".media-in-parent\").hide();$(this).closest(\".news-content-inner\").find(\".the-media\")[0].pause()});$(\".search-form .form-group\").on(\"mouseout\",function(){$(\"#query\").blur()});$(\"video\").on(\"playing\",function(){$(\"video\").not($(this)).each(function(){$(this)[0].pause()})});$(\".col--p .col--c, .col--c\").theiaStickySidebar({additionalMarginTop:100});$(\"#prompt-cookie-note\").click(function(a){$.ajax({type:\"POST\",url:\"/mena/en/cookie/set-cookie-policy\",success:function(b){$(\"#cookie-policy-container\").hide()}});a.preventDefault()})});var didScroll;var lastScrollTop=0;var delta=5;var navbarHeight=$(\"header\").outerHeight();$(window).scroll(function(a){didScroll=true});setInterval(function(){if(didScroll){hasScrolled();didScroll=false}},250);function hasScrolled(){var a=$(this).scrollTop();if(Math.abs(lastScrollTop-a)<=delta){return}if(a>lastScrollTop&&a>navbarHeight){$(\"header\").removeClass(\"nav-down\").addClass(\"nav-up\")}else{if(a+$(window).height()<$(document).height()){$(\"header\").removeClass(\"nav-up\").addClass(\"nav-down\")}}lastScrollTop=a};$(\"#buttonsearch\").click(function(){$(\"#formsearch\").slideToggle(\"fast\",function(){$(\"header\").toggleClass(\"sticky-header\")});$(\"#searchbox\").focus();$(\".openclosesearch\").toggle()});$(document).keydown(function(a){if(a.keyCode==27&&$(\"#formsearch\").is(\":hidden\")==false){$(\"#formsearch\").slideUp(\"fast\");$(\".openclosesearch\").toggle()}});$(\"#buttonsearchMob\").click(function(){$(\"#formsearchMob\").slideToggle(\"fast\",function(){$(\"header\").toggleClass(\"sticky-header\")});$(\"#searchboxMob\").focus();$(\".openclosesearch\").toggle()});$(function(){$(\".headline-wrapper\").owlCarousel({navigation:true,slideSpeed:500,singleItem:true,pagination:false,stopOnHover:true,autoPlay:true,mouseDrag:false,transitionStyle:\"goDown\",navigationText:[\"&#139;\",\"&#155;\"]})});function populateDataLayerForListing(c,b,d,a){c=c.replace(\"_\",\"\");dataLayer.push({event:\"storyClick\",ecommerce:{currencyCode:\"AED\",click:{actionField:{list:\"\"+a+\"\"},products:[{name:\"\"+c+\"\",category:\"\"+b+\"\",brand:\"\"+d+\"\"}]}}})};function openNav(){document.getElementById(\"myNav\").style.width=\"100%\";document.body.style.position=\"fixed\"}function closeNav(){document.getElementById(\"myNav\").style.width=\"0%\";document.body.style.position=\"initial\"};$(\".company-chart\").each(function(){var d=$(this).attr(\"data-ric\");if(d!=\"\"&&d!=\"N/A\"){var c=\"id\"+d+\"Series\";StockPortal.mainSeriesId=c;StockPortal.mainSeriesCode=d;var a=$(this).attr(\"data-chartUrl\");var b=new AnyChartStock(\"http://charts.zawya.com/charting/anycharts/swf/AnyChartStock.swf?v=1.1.1r8558\",\"http://charts.zawya.com/charting/anycharts/swf/Preloader.swf?v=1.1.1r8558\");b.setXMLFile(a+d);b.wMode=\"opaque\";b.needConfig=true;b.width=$(this).attr(\"data-width\");b.height=$(this).attr(\"data-height\");b.write(\"chart-container\"+d);StockPortal.init(b)}});var container=$(\"[tooltip-chart-id]\");container.companyStockChart(container);$(document).ready(function(){var a=parseInt(\"10\");$(\"#pagination-here\").pagination({pages:parseInt(\"\"),currentPage:parseInt(\"\"),selectOnClick:false,hrefTextPrefix:\"?&resultsPerPage=\"+a+\"&page=\",onPageClick:function(c,d){window.location.href=\"?&resultsPerPage=\"+a+\"&page=\"+c},listStyle:\"pagination\",prevText:\"\\\\u200B\",prevClasses:(globalMVCMap.lang.toLowerCase()===\"ar\")?\"fa fa-angle-right\":\"fa fa-angle-left\",nextText:\"\\\\u200B\",nextClasses:(globalMVCMap.lang.toLowerCase()===\"ar\")?\"fa fa-angle-left\":\"fa fa-angle-right\"});var b=parseInt(\"10\");$(\"#related-news-pagination\").pagination({pages:parseInt(\"\"),currentPage:parseInt(\"\"),selectOnClick:false,hrefTextPrefix:\"?resultsPerPage=\"+b+\"&page=\",onPageClick:function(c,d){window.location.href=\"?resultsPerPage=\"+a+\"&page=\"+c},listStyle:\"pagination\",prevText:\"\\\\u200B\",prevClasses:(globalMVCMap.lang.toLowerCase()===\"ar\")?\"fa fa-angle-right\":\"fa fa-angle-left\",nextText:\"\\\\u200B\",nextClasses:(globalMVCMap.lang.toLowerCase()===\"ar\")?\"fa fa-angle-left\":\"fa fa-angle-right\"})});'"
      ]
     },
     "execution_count": 81,
     "metadata": {},
     "output_type": "execute_result"
    }
   ],
   "source": [
    "soup.body.get_text()"
   ]
  },
  {
   "cell_type": "code",
   "execution_count": null,
   "metadata": {},
   "outputs": [],
   "source": [
    "soup.body.get_text()"
   ]
  },
  {
   "cell_type": "code",
   "execution_count": null,
   "metadata": {},
   "outputs": [],
   "source": [
    "dfu = pd.DataFrame(urls, columns=['email', 'url'])"
   ]
  },
  {
   "cell_type": "code",
   "execution_count": null,
   "metadata": {},
   "outputs": [],
   "source": [
    "dfu.describe()"
   ]
  },
  {
   "cell_type": "code",
   "execution_count": null,
   "metadata": {},
   "outputs": [],
   "source": [
    "dfu[dfu.url.str.contains('linkedin')]"
   ]
  },
  {
   "cell_type": "code",
   "execution_count": null,
   "metadata": {},
   "outputs": [],
   "source": [
    "%pip install python-linkedin\n"
   ]
  },
  {
   "cell_type": "code",
   "execution_count": null,
   "metadata": {},
   "outputs": [],
   "source": [
    "from linkedin import linkedin"
   ]
  },
  {
   "cell_type": "code",
   "execution_count": null,
   "metadata": {},
   "outputs": [],
   "source": [
    "%pip install python3-linkedin"
   ]
  },
  {
   "cell_type": "code",
   "execution_count": null,
   "metadata": {},
   "outputs": [],
   "source": [
    "from linkedin import linkedin"
   ]
  },
  {
   "cell_type": "code",
   "execution_count": 75,
   "metadata": {},
   "outputs": [],
   "source": [
    "CLIENT_ID = '86qyzp4pq7ydcp'\n",
    "CLIENT_SECRET = 'tTcNuVNSmjUYRZJD'\n",
    "RETURN_URL = 'http://localhost:8001'"
   ]
  },
  {
   "cell_type": "code",
   "execution_count": 77,
   "metadata": {},
   "outputs": [
    {
     "name": "stdout",
     "output_type": "stream",
     "text": [
      "https://www.linkedin.com/uas/oauth2/authorization?response_type=code&client_id=86qyzp4pq7ydcp&scope=r_basicprofile%20r_emailaddress%20w_share%20rw_company_admin%20r_fullprofile%20r_contactinfo&state=2389dce61f311f602aa0dac1caa5f1c4&redirect_uri=http%3A//localhost%3A8001\n"
     ]
    }
   ],
   "source": [
    "authentication = linkedin.LinkedInAuthentication(CLIENT_ID, CLIENT_SECRET, RETURN_URL, linkedin.PERMISSIONS.enums.values())\n",
    "# Optionally one can send custom \"state\" value that will be returned from OAuth server\n",
    "# It can be used to track your user state or something else (it's up to you)\n",
    "# Be aware that this value is sent to OAuth server AS IS - make sure to encode or hash it\n",
    "#authorization.state = 'your_encoded_message'\n",
    "print(authentication.authorization_url)  # open this url on your browser\n",
    "application = linkedin.LinkedInApplication(authentication)"
   ]
  },
  {
   "cell_type": "code",
   "execution_count": 73,
   "metadata": {},
   "outputs": [
    {
     "ename": "NameError",
     "evalue": "name 'server' is not defined",
     "output_type": "error",
     "traceback": [
      "\u001b[0;31m---------------------------------------------------------------------------\u001b[0m",
      "\u001b[0;31mNameError\u001b[0m                                 Traceback (most recent call last)",
      "\u001b[0;32m<ipython-input-73-28a052564eda>\u001b[0m in \u001b[0;36m<module>\u001b[0;34m\u001b[0m\n\u001b[0;32m----> 1\u001b[0;31m \u001b[0mapplication\u001b[0m \u001b[0;34m=\u001b[0m \u001b[0mserver\u001b[0m\u001b[0;34m.\u001b[0m\u001b[0mquick_api\u001b[0m\u001b[0;34m(\u001b[0m\u001b[0mCLIENT_ID\u001b[0m\u001b[0;34m,\u001b[0m \u001b[0mCLIENT_SECRET\u001b[0m\u001b[0;34m)\u001b[0m\u001b[0;34m\u001b[0m\u001b[0;34m\u001b[0m\u001b[0m\n\u001b[0m",
      "\u001b[0;31mNameError\u001b[0m: name 'server' is not defined"
     ]
    }
   ],
   "source": [
    "application = server.quick_api(CLIENT_ID, CLIENT_SECRET)"
   ]
  },
  {
   "cell_type": "code",
   "execution_count": 72,
   "metadata": {},
   "outputs": [
    {
     "ename": "AttributeError",
     "evalue": "'NoneType' object has no attribute 'access_token'",
     "output_type": "error",
     "traceback": [
      "\u001b[0;31m---------------------------------------------------------------------------\u001b[0m",
      "\u001b[0;31mAttributeError\u001b[0m                            Traceback (most recent call last)",
      "\u001b[0;32m<ipython-input-72-9c91985d8af0>\u001b[0m in \u001b[0;36m<module>\u001b[0;34m\u001b[0m\n\u001b[0;32m----> 1\u001b[0;31m \u001b[0mapplication\u001b[0m\u001b[0;34m.\u001b[0m\u001b[0mget_profile\u001b[0m\u001b[0;34m(\u001b[0m\u001b[0;34m'www.linkedin.com/in/jeremy-allan-48b92591'\u001b[0m\u001b[0;34m)\u001b[0m\u001b[0;34m\u001b[0m\u001b[0;34m\u001b[0m\u001b[0m\n\u001b[0m",
      "\u001b[0;32m~/Python3.6Env/lib/python3.6/site-packages/linkedin/linkedin.py\u001b[0m in \u001b[0;36mget_profile\u001b[0;34m(self, member_id, member_url, selectors, params, headers, member_email)\u001b[0m\n\u001b[1;32m    207\u001b[0m         \u001b[0mparams\u001b[0m\u001b[0;34m.\u001b[0m\u001b[0mupdate\u001b[0m\u001b[0;34m(\u001b[0m\u001b[0;34m{\u001b[0m\u001b[0;34m'format'\u001b[0m\u001b[0;34m:\u001b[0m \u001b[0;34m'json'\u001b[0m\u001b[0;34m}\u001b[0m\u001b[0;34m)\u001b[0m\u001b[0;34m\u001b[0m\u001b[0;34m\u001b[0m\u001b[0m\n\u001b[1;32m    208\u001b[0m \u001b[0;34m\u001b[0m\u001b[0m\n\u001b[0;32m--> 209\u001b[0;31m         \u001b[0mresponse\u001b[0m \u001b[0;34m=\u001b[0m \u001b[0mself\u001b[0m\u001b[0;34m.\u001b[0m\u001b[0mmake_request\u001b[0m\u001b[0;34m(\u001b[0m\u001b[0;34m'GET'\u001b[0m\u001b[0;34m,\u001b[0m \u001b[0murl\u001b[0m\u001b[0;34m,\u001b[0m \u001b[0mparams\u001b[0m\u001b[0;34m=\u001b[0m\u001b[0mparams\u001b[0m\u001b[0;34m,\u001b[0m \u001b[0mheaders\u001b[0m\u001b[0;34m=\u001b[0m\u001b[0mheaders\u001b[0m\u001b[0;34m)\u001b[0m\u001b[0;34m\u001b[0m\u001b[0;34m\u001b[0m\u001b[0m\n\u001b[0m\u001b[1;32m    210\u001b[0m         \u001b[0mraise_for_error\u001b[0m\u001b[0;34m(\u001b[0m\u001b[0mresponse\u001b[0m\u001b[0;34m)\u001b[0m\u001b[0;34m\u001b[0m\u001b[0;34m\u001b[0m\u001b[0m\n\u001b[1;32m    211\u001b[0m         \u001b[0;32mreturn\u001b[0m \u001b[0mresponse\u001b[0m\u001b[0;34m.\u001b[0m\u001b[0mjson\u001b[0m\u001b[0;34m(\u001b[0m\u001b[0;34m)\u001b[0m\u001b[0;34m\u001b[0m\u001b[0;34m\u001b[0m\u001b[0m\n",
      "\u001b[0;32m~/Python3.6Env/lib/python3.6/site-packages/linkedin/linkedin.py\u001b[0m in \u001b[0;36mmake_request\u001b[0;34m(self, method, url, data, params, headers, timeout)\u001b[0m\n\u001b[1;32m    182\u001b[0m             \u001b[0mkw\u001b[0m\u001b[0;34m.\u001b[0m\u001b[0mupdate\u001b[0m\u001b[0;34m(\u001b[0m\u001b[0;34m{\u001b[0m\u001b[0;34m'auth'\u001b[0m\u001b[0;34m:\u001b[0m \u001b[0mauth\u001b[0m\u001b[0;34m}\u001b[0m\u001b[0;34m)\u001b[0m\u001b[0;34m\u001b[0m\u001b[0;34m\u001b[0m\u001b[0m\n\u001b[1;32m    183\u001b[0m         \u001b[0;32melse\u001b[0m\u001b[0;34m:\u001b[0m\u001b[0;34m\u001b[0m\u001b[0;34m\u001b[0m\u001b[0m\n\u001b[0;32m--> 184\u001b[0;31m             \u001b[0mparams\u001b[0m\u001b[0;34m.\u001b[0m\u001b[0mupdate\u001b[0m\u001b[0;34m(\u001b[0m\u001b[0;34m{\u001b[0m\u001b[0;34m'oauth2_access_token'\u001b[0m\u001b[0;34m:\u001b[0m \u001b[0mself\u001b[0m\u001b[0;34m.\u001b[0m\u001b[0mauthentication\u001b[0m\u001b[0;34m.\u001b[0m\u001b[0mtoken\u001b[0m\u001b[0;34m.\u001b[0m\u001b[0maccess_token\u001b[0m\u001b[0;34m}\u001b[0m\u001b[0;34m)\u001b[0m\u001b[0;34m\u001b[0m\u001b[0;34m\u001b[0m\u001b[0m\n\u001b[0m\u001b[1;32m    185\u001b[0m \u001b[0;34m\u001b[0m\u001b[0m\n\u001b[1;32m    186\u001b[0m         \u001b[0;32mreturn\u001b[0m \u001b[0mrequests\u001b[0m\u001b[0;34m.\u001b[0m\u001b[0mrequest\u001b[0m\u001b[0;34m(\u001b[0m\u001b[0mmethod\u001b[0m\u001b[0;34m.\u001b[0m\u001b[0mupper\u001b[0m\u001b[0;34m(\u001b[0m\u001b[0;34m)\u001b[0m\u001b[0;34m,\u001b[0m \u001b[0murl\u001b[0m\u001b[0;34m,\u001b[0m \u001b[0;34m**\u001b[0m\u001b[0mkw\u001b[0m\u001b[0;34m)\u001b[0m\u001b[0;34m\u001b[0m\u001b[0;34m\u001b[0m\u001b[0m\n",
      "\u001b[0;31mAttributeError\u001b[0m: 'NoneType' object has no attribute 'access_token'"
     ]
    }
   ],
   "source": [
    "application.get_profile('www.linkedin.com/in/jeremy-allan-48b92591')"
   ]
  },
  {
   "cell_type": "code",
   "execution_count": null,
   "metadata": {},
   "outputs": [],
   "source": []
  }
 ],
 "metadata": {
  "kernelspec": {
   "display_name": "Python 3",
   "language": "python",
   "name": "python3"
  },
  "language_info": {
   "codemirror_mode": {
    "name": "ipython",
    "version": 3
   },
   "file_extension": ".py",
   "mimetype": "text/x-python",
   "name": "python",
   "nbconvert_exporter": "python",
   "pygments_lexer": "ipython3",
   "version": "3.6.8"
  }
 },
 "nbformat": 4,
 "nbformat_minor": 4
}
