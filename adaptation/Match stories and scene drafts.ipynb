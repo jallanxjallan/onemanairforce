{
 "cells": [
  {
   "cell_type": "code",
   "execution_count": 1,
   "metadata": {},
   "outputs": [],
   "source": [
    "import sys\n",
    "sys.path.append('/home/jeremy/Library')\n",
    "from storage.cherrytree_xml import CherryTree\n",
    "from pathlib import Path\n",
    "from utility.helpers import snake_case\n",
    "target_dir = Path('stories')"
   ]
  },
  {
   "cell_type": "code",
   "execution_count": null,
   "metadata": {},
   "outputs": [],
   "source": [
    "ct = CherryTree('synopsis.ctd')\n",
    "nodes = set([n.filepath for n in ct.nodes('Stories') if n.filepath ])\n",
    "files = set([str(f) for f in Path('stories').iterdir()])\n"
   ]
  },
  {
   "cell_type": "code",
   "execution_count": null,
   "metadata": {},
   "outputs": [],
   "source": [
    "\n",
    "for node in [n for n in ct.nodes('Stories') if not n.filepath if n.level == 4]:\n",
    "    target_file = target_dir.joinpath(snake_case(node.name)).with_suffix('.md')\n",
    "    if target_file.exists():\n",
    "        node.insert_link(href=str(target_file), text='Story')\n",
    "ct.save()\n"
   ]
  },
  {
   "cell_type": "code",
   "execution_count": null,
   "metadata": {},
   "outputs": [],
   "source": [
    "ct = CherryTree('synopsis.ctd')\n",
    "nodes = set([n.filepath for n in ct.nodes('Stories') if n.filepath ])\n",
    "files = set([str(f) for f in Path('stories').iterdir()])\n",
    "[f for f in files.difference(nodes) if f.endswith('.md')]"
   ]
  },
  {
   "cell_type": "code",
   "execution_count": null,
   "metadata": {},
   "outputs": [],
   "source": [
    "matches"
   ]
  },
  {
   "cell_type": "code",
   "execution_count": 27,
   "metadata": {},
   "outputs": [
    {
     "data": {
      "text/plain": [
       "['Sabam Furious']"
      ]
     },
     "execution_count": 27,
     "metadata": {},
     "output_type": "execute_result"
    }
   ],
   "source": [
    "ct = CherryTree('synopsis.ctd')\n",
    "[n.name for n in ct.nodes('Stories') if '~' in n.notes if 'Story' in n.notes]"
   ]
  },
  {
   "cell_type": "code",
   "execution_count": 4,
   "metadata": {},
   "outputs": [
    {
     "data": {
      "text/plain": [
       "['Landing at KarangEndah',\n",
       " 'Muharto Appalled',\n",
       " 'Reconciling With Muharto.',\n",
       " 'CALI Runs',\n",
       " 'Ining Is Dood',\n",
       " 'Drop Over Bukittinggi',\n",
       " 'Primitivo Accuses',\n",
       " 'Smuggled Gems',\n",
       " 'Spite Their Face',\n",
       " 'Bob Furious',\n",
       " 'Aviation Licences',\n",
       " 'Tom Lee Treats',\n",
       " 'Subjects of the Queen',\n",
       " 'Non Stop to Jogja',\n",
       " 'VT-CLA Crashes']"
      ]
     },
     "execution_count": 4,
     "metadata": {},
     "output_type": "execute_result"
    }
   ],
   "source": [
    "story = 'Expecting To Fly'\n",
    "ct = CherryTree('synopsis.ctd')\n",
    "refs = set([l.href for n in ct.nodes('Historical Sequences') for l in n.links if l.type == 'node'])\n",
    "nodes = set([n.id for n in ct.nodes(story) if n.filepath])\n",
    "[ct.find_node_by_id(n).name for n in nodes.difference(refs)]"
   ]
  },
  {
   "cell_type": "code",
   "execution_count": 51,
   "metadata": {},
   "outputs": [
    {
     "data": {
      "text/plain": [
       "[('Art and War', 'Unplaced'),\n",
       " ('Victor Arrives', 'Unplaced'),\n",
       " ('Arts Circle', 'Victor talks art'),\n",
       " ('Victor Meets Emeria', 'Victor talks art'),\n",
       " ('Assigned to Spoor', 'Unplaced'),\n",
       " ('Ambassador Mentions CIA', 'Unplaced'),\n",
       " ('Assigned to Westerling', 'Unplaced'),\n",
       " ('Tongue Lashing', 'Unplaced'),\n",
       " ('Victor Defects.', 'Unplaced')]"
      ]
     },
     "execution_count": 51,
     "metadata": {},
     "output_type": "execute_result"
    }
   ],
   "source": [
    "ct = CherryTree('synopsis.ctd')\n",
    "story = 'Art and War'\n",
    "sequence = {l.href:n.name for n in ct.nodes('Sequences') for l in n.links if l.type == 'node'}\n",
    "[(n.name, sequence.get(n.id, 'Unplaced')) for n in  ct.nodes(story)]"
   ]
  },
  {
   "cell_type": "code",
   "execution_count": 42,
   "metadata": {},
   "outputs": [
    {
     "data": {
      "text/plain": [
       "{'352': 'One Man Air Force',\n",
       " '126': 'One Man Air Force',\n",
       " '141': 'One Man Air Force',\n",
       " '143': 'One Man Air Force',\n",
       " '367': 'One Man Air Force',\n",
       " '336': 'One Man Air Force',\n",
       " '51': 'One Man Air Force',\n",
       " '379': 'One Man Air Force',\n",
       " '344': 'One Man Air Force',\n",
       " '343': 'Meeting Boedi',\n",
       " '147': 'One Man Air Force',\n",
       " '371': 'One Man Air Force',\n",
       " '178': 'Background Research',\n",
       " '124': 'Background Research',\n",
       " '123': 'Background Research',\n",
       " '394': 'Background Research',\n",
       " '389': 'Muharto Visits',\n",
       " '396': 'Muharto Visits',\n",
       " '405': 'Muharto Visits',\n",
       " '406': 'Meeting Boedi',\n",
       " '356': 'Meeting Boedi',\n",
       " '346': 'Meeting Boedi',\n",
       " '407': 'Meeting Boedi',\n",
       " '424': 'Back to the Library',\n",
       " '425': 'Trip to Jogja',\n",
       " '418': 'Trip to Jogja',\n",
       " '413': 'Trip to Jogja',\n",
       " '372': 'Trip to Jogja',\n",
       " '373': 'Trip to Jogja'}"
      ]
     },
     "execution_count": 42,
     "metadata": {},
     "output_type": "execute_result"
    }
   ],
   "source": [
    "sequence\n",
    "\n"
   ]
  },
  {
   "cell_type": "code",
   "execution_count": 52,
   "metadata": {},
   "outputs": [],
   "source": [
    "from collections import Counter"
   ]
  },
  {
   "cell_type": "code",
   "execution_count": 58,
   "metadata": {},
   "outputs": [
    {
     "data": {
      "text/plain": [
       "['Recruit to Revolution']"
      ]
     },
     "execution_count": 58,
     "metadata": {},
     "output_type": "execute_result"
    }
   ],
   "source": [
    "ct = CherryTree('synopsis.ctd')\n",
    "[k for k,v in Counter([n.name for n in ct.nodes()]).items() if v > 1]"
   ]
  },
  {
   "cell_type": "code",
   "execution_count": null,
   "metadata": {},
   "outputs": [],
   "source": []
  }
 ],
 "metadata": {
  "kernelspec": {
   "display_name": "Python 3",
   "language": "python",
   "name": "python3"
  },
  "language_info": {
   "codemirror_mode": {
    "name": "ipython",
    "version": 3
   },
   "file_extension": ".py",
   "mimetype": "text/x-python",
   "name": "python",
   "nbconvert_exporter": "python",
   "pygments_lexer": "ipython3",
   "version": "3.6.8"
  }
 },
 "nbformat": 4,
 "nbformat_minor": 4
}
