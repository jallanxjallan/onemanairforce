{
 "cells": [
  {
   "cell_type": "code",
   "execution_count": 6,
   "metadata": {},
   "outputs": [],
   "source": [
    "import sys\n",
    "sys.path.append('/home/jeremy/Library')\n",
    "from storage.cherrytree_xml import CherryTree\n",
    "from pathlib import Path\n",
    "from utility.helpers import snake_case"
   ]
  },
  {
   "cell_type": "code",
   "execution_count": 39,
   "metadata": {},
   "outputs": [],
   "source": [
    "ct = CherryTree('synopsis.ctd')\n",
    "nodes = set([snake_case(n.name) for n in ct.nodes('Stories') if not n.filepath])\n",
    "files = set([f.stem for f in Path('stories').iterdir()])\n",
    "matches = nodes.intersection(files)"
   ]
  },
  {
   "cell_type": "code",
   "execution_count": 41,
   "metadata": {},
   "outputs": [],
   "source": [
    "target_dir = Path('stories')\n",
    "for node in [n for n in ct.nodes('Stories') if not n.filepath if n.level == 4]:\n",
    "    target_file = target_dir.joinpath(snake_case(node.name)).with_suffix('.md')\n",
    "    if target_file.exists():\n",
    "        node.insert_link(href=str(target_file), text='Story')\n",
    "ct.save()\n"
   ]
  },
  {
   "cell_type": "code",
   "execution_count": 40,
   "metadata": {},
   "outputs": [
    {
     "data": {
      "text/plain": [
       "{'ambassador_mentions_cia',\n",
       " 'ani_berates_muharto',\n",
       " 'ani_berates_westerling',\n",
       " 'ani_engaged',\n",
       " 'ani_serves_rice',\n",
       " 'appeal_to_foote',\n",
       " 'arts_circle',\n",
       " 'assigned_to_westerling',\n",
       " 'aviation_licences',\n",
       " 'bambang_cannot_conceal_envy',\n",
       " 'bambang_decides_to_fly',\n",
       " 'bambang_gets_place',\n",
       " 'bambang_ingratiates_himself',\n",
       " 'bambang_saptoadji_messes_landing',\n",
       " 'banteng_merah',\n",
       " 'black_flights',\n",
       " 'bob_arrives',\n",
       " 'bob_bought_suits',\n",
       " 'bob_defies_suryadarma',\n",
       " 'bob_gives_bambang',\n",
       " 'bob_puts_ri-002',\n",
       " 'bob_requests_muharto_reassigned',\n",
       " 'bob_returns',\n",
       " 'bob_the_best',\n",
       " 'buying_the_dakota',\n",
       " 'cali_runs',\n",
       " 'cameron_signs_on',\n",
       " 'cobley_accuses',\n",
       " 'cobley_flies_cadres',\n",
       " 'cobley_makes_deal',\n",
       " 'crushing_disappointment',\n",
       " 'deportation_offer',\n",
       " 'father_interrogates',\n",
       " 'feeding_the_troops',\n",
       " 'fowler_refuses_request',\n",
       " 'gold_run',\n",
       " 'ining_asks_to_return',\n",
       " 'ining_is_training_guerrillas',\n",
       " 'ining_was_found_dead',\n",
       " 'lt__arnolt_dies',\n",
       " 'missing_dakota',\n",
       " 'muharto_asks_george',\n",
       " 'muharto_distressed',\n",
       " 'muharto_marries',\n",
       " 'muharto_regrets_promotion',\n",
       " 'muharto_reports_incident',\n",
       " 'muharto_wants_to_decline',\n",
       " 'newspaper_calls_ining',\n",
       " 'not_ready_for_airplanes',\n",
       " 'ordering_suits',\n",
       " 'partner_has_done_nothing',\n",
       " 'poas_flights',\n",
       " 'promoted_to_major',\n",
       " 'reconciling_with_muharto.',\n",
       " 'ri-002_drops_leaflets',\n",
       " 'sabam_enlists_help',\n",
       " 'sabam_gets_warning',\n",
       " 'se_air_bankrupt',\n",
       " 'se_airlines',\n",
       " 'spoor_hears_reports',\n",
       " 'spoor_orders_night_patrol',\n",
       " 'spoor_poisoned',\n",
       " 'spoor_takes_command',\n",
       " 'suryadarma_takes_fowlers_fuel_allowance',\n",
       " 'suryadarma_takes_fuel_allowance',\n",
       " 'syd_slips_reporter_article',\n",
       " 'thai_authorities_released_freeberg',\n",
       " 'victor_arrives',\n",
       " 'victor_defects.',\n",
       " 'victor_meets_emeria',\n",
       " 'who_gets_to_sit'}"
      ]
     },
     "execution_count": 40,
     "metadata": {},
     "output_type": "execute_result"
    }
   ],
   "source": [
    "matches"
   ]
  },
  {
   "cell_type": "code",
   "execution_count": null,
   "metadata": {},
   "outputs": [],
   "source": []
  }
 ],
 "metadata": {
  "kernelspec": {
   "display_name": "Python 3",
   "language": "python",
   "name": "python3"
  },
  "language_info": {
   "codemirror_mode": {
    "name": "ipython",
    "version": 3
   },
   "file_extension": ".py",
   "mimetype": "text/x-python",
   "name": "python",
   "nbconvert_exporter": "python",
   "pygments_lexer": "ipython3",
   "version": "3.6.8"
  }
 },
 "nbformat": 4,
 "nbformat_minor": 4
}
