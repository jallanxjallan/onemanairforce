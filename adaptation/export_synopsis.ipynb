{
 "cells": [
  {
   "cell_type": "code",
   "execution_count": null,
   "metadata": {},
   "outputs": [],
   "source": [
    "from storage.cherrytree import CherryTree\n",
    "from utility.config import load_config\n",
    "from IPython.display import display, Markdown"
   ]
  },
  {
   "cell_type": "code",
   "execution_count": 14,
   "metadata": {},
   "outputs": [
    {
     "data": {
      "text/markdown": [
       "# Cameron Meets Muharto"
      ],
      "text/plain": [
       "<IPython.core.display.Markdown object>"
      ]
     },
     "metadata": {},
     "output_type": "display_data"
    },
    {
     "data": {
      "text/markdown": [
       "In September 1988, Cameron Bishop, an American journalism grad student interning as a language consultant at The Jakarta Post, pleads with editor Sabam Siagian to be allowed to investigate and write stories. Sabam explains, yet again, that this not allowed. Instead, he assigns Cameron to write a puff piece about his friend Petit Muharto's experiences flying blockade runs with American mercenary Bob Freeburg during Indonesia's post-war struggle for independence. \n",
       "Cameron meets Muharto at his tidy home in south Jakarta. The retired Air Force officer tells of meeting Freeberg when the latter had made an emergency landing on a remote beach and of Freeberg being commissioned to fly for the Republic with the fictitious registration of RI-002. Muharto emphasizes the value of the blockade runs to the struggle for independence, and the respect and affection Bob received from all Indonesians, from President Soekarno to the common people of Jogjakarta. Muharto says he flew with Freeberg until May 1948, when he was promoted to major and assigned to headquarters. Four months later, Muharto was devastated to learn that RI-002 had vanished while transporting Republican gold from Java to safety in Sumatra ahead of an expected Dutch invasion. The RI-002 wreckage was found on a mountain in Sumatra in 1977. The gold was missing, and the mystery of the disappearance was never solved.  \n"
      ],
      "text/plain": [
       "<IPython.core.display.Markdown object>"
      ]
     },
     "metadata": {},
     "output_type": "display_data"
    },
    {
     "data": {
      "text/markdown": [
       "# Cameron Meets Victor"
      ],
      "text/plain": [
       "<IPython.core.display.Markdown object>"
      ]
     },
     "metadata": {},
     "output_type": "display_data"
    },
    {
     "data": {
      "text/markdown": [
       "Cameron shows the draft of his story to his workmate Syd Jardine, a chain-smoking, alcoholic former foreign correspondent in his early sixties. Syd edits the piece with practiced aplomb, and hands it back. He tells Cameron that it should have a photo of Freeberg himself (which Muharto does not have) and suggests he contact his friend Victor de Jong at the IPPHOS photo agency.    \n",
       "\n",
       "The IPPHOS office is in a building one inspection away from being condemned. Cameron meets Victor, a Dutch army conscript who defected to the Indonesian side in the final days of the struggle. Victor finds a photo of Freeberg after a short search, and insists that Victor stay for coffee so he can tell him the Dutch side of the Freeberg story, which he witness first-hand while posted in the office of General Simon Spoor, the commander of all colonial military forces. \n"
      ],
      "text/plain": [
       "<IPython.core.display.Markdown object>"
      ]
     },
     "metadata": {},
     "output_type": "display_data"
    },
    {
     "data": {
      "text/markdown": [
       "# Muharto Visits Post"
      ],
      "text/plain": [
       "<IPython.core.display.Markdown object>"
      ]
     },
     "metadata": {},
     "output_type": "display_data"
    },
    {
     "data": {
      "text/markdown": [
       "The day after publication of the Freeberg story, Muharto visits the Post to thank Sabam and Cameron personally and pick up extra copies to give to friends. Muharto tells them ...\n",
       "\n",
       "\n",
       " "
      ],
      "text/plain": [
       "<IPython.core.display.Markdown object>"
      ]
     },
     "metadata": {},
     "output_type": "display_data"
    },
    {
     "data": {
      "text/markdown": [
       "# Cameron Meets Julia"
      ],
      "text/plain": [
       "<IPython.core.display.Markdown object>"
      ]
     },
     "metadata": {},
     "output_type": "display_data"
    },
    {
     "data": {
      "text/markdown": [
       "At the National Library reference archives, Cameron meets the attendant, Julia, an attractive, bookish Indonesian woman in her early twenties. She demonstrates an impressive competence finding the books he requests in short order, along with related material she thinks might be useful. Cameron reads about the political situation in post-war Indonesia, and the high regard the various foreign diplomats, journalists, and academics felt held for Freeberg. After a couple of hours, Cameron wants to break for coffee. As no beverages are allowed in the reference section, Julia escorts him to the staff canteen. Julia tells Cameron about her desire to take her master's degree in an American university, and reveals that her father is an army colonel in the intelligence section.  \n"
      ],
      "text/plain": [
       "<IPython.core.display.Markdown object>"
      ]
     },
     "metadata": {},
     "output_type": "display_data"
    },
    {
     "data": {
      "text/markdown": [
       "# At The Kuntzkring"
      ],
      "text/plain": [
       "<IPython.core.display.Markdown object>"
      ]
     },
     "metadata": {},
     "output_type": "display_data"
    },
    {
     "data": {
      "text/markdown": [
       "Cameron visits Victor to learn more about Spoor's efforts to stop the blockade runs. Instead, Victor tells Cameron of Emiria Soenassa, a beautiful charismatic painter who fell in love with him after he had praised her art in a newspaper article. \n"
      ],
      "text/plain": [
       "<IPython.core.display.Markdown object>"
      ]
     },
     "metadata": {},
     "output_type": "display_data"
    },
    {
     "data": {
      "text/markdown": [
       "# Harvard Party"
      ],
      "text/plain": [
       "<IPython.core.display.Markdown object>"
      ]
     },
     "metadata": {},
     "output_type": "display_data"
    },
    {
     "data": {
      "text/markdown": [
       "Sabam gives Cameron his invitation to a reception for visiting Harvard alumni at the house of Boediardjo, a former Air Force senior officer and government minister. Cameron learns that this was the same Boediardjo who served as RI-002 radio operator. At Cameron's urging Boedi regales his guest with tales of adventure. The guests depart soon after dinner to catch an early flight, and Boedi invites Cameron to stay so he can ask him about Muharto's investigations. Boedi also tells Cameron of the humorous incidents when they were stranded penniless in Manila waiting to sell the quinine. Boedi pokes affection fun at his former comrade for his belief that Freeberg's friend Tom Lee would treat them to drinks and dinner out of kindness for their predicament. However, to Boedi, it had been obvious that Lee had been an intelligence operative pumping them for information about the Republic. \n"
      ],
      "text/plain": [
       "<IPython.core.display.Markdown object>"
      ]
     },
     "metadata": {},
     "output_type": "display_data"
    },
    {
     "data": {
      "text/markdown": [
       "# Cameron Dates Julia"
      ],
      "text/plain": [
       "<IPython.core.display.Markdown object>"
      ]
     },
     "metadata": {},
     "output_type": "display_data"
    },
    {
     "data": {
      "text/markdown": [
       "Cameron returns to the library for more research. Julia helps by translating headlines in Dutch newspapers. They discover that they had both arranged to meet friends at the Hotel Hilton. Cameron offers to take her there on his Harley Davidson. At the hotel, Julia's friends tell her to go after Cameron. If he rides a Harley he must be rich. They tease her by saying thatas the daughter of \"Honest Eddy\", one of the few senior army officers who is not corrupt, this would be the only way she could afford to pay her own bill at this luxury hotel.  \n"
      ],
      "text/plain": [
       "<IPython.core.display.Markdown object>"
      ]
     },
     "metadata": {},
     "output_type": "display_data"
    },
    {
     "data": {
      "text/markdown": [
       "# Portrait Of Emeria"
      ],
      "text/plain": [
       "<IPython.core.display.Markdown object>"
      ]
     },
     "metadata": {},
     "output_type": "display_data"
    },
    {
     "data": {
      "text/markdown": [
       "Intrigued by Victor's stories of Emeria, Julia searches the stacks for articles mentioning her. A portrait emerges of an independent, charismatic young  woman  whose mixed parentage of a Dutch businessman and a Javanese aristocrat and artistic talent grants her entry into all levels of European and Indonesian society.     \n"
      ],
      "text/plain": [
       "<IPython.core.display.Markdown object>"
      ]
     },
     "metadata": {},
     "output_type": "display_data"
    },
    {
     "data": {
      "text/markdown": [
       "# American Surfer"
      ],
      "text/plain": [
       "<IPython.core.display.Markdown object>"
      ]
     },
     "metadata": {},
     "output_type": "display_data"
    },
    {
     "data": {
      "text/markdown": [
       "Victor shows Cameron the photo of Robert Koke, and tells of his suspicion that Koke had been \"The Quiet American\" in Batavia. Cameron ties this in with Boedi's assessment of Tom Lee, and comes to the conclusion that Spoor had been plotting with the newly formed CIA to overthrow the Republic and take control of the East Indies himself, as had happened in South Africa. "
      ],
      "text/plain": [
       "<IPython.core.display.Markdown object>"
      ]
     },
     "metadata": {},
     "output_type": "display_data"
    },
    {
     "data": {
      "text/markdown": [
       "# Julia Goes Ballistic"
      ],
      "text/plain": [
       "<IPython.core.display.Markdown object>"
      ]
     },
     "metadata": {},
     "output_type": "display_data"
    },
    {
     "data": {
      "text/markdown": [
       "Colonel Eddy tells Julia of his guilt in not being able to fulfill the dreams of his only child. He tells Julia to start applying to universities in Europe and America. When Julia asks where the tuition money is coming from, Eddy holds up his hand and says: \" Beres Sayang \", meaning she should not worry.\n",
       "Later that evening, Cameron takes Julia to an expat party in Kemang, and she is mistaken for a bar girl. Julia takes Cameron to a far corner of the garden and screams at him in fury and humiliation, saying that all foreigners think Indonesian women who hang around foreigners are either household servants or hookers.  \n"
      ],
      "text/plain": [
       "<IPython.core.display.Markdown object>"
      ]
     },
     "metadata": {},
     "output_type": "display_data"
    },
    {
     "data": {
      "text/markdown": [
       "# Julia Ragu"
      ],
      "text/plain": [
       "<IPython.core.display.Markdown object>"
      ]
     },
     "metadata": {},
     "output_type": "display_data"
    },
    {
     "data": {
      "text/markdown": [
       "In an unguarded (and unclothed) moment, Cameron tells Julia about the Jakarta Post investigations into Army officers seeking to influence the emerging capital market through leaking false information to pump up stock values. Julia realizes that this must be the deal her father is involved in.\n",
       "Julia begs her father not to sully his reputation as \"Honest Eddy\" by participating in capital market manipulation, even though it means she will not be able to study overseas. Eddy replies: \"It's all right. It's not corruption when you take money from foreigners.\""
      ],
      "text/plain": [
       "<IPython.core.display.Markdown object>"
      ]
     },
     "metadata": {},
     "output_type": "display_data"
    },
    {
     "data": {
      "text/markdown": [
       "# Julia Visits Emeria"
      ],
      "text/plain": [
       "<IPython.core.display.Markdown object>"
      ]
     },
     "metadata": {},
     "output_type": "display_data"
    },
    {
     "data": {
      "text/markdown": [
       "During a trip to Jogja with Cameron, Julia slips away and follows a lead she encountered during her research. As she hoped, she finds Emiria Soenassa, who has now returned to Indonesia after living in the Netherlands, married to a Dutch academic. Asked why she abandoned Victor; Emiria replied that you always have to choose sides. \n"
      ],
      "text/plain": [
       "<IPython.core.display.Markdown object>"
      ]
     },
     "metadata": {},
     "output_type": "display_data"
    }
   ],
   "source": [
    "cf = load_config()\n",
    "ct = CherryTree(cf['index-file']) \n",
    "for node in [n for n in ct.nodes('Scenes') if n.level == 2 if len(n.notes) > 10]:\n",
    "    display(Markdown(f'# {node.name.title()}'))\n",
    "    display(Markdown(node.notes))"
   ]
  },
  {
   "cell_type": "markdown",
   "metadata": {},
   "source": []
  }
 ],
 "metadata": {
  "kernelspec": {
   "display_name": "Python 3",
   "language": "python",
   "name": "python3"
  },
  "language_info": {
   "codemirror_mode": {
    "name": "ipython",
    "version": 3
   },
   "file_extension": ".py",
   "mimetype": "text/x-python",
   "name": "python",
   "nbconvert_exporter": "python",
   "pygments_lexer": "ipython3",
   "version": "3.7.9"
  }
 },
 "nbformat": 4,
 "nbformat_minor": 4
}
