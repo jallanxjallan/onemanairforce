{
 "cells": [
  {
   "cell_type": "code",
   "execution_count": null,
   "metadata": {},
   "outputs": [],
   "source": [
    "import sys\n",
    "import os\n",
    "import re\n",
    "import pandas as pd\n",
    "import redis\n",
    "from pathlib import Path\n",
    "sys.path.append('/home/jeremy/Library')\n",
    "\n",
    "from storage.cherrytree import CherryTree\n",
    "\n",
    "r = redis.Redis(decode_responses=True)\n",
    "project_index_key = 'projects:filepath.document:index'\n",
    "def get_document_metadata(node):\n",
    "    filepath = Path(node.filepath).resolve()\n",
    "    document_key = r.hget(project_index_key, str(filepath))\n",
    "    if not document_key:\n",
    "        return None\n",
    "    document_data_key = r.hget(document_key, 'metadata')\n",
    "    if not document_data_key:\n",
    "        return None\n",
    "    data = {k:v for k,v in r.hgetall(document_data_key).items()}\n",
    "    if not data:\n",
    "        return None\n",
    "    return dict(node=node, data=data)\n",
    "\n",
    "writefile(\"adaptation/scripts/document_status.py\")\n"
   ]
  },
  {
   "cell_type": "code",
   "execution_count": null,
   "metadata": {},
   "outputs": [],
   "source": [
    "def get_document_metadata(node):\n",
    "    filepath = Path(node.filepath).resolve()\n",
    "    document_key = r.hget(project_index_key, str(filepath))\n",
    "    if not document_key:\n",
    "        return None\n",
    "    document_data_key = r.hget(document_key, 'metadata')\n",
    "    if not document_data_key:\n",
    "        return None\n",
    "    data = {k:v for k,v in r.hgetall(document_data_key).items()}\n",
    "    if not data:\n",
    "        return None\n",
    "    return dict(node=node, data=data)\n",
    "    "
   ]
  },
  {
   "cell_type": "code",
   "execution_count": null,
   "metadata": {},
   "outputs": [],
   "source": [
    "ct = CherryTree('synopsis.ctd')\n",
    "df = pd.DataFrame(filter(None, [get_document_metadata(n) for n in ct.nodes() if n.filepath]))\n",
    "# df['name'] = df.node.apply(lambda x: x.name)\n",
    "# df['status'] = df.data.apply(lambda x: x.get('status'))"
   ]
  },
  {
   "cell_type": "code",
   "execution_count": null,
   "metadata": {},
   "outputs": [],
   "source": [
    "[r.name for r in df.itertuples() if not r.data.get('component')] "
   ]
  },
  {
   "cell_type": "code",
   "execution_count": null,
   "metadata": {},
   "outputs": [],
   "source": [
    "# df['name'] = df.node.apply(lambda x: x.name)\n",
    "# df['status'] = df.data.apply(lambda x: x.get('status'))\n",
    "df['filepath'] = df.node.apply(lambda x: x.filepath)"
   ]
  },
  {
   "cell_type": "code",
   "execution_count": null,
   "metadata": {},
   "outputs": [],
   "source": [
    "%run Converter.py store_document_metadata.py --idx=content.ctd"
   ]
  },
  {
   "cell_type": "code",
   "execution_count": null,
   "metadata": {},
   "outputs": [],
   "source": [
    "df.head()"
   ]
  },
  {
   "cell_type": "code",
   "execution_count": null,
   "metadata": {},
   "outputs": [],
   "source": [
    "df['component'] = df.data.apply(lambda x: x.get('component'))\n",
    "df.component.unique()"
   ]
  },
  {
   "cell_type": "code",
   "execution_count": null,
   "metadata": {},
   "outputs": [],
   "source": [
    "df.status.unique()"
   ]
  },
  {
   "cell_type": "code",
   "execution_count": null,
   "metadata": {},
   "outputs": [],
   "source": [
    "t = df[~df.status.str.contains('Final')]\n",
    "t[['name', 'status', 'filepath']].head(30)"
   ]
  },
  {
   "cell_type": "code",
   "execution_count": 4,
   "metadata": {},
   "outputs": [
    {
     "name": "stdout",
     "output_type": "stream",
     "text": [
      "[Errno 2] No such file or directory: 'adaptation'\n",
      "/home/jeremy/Projects/one_man_air_force/adaptation\n"
     ]
    }
   ],
   "source": [
    "cd adaptation"
   ]
  },
  {
   "cell_type": "code",
   "execution_count": 5,
   "metadata": {},
   "outputs": [
    {
     "name": "stdout",
     "output_type": "stream",
     "text": [
      "\u001b[0m\u001b[01;34marchive\u001b[0m/               \u001b[01;34mevents\u001b[0m/                \u001b[01;34mscripts\u001b[0m/\n",
      "create_document.yaml   index_archive.ctb      \u001b[01;34mstaging\u001b[0m/\n",
      "create_scene.yaml      index_archive.txt      \u001b[01;34mstories\u001b[0m/\n",
      "create_story.yaml      \u001b[01;34minvestigation\u001b[0m/         synopsis.ctd\n",
      "create_synopsis.yaml   note.yaml              synopsis.markdown\n",
      "document_status.ipynb  output_treatment.yaml\n",
      "\u001b[01;34mdrafts\u001b[0m/                \u001b[01;34mscenes\u001b[0m/\n"
     ]
    }
   ],
   "source": [
    "ls"
   ]
  },
  {
   "cell_type": "code",
   "execution_count": 6,
   "metadata": {},
   "outputs": [
    {
     "name": "stdout",
     "output_type": "stream",
     "text": [
      "\u001b[0m\u001b[01;32mexport_stories.py\u001b[0m*  make_synopsis.py                      sov_parser.ipynb\n",
      "export_synopsis.py  Match stories and scene drafts.ipynb  story_links.ipynb\n",
      "extract_notes.py    output_screenplay.ipynb               synopsis_only.py\n"
     ]
    }
   ],
   "source": [
    "ls scripts"
   ]
  },
  {
   "cell_type": "code",
   "execution_count": null,
   "metadata": {},
   "outputs": [],
   "source": []
  }
 ],
 "metadata": {
  "kernelspec": {
   "display_name": "Python 3",
   "language": "python",
   "name": "python3"
  },
  "language_info": {
   "codemirror_mode": {
    "name": "ipython",
    "version": 3
   },
   "file_extension": ".py",
   "mimetype": "text/x-python",
   "name": "python",
   "nbconvert_exporter": "python",
   "pygments_lexer": "ipython3",
   "version": "3.7.9"
  }
 },
 "nbformat": 4,
 "nbformat_minor": 4
}
