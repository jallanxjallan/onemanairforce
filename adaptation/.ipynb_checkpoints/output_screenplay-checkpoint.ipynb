{
 "cells": [
  {
   "cell_type": "raw",
   "metadata": {},
   "source": [
    "extract dates through entse\n",
    "\n",
    "extract ref_node data through node links\n",
    "\n",
    "append all to phrase matcher with callback based on phrase label\n",
    "\n",
    "run phrase match on all docs to generate content list\n",
    "[ref]("
   ]
  },
  {
   "cell_type": "code",
   "execution_count": 6,
   "metadata": {},
   "outputs": [],
   "source": [
    "import sys\n",
    "import os\n",
    "import re\n",
    "import spacy\n",
    "sys.path.append('/home/jeremy/Library')\n",
    "from storage.cherrytree_xml import CherryTree\n",
    "from document.document import Document\n",
    "from spacy.matcher import PhraseMatcher"
   ]
  },
  {
   "cell_type": "code",
   "execution_count": 2,
   "metadata": {},
   "outputs": [],
   "source": [
    "note_split = re.compile(r'~+')\n",
    "ct = CherryTree('synopsis.ctd')\n",
    "nlp = spacy.load(\"en_core_web_sm\")"
   ]
  },
  {
   "cell_type": "code",
   "execution_count": 2,
   "metadata": {},
   "outputs": [],
   "source": [
    "time_pat = re.compile('(January|February|March|April|May|June|July|August|September|October|November|December\\s19\\d{2})')"
   ]
  },
  {
   "cell_type": "code",
   "execution_count": 34,
   "metadata": {},
   "outputs": [],
   "source": [
    "nodes = [n for n in ct.nodes('Sequences') if len(n.notes) > 5]"
   ]
  },
  {
   "cell_type": "code",
   "execution_count": 4,
   "metadata": {},
   "outputs": [],
   "source": [
    "docs = nlp.pipe([(n.notes, n) for n in nodes], as_tuples=True)\n"
   ]
  },
  {
   "cell_type": "code",
   "execution_count": 5,
   "metadata": {},
   "outputs": [
    {
     "data": {
      "text/plain": [
       "[{'node': <storage.cherrytree_xml.Node at 0x7f72e10d9cc0>,\n",
       "  'pos': 1,\n",
       "  'text': 'September 1988'},\n",
       " {'node': <storage.cherrytree_xml.Node at 0x7f72e10d9cc0>,\n",
       "  'pos': 18,\n",
       "  'text': 'June 1947'},\n",
       " {'node': <storage.cherrytree_xml.Node at 0x7f72e10d9cc0>,\n",
       "  'pos': 46,\n",
       "  'text': 'July 1947'},\n",
       " {'node': <storage.cherrytree_xml.Node at 0x7f72e10d9cc0>,\n",
       "  'pos': 68,\n",
       "  'text': 'August 1947'},\n",
       " {'node': <storage.cherrytree_xml.Node at 0x7f72e10d9cc0>,\n",
       "  'pos': 89,\n",
       "  'text': 'September 1947'},\n",
       " {'node': <storage.cherrytree_xml.Node at 0x7f72e10d9cc0>,\n",
       "  'pos': 98,\n",
       "  'text': 'December 1947'},\n",
       " {'node': <storage.cherrytree_xml.Node at 0x7f72e10d9cc0>,\n",
       "  'pos': 111,\n",
       "  'text': 'May 1948'},\n",
       " {'node': <storage.cherrytree_xml.Node at 0x7f72e10d9cc0>,\n",
       "  'pos': 123,\n",
       "  'text': 'September 1948'}]"
      ]
     },
     "execution_count": 5,
     "metadata": {},
     "output_type": "execute_result"
    }
   ],
   "source": [
    "content = [dict(node=n, pos=e.start, text=e.text) \\\n",
    "           for d,n in docs \\\n",
    "           for e in d.ents if e.label_ == 'DATE']\n",
    "           \n",
    "content"
   ]
  },
  {
   "cell_type": "code",
   "execution_count": 39,
   "metadata": {},
   "outputs": [],
   "source": [
    "def ref_data(match_obj, doc, index, matches):\n",
    "    print(doc['no'])\n",
    "#     start = matches[index][1]\n",
    "#     end = matches[index][2]\n",
    "#     name = doc[start:end]\n",
    "    \n",
    "#     ref_node = ct.find_node_by_name(name)\n",
    "    \n",
    "#     try:\n",
    "#         intro, text = note_split.split(ref_node.notes, maxsplit=2)\n",
    "#     except ValueError:\n",
    "#         return None\n",
    "# #     return dict(seq=seq, name=ref_node.name, text=text)\n",
    "#     print(text)\n",
    "\n"
   ]
  },
  {
   "cell_type": "code",
   "execution_count": 40,
   "metadata": {},
   "outputs": [
    {
     "name": "stdout",
     "output_type": "stream",
     "text": [
      "\n",
      "In September 1988, Cameron, a  American journalism graduate doing a year's internship as a copy editor The Jakarta Post, an English-language daily newspaper, pitches a story idea to managing editor Sabam Siagian. Sabam rolls his eyes and explains, yet again, that, under the rules set down by the government,  non-Indonesian newsroom staff cannot do actual reporting. Then Sabam relaxes his gruff demeanor and tells Cameron he can interview his old friend former Air Force officer Petit Muharto about his experiences during the post-war struggle against the Dutch. This is a feature, not news, and anyway, says Sabam \"No one else has time.\"\n",
      "\n",
      "\n",
      "\n",
      " Cameron visits Muharto, who tells him of meeting Freeberg, having his unregistered aircraft designated  RI-002, and his essential role in facing down Dutch aggression by running essential supplies through the blockade. Muharto ends his recollection by explaining how Freeberg vanished  while transporting a fortune in gold to safety ahead of an expected Dutch invasion. Farmers had stumbled upon the wreckage of RI-002 on a remote mountainside ten years previously, but could not identify Freeberg's remains from the few fragments of bones they found. Cameron senses the genuine sadness in Muharto that the fate of his friend and fellow pilot remains unknown.  \n",
      "\n",
      "\n",
      "Muharto receives a telephone call from an army base in Tasikmalaya, reporting that a foreign pilot has landed on a remote beach nearby and asked for Muharto by name.   \n",
      "\n",
      "Muharto meets Pang Suparto, the army officer who had telephoned him, and together they take two barrels of aviation fuel to the beach where Freeberg is stranded. When Muharto sees the beach, bookended by two rivers and the gap between the water and palm trees scarcely more than the Dakota's wing span, he knew that, of all the pilots he had met, only Bob Freeberg had the skill to make that landing.\n",
      "\n",
      "In Jogja, Suradarma commissions Bob to fly a cargo valuable quinine to Manila and return with medicine and other goods. To forestall possible problems with authorities in Manila Muharto suggests that they paint a registration number, RI-002, on the unregistered war-surplus Dakota. \n",
      "\n",
      "\n",
      "Bob and Muharto attend their first court session to decide who owns Dutch representatives take them to court over possession of the quinine cargo.\n",
      "\n",
      "\n",
      "\n",
      "As they wait for a buyer for the quinine Muharto, Boedi, and Pang eat one meal a day at a Indian restaurant. On most days Bob joins them and pays for all, because he is responsible for their well-being until he returns them to Java.\n",
      "\n",
      "Muharto takes Bob to meet Soekarno . At the presidential palace. As was\n",
      "his custom in private conversation, Soekarno treats Bob as an equal and\n",
      "urges him to stay and help the struggle.\n",
      "\n",
      "\n",
      "Freeberg, Muharto and Boedi fly Republican economists and other experts to Manila to meet\n",
      "with United Nations representatives in the hill town of Baguio. The delegates, who are all prominent figures in the Republic and have cosmopolitan backgrounds, treat Bob with as much respect as do the hero-worshipping common people of Jogja.\n",
      "\n",
      "\n",
      "Suryadarma promotes Muharto to major and assigns him to desk duties at Maguwo. \n",
      "\n",
      "Muharto wonders if he had turned down promotion he would have continued to fly with Bob and maybe, with him as Co pilot, bob would have not continued to take such risks and maybe averted tragedy.\n"
     ]
    }
   ],
   "source": [
    "ct = CherryTree('synopsis.ctd')\n",
    "nodes = {i:n for i,n in enumerate(ct.nodes('Sequences')) if len(n.notes) > 5]\n",
    "docs = nlp.pipe([(n.notes, i) for i,n in nodes.items()], as_tuples=True)\n",
    "for doc, no in docs:\n",
    "    doc['pos'] = no\n",
    "    matcher = PhraseMatcher(nlp.vocab)\n",
    "    labels = [nlp(l.text) for l in nodes[no].links if l.type == 'node']\n",
    "    matcher.add(\"REFS\", labels, on_match=ref_data)\n",
    "    matches = matcher(doc)\n",
    "    \n",
    "        "
   ]
  },
  {
   "cell_type": "code",
   "execution_count": null,
   "metadata": {},
   "outputs": [],
   "source": []
  }
 ],
 "metadata": {
  "kernelspec": {
   "display_name": "Python 3",
   "language": "python",
   "name": "python3"
  },
  "language_info": {
   "codemirror_mode": {
    "name": "ipython",
    "version": 3
   },
   "file_extension": ".py",
   "mimetype": "text/x-python",
   "name": "python",
   "nbconvert_exporter": "python",
   "pygments_lexer": "ipython3",
   "version": "3.6.8"
  }
 },
 "nbformat": 4,
 "nbformat_minor": 4
}
