{
 "cells": [
  {
   "cell_type": "code",
   "execution_count": 2,
   "metadata": {},
   "outputs": [],
   "source": [
    "#%%writefile scripts/story_placements.py\n",
    "#!/usr/bin/env python\n",
    "\n",
    "import pandas as pd\n",
    "from pathlib import Path\n",
    "from storage.cherrytree import CherryTree\n",
    "import sys\n",
    "import dateparser\n",
    "\n"
   ]
  },
  {
   "cell_type": "code",
   "execution_count": null,
   "metadata": {},
   "outputs": [],
   "source": []
  },
  {
   "cell_type": "code",
   "execution_count": null,
   "metadata": {},
   "outputs": [],
   "source": [
    "ct = CherryTree('content_index.ctd')\n",
    "columns = ['story', 'incident', 'episode']\n",
    "ep = pd.DataFrame([dict(id=l.href, \n",
    "                        scene=n.name, \n",
    "                        episode=n.parent.name, \n",
    "                        episode_sequence=n.sequence)\n",
    "                        for n in ct.nodes('Synopsis') for l in n.links if l.type == 'node'])\n",
    "\n",
    "st = pd.DataFrame([dict(\n",
    "        id=n.id, \n",
    "        incident=n.name, \n",
    "        story=n.parent.name,\n",
    "        story_sequence=n.sequence,\n",
    "        timestamp=next(filter(None, (dateparser.parse(b) for b in n.bullets)), None )) \\\n",
    "                   for p in ('History', 'Fiction') for n in ct.nodes(p) if n.level == 3])\n",
    "                   \n",
    "\n",
    "    \n",
    "df = st.merge(ep, on='id', how='left')\n",
    "\n",
    "df.timestamp.fillna(pd.to_datetime(0, origin='unix'), inplace=True)\n",
    "\n",
    "df['date'] = df.timestamp.apply(lambda x: x.strftime('%B %Y'))\n",
    "\n",
    "\n"
   ]
  },
  {
   "cell_type": "code",
   "execution_count": null,
   "metadata": {},
   "outputs": [],
   "source": [
    "story = 'Follow the Gold|Bule Hunter'\n",
    "dfs = df[(df.story.str.contains(story, case=False)) & (~df.episode.isna())]\n",
    "dfs.episode_sequence"
   ]
  },
  {
   "cell_type": "code",
   "execution_count": null,
   "metadata": {},
   "outputs": [],
   "source": [
    "df"
   ]
  },
  {
   "cell_type": "code",
   "execution_count": null,
   "metadata": {},
   "outputs": [],
   "source": [
    "for node in ct.nodes():\n",
    "    print(node.parent.element.index(node.element))\n",
    "    \n",
    "    "
   ]
  },
  {
   "cell_type": "code",
   "execution_count": 3,
   "metadata": {},
   "outputs": [],
   "source": [
    "ct = CherryTree('content_index.ctd')\n",
    "story = 'Bule Hunter' \n",
    "\n",
    "for node in ct.nodes(story):\n",
    "    link = ct.find_elem_by_attribute('link', node.id)\n",
    "    if link:\n",
    "        sequence = link.parent\n",
    "        episode = sequence.parent\n",
    "        print(node.name, sequence.name, episode.name)\n",
    "\n",
    "\n",
    "\n"
   ]
  },
  {
   "cell_type": "code",
   "execution_count": null,
   "metadata": {},
   "outputs": [],
   "source": []
  }
 ],
 "metadata": {
  "kernelspec": {
   "display_name": "Python 3",
   "language": "python",
   "name": "python3"
  },
  "language_info": {
   "codemirror_mode": {
    "name": "ipython",
    "version": 3
   },
   "file_extension": ".py",
   "mimetype": "text/x-python",
   "name": "python",
   "nbconvert_exporter": "python",
   "pygments_lexer": "ipython3",
   "version": "3.7.9"
  }
 },
 "nbformat": 4,
 "nbformat_minor": 4
}
