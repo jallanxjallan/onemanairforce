{
 "cells": [
  {
   "cell_type": "code",
   "execution_count": null,
   "metadata": {},
   "outputs": [],
   "source": [
    "import sys\n",
    "import pandas as pd\n",
    "from pathlib import Path\n",
    "from storage.cherrytree import CherryTree\n",
    "from document.document import Document\n",
    "from utility.config import load_config\n",
    "import sys\n",
    "import dateparser\n",
    "\n",
    "cf = load_config()\n",
    "namespace = cf.get('namespace', 'document')\n",
    "base_node = cf.get('base-node', None)\n",
    "\n",
    "\n",
    "def load_status_data():\n",
    "    ct = CherryTree(cf['index-file']) \n",
    "    \n",
    "    data = []\n",
    "    for node in [n for n in ct.nodes(base_node) if n.filepath]:\n",
    "        try:\n",
    "            doc = Document.read_file(node.filepath)\n",
    "        except Exception as e:\n",
    "            print(e)\n",
    "            continue \n",
    "        item = {k:v for k,v in doc.metadata.items()}\n",
    "        item['name'] = node.name \n",
    "        item['level']:node.level \n",
    "        item['filepath'] = node.filepath\n",
    "        data.append(item)\n",
    "    \n",
    "    return pd.DataFrame(data).fillna('No Data')"
   ]
  },
  {
   "cell_type": "code",
   "execution_count": null,
   "metadata": {},
   "outputs": [],
   "source": [
    "ct = CherryTree(cf['index-file']) \n",
    "df = pd.DataFrame([dict(name=n.name, synopsis=n.notes) \n",
    "                   for n in ct.nodes(base_node) if n.level==2])\n",
    "df"
   ]
  },
  {
   "cell_type": "code",
   "execution_count": null,
   "metadata": {},
   "outputs": [],
   "source": []
  },
  {
   "cell_type": "code",
   "execution_count": null,
   "metadata": {},
   "outputs": [],
   "source": []
  }
 ],
 "metadata": {
  "kernelspec": {
   "display_name": "Python 3",
   "language": "python",
   "name": "python3"
  },
  "language_info": {
   "codemirror_mode": {
    "name": "ipython",
    "version": 3
   },
   "file_extension": ".py",
   "mimetype": "text/x-python",
   "name": "python",
   "nbconvert_exporter": "python",
   "pygments_lexer": "ipython3",
   "version": "3.7.9"
  }
 },
 "nbformat": 4,
 "nbformat_minor": 4
}
