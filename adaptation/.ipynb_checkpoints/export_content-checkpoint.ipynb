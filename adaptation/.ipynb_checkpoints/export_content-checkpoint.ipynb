{
 "cells": [
  {
   "cell_type": "code",
   "execution_count": null,
   "metadata": {},
   "outputs": [],
   "source": [
    "import sys\n",
    "import os\n",
    "import re\n",
    "import pandas as pd\n",
    "import redis\n",
    "from pathlib import Path\n",
    "sys.path.append('/home/jeremy/Library')\n",
    "\n",
    "from storage.cherrytree import CherryTree\n",
    "\n",
    "\n",
    "def export_note_content(self, output_dir, base_node=None):\n",
    "        output_path = Path(output_dir)\n",
    "        if not output_path.exists():\n",
    "            print(output_path, 'does not exist')\n",
    "            return False\n",
    "        for node in [n for n in self.ct.nodes(base_node) if n.content if not n.filepath]:\n",
    "            input = temp_content(node.content)\n",
    "            output=output_path.joinpath(snake_case(node.name)).with_suffix('.md')\n",
    "            if output.exists():\n",
    "                print(output, 'already exists')\n",
    "                continue\n",
    "            node.insert_link(href=output, text='Content')\n",
    "\n",
    "            node.remove_element(node.content)\n",
    "\n",
    "            print(PandocArgs(input=input,\n",
    "                            output=output,\n",
    "                            metadata=dict(title=node.name),\n",
    "                            defaults='create_document'\n",
    "                         ))\n",
    "#         self.ct.save()"
   ]
  }
 ],
 "metadata": {
  "kernelspec": {
   "display_name": "Python 3",
   "language": "python",
   "name": "python3"
  },
  "language_info": {
   "codemirror_mode": {
    "name": "ipython",
    "version": 3
   },
   "file_extension": ".py",
   "mimetype": "text/x-python",
   "name": "python",
   "nbconvert_exporter": "python",
   "pygments_lexer": "ipython3",
   "version": "3.7.9"
  }
 },
 "nbformat": 4,
 "nbformat_minor": 4
}
