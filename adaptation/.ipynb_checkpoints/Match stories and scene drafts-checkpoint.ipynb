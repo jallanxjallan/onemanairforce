{
 "cells": [
  {
   "cell_type": "code",
   "execution_count": 6,
   "metadata": {},
   "outputs": [],
   "source": [
    "import sys\n",
    "sys.path.append('/home/jeremy/Library')\n",
    "from storage.cherrytree_xml import CherryTree\n",
    "from pathlib import Path\n",
    "from utility.helpers import snake_case"
   ]
  },
  {
   "cell_type": "code",
   "execution_count": 34,
   "metadata": {},
   "outputs": [],
   "source": [
    "ct = CherryTree('synopsis.ctd')\n",
    "nodes = set([snake_case(n.name) for n in ct.nodes('Stories') if not n.filepath])\n",
    "files = set([f.stem for f in Path('stories').iterdir()])\n",
    "matches = nodes.intersection(files)"
   ]
  },
  {
   "cell_type": "code",
   "execution_count": 37,
   "metadata": {},
   "outputs": [
    {
     "name": "stdout",
     "output_type": "stream",
     "text": [
      "Sabam Enlists Help True\n",
      "Syd Slips Reporter Article True\n",
      "Sabam Gets Warning True\n",
      "At the Lapo False\n",
      "Julia Calls Cameron False\n",
      "Muharto Visits Jakarta Post False\n",
      "Cameron Signs On True\n",
      "First Boedi Interview False\n",
      "Cameron Likes Affandi False\n",
      "Santoso Trance False\n",
      "Arms Deal False\n",
      "Victor Learns Truth False\n",
      "Muharto Asks George True\n",
      "Ining Asks To Return True\n",
      "Ining Was Found Dead True\n",
      "Muharto Reports Incident True\n",
      "Newspaper Calls Ining True\n",
      "Spoor takes command True\n",
      "Spoor Hears Reports True\n",
      "Feeding the troops True\n",
      "Ining Is Training Guerrillas True\n",
      "Thai Authorities Released Freeberg True\n",
      "Appeal to Foote True\n",
      "Spoor Orders Night Patrol True\n",
      "Lt  Arnolt dies True\n",
      "Spoor poisoned True\n",
      "Father Interrogates True\n",
      "Ani engaged True\n",
      "Ani Berates Muharto True\n",
      "Muharto Wants To Decline True\n",
      "Pots and Pans False\n",
      "Ani Serves Rice True\n",
      "Muharto Marries True\n",
      "Ani Berates Westerling True\n",
      "Banteng Merah True\n",
      "Bambang Saptoadji Messes Landing True\n",
      "Crushing Disappointment True\n",
      "Who Gets To Sit True\n",
      "Bambang Cannot Conceal Envy True\n",
      "Bambang Gets Place True\n",
      "Bambang Ingratiates Himself True\n",
      "Bob Gives Bambang True\n",
      "Not Ready for Airplanes True\n",
      "Bob Puts Ri-002 True\n",
      "Bambang Decides To Fly True\n",
      "Victor Arrives True\n",
      "Arts Circle True\n",
      "Victor Meets Emeria True\n",
      "Ambassador Mentions CIA True\n",
      "Assigned to Westerling True\n",
      "Tongue Lashing False\n",
      "Victor Defects. True\n",
      "Cobley Makes Deal True\n",
      "Cobley Accuses True\n",
      "POAS Flights True\n",
      "Cobley Flies Cadres True\n",
      "Suryadarma Takes Fowlers Fuel Allowance True\n",
      "Fowler Refuses Request True\n",
      "Cobley Crashes False\n",
      "Bob Arrives True\n",
      "SE Airlines True\n",
      "Buying the Dakota True\n",
      "Ordering Suits True\n",
      "Missing Dakota True\n",
      "Grounded in Changi False\n",
      "Bob Bought Suits True\n",
      "Deportation Offer True\n",
      "Partner Has Done Nothing True\n",
      "Black Flights True\n",
      "Bob Defies Suryadarma True\n",
      "Bob Returns True\n",
      "Suryadarma Takes Fuel Allowance True\n",
      "Ri-002 Drops Leaflets True\n",
      "SE Air Bankrupt True\n",
      "Gold Run True\n",
      "Aviation Licences True\n",
      "CALI Runs True\n",
      "Promoted to Major True\n",
      "Reconciling With Muharto. True\n",
      "Muharto regrets promotion True\n",
      "Bob Requests Muharto Reassigned True\n",
      "Muharto Distressed True\n"
     ]
    }
   ],
   "source": [
    "target_dir = Path('stories')\n",
    "for node in [n for n in ct.nodes('Stories') if not n.filepath if n.level == 4]:\n",
    "    target_file = target_dir.joinpath(snake_case(node.name)).with_suffix('.md')\n",
    "    if target_file.exists():\n",
    "        \n"
   ]
  },
  {
   "cell_type": "code",
   "execution_count": null,
   "metadata": {},
   "outputs": [],
   "source": []
  }
 ],
 "metadata": {
  "kernelspec": {
   "display_name": "Python 3",
   "language": "python",
   "name": "python3"
  },
  "language_info": {
   "codemirror_mode": {
    "name": "ipython",
    "version": 3
   },
   "file_extension": ".py",
   "mimetype": "text/x-python",
   "name": "python",
   "nbconvert_exporter": "python",
   "pygments_lexer": "ipython3",
   "version": "3.6.8"
  }
 },
 "nbformat": 4,
 "nbformat_minor": 4
}
