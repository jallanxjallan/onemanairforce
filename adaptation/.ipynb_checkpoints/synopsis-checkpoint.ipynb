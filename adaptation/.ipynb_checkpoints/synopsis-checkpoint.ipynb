{
 "cells": [
  {
   "cell_type": "code",
   "execution_count": 1,
   "metadata": {},
   "outputs": [],
   "source": [
    "from storage.cherrytree import CherryTree\n",
    "from utility.config import load_config\n",
    "from utility.strings import snake_case\n",
    "from utility.helpers import make_identifier\n",
    "from IPython.display import display, Markdown\n",
    "from pathlib import Path\n",
    "from functools import reduce\n",
    "# from document.pandoc import PandocArgs, run_single\n",
    "import dateparser\n",
    "import datetime\n",
    "import pandas as pd\n",
    "# import spacy\n",
    "import attr\n",
    "import re\n",
    "# import redis"
   ]
  },
  {
   "cell_type": "code",
   "execution_count": null,
   "metadata": {},
   "outputs": [],
   "source": [
    "        \n",
    "# nlp = spacy.load('en_core_web_md')\n",
    "\n",
    "output_path = Path('output')\n",
    "wsplit = re.compile('\\s')\n",
    "r = redis.Redis(decode_responses=True)\n",
    "    "
   ]
  },
  {
   "cell_type": "code",
   "execution_count": 3,
   "metadata": {},
   "outputs": [],
   "source": [
    "def story_placements():\n",
    "    ct = CherryTree('content_index.ctd') \n",
    "    dfs = [pd.DataFrame([dict( \n",
    "                             identifier=n.id,\n",
    "                             incident=n.name,\n",
    "                             component=n.parent.name,\n",
    "                             ctype=c,\n",
    "                             component_index=no\n",
    "                            ) \n",
    "                        for c in ('Events', 'Moments', 'Investigations', 'History', 'Stories')\n",
    "                         no, n in enumerate(ct.nodes(c)) if n.level == 3])]\n",
    "    dfs.append(pd.DataFrame([dict(\n",
    "                            identifier=l.href, \n",
    "                            sequence=s.name,\n",
    "                            sequence_index=no,\n",
    "                            content=s.content) \n",
    "                        for no, s in enumerate(ct.nodes('Synopsis')) \n",
    "                        for l in s.links if l.type == 'node'])) \n",
    "    df = reduce(lambda  left,right: pd.merge(left,right,on=['identifier'],\n",
    "                                            how='outer'), dfs) \n",
    "    return df.fillna(\n",
    "        {'sequence': 'Unplaced', 'sequence_index':0, 'content': 'to come'})\n"
   ]
  },
  {
   "cell_type": "code",
   "execution_count": 16,
   "metadata": {},
   "outputs": [
    {
     "data": {
      "text/html": [
       "<div>\n",
       "<style scoped>\n",
       "    .dataframe tbody tr th:only-of-type {\n",
       "        vertical-align: middle;\n",
       "    }\n",
       "\n",
       "    .dataframe tbody tr th {\n",
       "        vertical-align: top;\n",
       "    }\n",
       "\n",
       "    .dataframe thead th {\n",
       "        text-align: right;\n",
       "    }\n",
       "</style>\n",
       "<table border=\"1\" class=\"dataframe\">\n",
       "  <thead>\n",
       "    <tr style=\"text-align: right;\">\n",
       "      <th></th>\n",
       "      <th>identifier</th>\n",
       "      <th>incident</th>\n",
       "      <th>story</th>\n",
       "      <th>story_index</th>\n",
       "      <th>sequence</th>\n",
       "      <th>sequence_index</th>\n",
       "      <th>content</th>\n",
       "    </tr>\n",
       "  </thead>\n",
       "  <tbody>\n",
       "  </tbody>\n",
       "</table>\n",
       "</div>"
      ],
      "text/plain": [
       "Empty DataFrame\n",
       "Columns: [identifier, incident, story, story_index, sequence, sequence_index, content]\n",
       "Index: []"
      ]
     },
     "execution_count": 16,
     "metadata": {},
     "output_type": "execute_result"
    }
   ],
   "source": [
    "df = story_placements() \n",
    "df[df.incident.isna()]"
   ]
  },
  {
   "cell_type": "code",
   "execution_count": 15,
   "metadata": {},
   "outputs": [
    {
     "name": "stdout",
     "output_type": "stream",
     "text": [
      "Into The Typhoon\n"
     ]
    }
   ],
   "source": [
    "ct = CherryTree('content_index.ctd')\n",
    "node = ct.find_node_by_name('First Muharto Interview')\n",
    "for link in [l for l in node.links if l.type == 'node']: \n",
    "    if ct.find_node_by_id(link.href).parent.name == 'Moments':\n",
    "        print(link.text)\n",
    "    "
   ]
  },
  {
   "cell_type": "code",
   "execution_count": 21,
   "metadata": {},
   "outputs": [
    {
     "data": {
      "text/html": [
       "<div>\n",
       "<style scoped>\n",
       "    .dataframe tbody tr th:only-of-type {\n",
       "        vertical-align: middle;\n",
       "    }\n",
       "\n",
       "    .dataframe tbody tr th {\n",
       "        vertical-align: top;\n",
       "    }\n",
       "\n",
       "    .dataframe thead th {\n",
       "        text-align: right;\n",
       "    }\n",
       "</style>\n",
       "<table border=\"1\" class=\"dataframe\">\n",
       "  <thead>\n",
       "    <tr style=\"text-align: right;\">\n",
       "      <th></th>\n",
       "      <th>sequence</th>\n",
       "      <th>content</th>\n",
       "      <th>story</th>\n",
       "    </tr>\n",
       "    <tr>\n",
       "      <th>sequence_index</th>\n",
       "      <th></th>\n",
       "      <th></th>\n",
       "      <th></th>\n",
       "    </tr>\n",
       "  </thead>\n",
       "  <tbody>\n",
       "    <tr>\n",
       "      <th>0.0</th>\n",
       "      <td>Unplaced</td>\n",
       "      <td>to come</td>\n",
       "      <td>{Follow The Gold, Bob The Best}</td>\n",
       "    </tr>\n",
       "    <tr>\n",
       "      <th>1.0</th>\n",
       "      <td>On The Beach</td>\n",
       "      <td>On an evening in June 1947, Bob Freeberg, a yo...</td>\n",
       "      <td>{Bob The Best}</td>\n",
       "    </tr>\n",
       "    <tr>\n",
       "      <th>2.0</th>\n",
       "      <td>First Muharto Interview</td>\n",
       "      <td>In September 1988, Cameron Bishop, a young Ame...</td>\n",
       "      <td>{Follow The Gold, Bob The Best}</td>\n",
       "    </tr>\n",
       "    <tr>\n",
       "      <th>4.0</th>\n",
       "      <td>Cameron Signs On</td>\n",
       "      <td>Cameron visits Muharto to deliver a few\\ncopie...</td>\n",
       "      <td>{Follow The Gold}</td>\n",
       "    </tr>\n",
       "    <tr>\n",
       "      <th>5.0</th>\n",
       "      <td>Reunion With Boediardjo</td>\n",
       "      <td>In October 1988, Muharto takes Cameron to a lo...</td>\n",
       "      <td>{Bob The Best}</td>\n",
       "    </tr>\n",
       "    <tr>\n",
       "      <th>7.0</th>\n",
       "      <td>First Jogja Trip</td>\n",
       "      <td>Muharto and Cameron travel to Jogjakarta to vi...</td>\n",
       "      <td>{Follow The Gold, Bob The Best}</td>\n",
       "    </tr>\n",
       "    <tr>\n",
       "      <th>11.0</th>\n",
       "      <td>Heros Funeral</td>\n",
       "      <td>Hadi Santoso tells of stealing fathers necklac...</td>\n",
       "      <td>{Follow The Gold}</td>\n",
       "    </tr>\n",
       "    <tr>\n",
       "      <th>12.0</th>\n",
       "      <td>Black Flights</td>\n",
       "      <td>Suryadarma pressures Bob into relocating the R...</td>\n",
       "      <td>{Bob The Best}</td>\n",
       "    </tr>\n",
       "    <tr>\n",
       "      <th>15.0</th>\n",
       "      <td>Spite Their Face</td>\n",
       "      <td>In September 1948, Freeberg and Fowler complai...</td>\n",
       "      <td>{Bob The Best}</td>\n",
       "    </tr>\n",
       "    <tr>\n",
       "      <th>16.0</th>\n",
       "      <td>Julia Solves Mystery</td>\n",
       "      <td>In December 1988, Julia discovers the photo of...</td>\n",
       "      <td>{Follow The Gold}</td>\n",
       "    </tr>\n",
       "    <tr>\n",
       "      <th>17.0</th>\n",
       "      <td>Palembang Ii</td>\n",
       "      <td>to come</td>\n",
       "      <td>{Follow The Gold, Bob The Best}</td>\n",
       "    </tr>\n",
       "  </tbody>\n",
       "</table>\n",
       "</div>"
      ],
      "text/plain": [
       "                               sequence  \\\n",
       "sequence_index                            \n",
       "0.0                            Unplaced   \n",
       "1.0                        On The Beach   \n",
       "2.0             First Muharto Interview   \n",
       "4.0                    Cameron Signs On   \n",
       "5.0             Reunion With Boediardjo   \n",
       "7.0                    First Jogja Trip   \n",
       "11.0                      Heros Funeral   \n",
       "12.0                      Black Flights   \n",
       "15.0                   Spite Their Face   \n",
       "16.0               Julia Solves Mystery   \n",
       "17.0                       Palembang Ii   \n",
       "\n",
       "                                                          content  \\\n",
       "sequence_index                                                      \n",
       "0.0                                                       to come   \n",
       "1.0             On an evening in June 1947, Bob Freeberg, a yo...   \n",
       "2.0             In September 1988, Cameron Bishop, a young Ame...   \n",
       "4.0             Cameron visits Muharto to deliver a few\\ncopie...   \n",
       "5.0             In October 1988, Muharto takes Cameron to a lo...   \n",
       "7.0             Muharto and Cameron travel to Jogjakarta to vi...   \n",
       "11.0            Hadi Santoso tells of stealing fathers necklac...   \n",
       "12.0            Suryadarma pressures Bob into relocating the R...   \n",
       "15.0            In September 1948, Freeberg and Fowler complai...   \n",
       "16.0            In December 1988, Julia discovers the photo of...   \n",
       "17.0                                                      to come   \n",
       "\n",
       "                                          story  \n",
       "sequence_index                                   \n",
       "0.0             {Follow The Gold, Bob The Best}  \n",
       "1.0                              {Bob The Best}  \n",
       "2.0             {Follow The Gold, Bob The Best}  \n",
       "4.0                           {Follow The Gold}  \n",
       "5.0                              {Bob The Best}  \n",
       "7.0             {Follow The Gold, Bob The Best}  \n",
       "11.0                          {Follow The Gold}  \n",
       "12.0                             {Bob The Best}  \n",
       "15.0                             {Bob The Best}  \n",
       "16.0                          {Follow The Gold}  \n",
       "17.0            {Follow The Gold, Bob The Best}  "
      ]
     },
     "execution_count": 21,
     "metadata": {},
     "output_type": "execute_result"
    }
   ],
   "source": [
    "stories = 'Follow The Gold|Bob The Best'\n",
    "df[df.story.str.contains(stories)].groupby('sequence_index').agg({'sequence':'first','content':'first', 'story':set})\n"
   ]
  },
  {
   "cell_type": "code",
   "execution_count": null,
   "metadata": {},
   "outputs": [],
   "source": [
    "def make_linked_documents(section):\n",
    "    ct = CherryTree('content_index.ctd')\n",
    "    for node in [n for n in ct.nodes(section) if n.content if not n.document]:\n",
    "        link = node.insert_document_link('synopsis')\n",
    "        metadata=dict(title=node.name, date='No Date', status='check')\n",
    "        rs = write_pandoc(PandocArgs(input=interfile(node.content), \n",
    "                                output=link.href, \n",
    "                                metadata=metadata))\n",
    "        print(rs)\n",
    "    ct.save()\n",
    "    \n",
    "dfd = make_linked_documents('Interviews')"
   ]
  },
  {
   "cell_type": "code",
   "execution_count": 20,
   "metadata": {},
   "outputs": [
    {
     "data": {
      "text/html": [
       "<div>\n",
       "<style scoped>\n",
       "    .dataframe tbody tr th:only-of-type {\n",
       "        vertical-align: middle;\n",
       "    }\n",
       "\n",
       "    .dataframe tbody tr th {\n",
       "        vertical-align: top;\n",
       "    }\n",
       "\n",
       "    .dataframe thead th {\n",
       "        text-align: right;\n",
       "    }\n",
       "</style>\n",
       "<table border=\"1\" class=\"dataframe\">\n",
       "  <thead>\n",
       "    <tr style=\"text-align: right;\">\n",
       "      <th></th>\n",
       "      <th>first</th>\n",
       "      <th>second</th>\n",
       "    </tr>\n",
       "  </thead>\n",
       "  <tbody>\n",
       "    <tr>\n",
       "      <th>0</th>\n",
       "      <td>1</td>\n",
       "      <td>1</td>\n",
       "    </tr>\n",
       "    <tr>\n",
       "      <th>1</th>\n",
       "      <td>2</td>\n",
       "      <td>1</td>\n",
       "    </tr>\n",
       "    <tr>\n",
       "      <th>2</th>\n",
       "      <td>2</td>\n",
       "      <td>3</td>\n",
       "    </tr>\n",
       "  </tbody>\n",
       "</table>\n",
       "</div>"
      ],
      "text/plain": [
       "   first  second\n",
       "0      1       1\n",
       "1      2       1\n",
       "2      2       3"
      ]
     },
     "execution_count": 20,
     "metadata": {},
     "output_type": "execute_result"
    }
   ],
   "source": [
    "sf = pd.DataFrame([(1, 1), (2, 1), (2, 3)], columns=['first', 'second'])\n",
    "# sf.groupby('first').filter(lambda x: x.sum() > 2)\n",
    "sf"
   ]
  },
  {
   "cell_type": "code",
   "execution_count": null,
   "metadata": {},
   "outputs": [],
   "source": [
    "# def format_content(scn, pscn): \n",
    "    \n",
    "#     data = {}\n",
    "#     if scene.timestamp.__class__.__name__ == 'Timestamp'\n",
    "#         if re.match('[1-9]', scn.date):\n",
    "#             date = scn.timestamp.strftime(\"%d %B %Y\")\n",
    "#             data['exact_date'] = True \n",
    "#         else:\n",
    "#             date = scn.timestamp.strftime(\"%B %Y\")\n",
    "#     else:\n",
    "#          date = 'No Date'\n",
    "            \n",
    "#     data['date'] = date\n",
    "        \n",
    "        \n",
    "#     if not pscn:\n",
    "#         data['new'] = True \n",
    "#     elif pscn.sequence != scn.sequence:\n",
    "#         data['new'] = True \n",
    "#     elif scn.subject:\n",
    "#         data['return'] = True \n",
    "#     else:\n",
    "#         time_diff = scn.timestamp - pscn.timestamp\n",
    "#         days = time_diff.days\n",
    "#         if days < -600: \n",
    "#             data['flashback'] = True\n",
    "#         elif days == 0:\n",
    "#             data['that_day'] = True\n",
    "#         elif days == 1:\n",
    "#             data['next_day'] = True\n",
    "#         elif days < 7:\n",
    "#             data['that_week'] = True\n",
    "#         else:\n",
    "#             data['continue'] = True\n",
    "#     return data, scn.content\n",
    "\n",
    "        \n",
    "df = load_outline()\n",
    "output=Path('episodes')\n",
    "pandoc_args = []\n",
    "for no in range(1,9):\n",
    "    episode=f'Episode {int(no)}'\n",
    "    links = [f'[{s.title}](../{s.document})' for s in \\\n",
    "             df[df.episode.str.contains(episode)].sort_values(['episode_index']).itertuples()]\n",
    "    \n",
    "    pandoc_args.append(PandocArgs(input=interfile(links),\n",
    "                       output=output.joinpath(snake_case(episode)).with_suffix('.md'),\n",
    "                       metadata=dict(title=episode)))\n",
    "\n",
    "\n",
    "write_pandoc(pandoc_args)"
   ]
  },
  {
   "cell_type": "code",
   "execution_count": null,
   "metadata": {},
   "outputs": [],
   "source": [
    "# dfd['link'] = dfd.apply(lambda x: f'[{x.title}](../{x.filepath})', axis=1) \n",
    "dfd[['title', 'link', 'synopsis']].sort_values('title').to_csv('scene_index.csv')"
   ]
  },
  {
   "cell_type": "code",
   "execution_count": null,
   "metadata": {},
   "outputs": [],
   "source": [
    "ct = CherryTree('content_index.ctd')\n",
    "columns =['story','incident', 'episode', 'sequence']\n",
    "\n",
    "df_outline = load_outline(ct)\n",
    "\n",
    "\n",
    "stories = 'Muharto|Birth Of RI-002|Bob the Best'\n",
    "query = f'(story.str.contains(\"{stories}\", case=False))'\n",
    "\n",
    "t = df_outline.query(query).sort_values('episode_index')\n",
    "t[columns]"
   ]
  },
  {
   "cell_type": "code",
   "execution_count": null,
   "metadata": {},
   "outputs": [],
   "source": [
    "output = 'synopsis'\n",
    "ct = CherryTree('content_index.ctd') \n",
    "[n.insert_document_link(output) for n in ct.nodes('Interviews') if n.level == 3]\n",
    "ct.save()"
   ]
  },
  {
   "cell_type": "code",
   "execution_count": null,
   "metadata": {},
   "outputs": [],
   "source": [
    "ct = CherryTree('content_index.ctd') \n",
    "dfo = load_outline(ct)\n",
    "dfo.head(50)"
   ]
  },
  {
   "cell_type": "code",
   "execution_count": null,
   "metadata": {},
   "outputs": [],
   "source": [
    "dfo[dfo.duplicated(subset='title', keep='last')][['title', 'sequence']]"
   ]
  },
  {
   "cell_type": "code",
   "execution_count": null,
   "metadata": {},
   "outputs": [],
   "source": [
    "df = load_outline()\n",
    "for no in range(8):\n",
    "    export_episode(f'Episode {int(no)}', df)\n"
   ]
  },
  {
   "cell_type": "code",
   "execution_count": null,
   "metadata": {},
   "outputs": [],
   "source": [
    "dfo = load_outline()\n",
    "story = 'Shabby'\n",
    "# dfo[(dfo.synopsis.isna()) & (dfo.story.str.contains(story))].incident\n",
    "# dfo[(dfo.synopsis.isna())].story.unique()\n",
    "dfo['timestamp'] = dfo.date.apply(lambda x: dateparser.parse(x) if type(x) is str else None)\n",
    "dfo.iloc[100]"
   ]
  },
  {
   "cell_type": "code",
   "execution_count": null,
   "metadata": {},
   "outputs": [],
   "source": [
    "df.columns"
   ]
  },
  {
   "cell_type": "code",
   "execution_count": null,
   "metadata": {},
   "outputs": [],
   "source": [
    "dfo = load_outline() \n",
    "dfs = dfo[dfo.story.notna()]\n",
    "# dfi = dfo[dfo.subject.notna()]\n",
    "# dfe = pd.read_csv('episode_index.csv')\n",
    "# dfa = pd.concat([dfe, dfi, dfs]).drop_duplicates('document')\n",
    "dfs['stem'] = dfs.document.apply(lambda x: Path(x).stem)\n",
    "dfs[['story', 'incident', 'stem']].to_csv('episode_index.csv', index=False)\n",
    "\n",
    "        "
   ]
  },
  {
   "cell_type": "code",
   "execution_count": null,
   "metadata": {},
   "outputs": [],
   "source": [
    "args = PandocArgs(input=interfile('this is a test'), output='output/test_pca.md')\n",
    "write_pandoc(args)\n"
   ]
  },
  {
   "cell_type": "code",
   "execution_count": null,
   "metadata": {},
   "outputs": [],
   "source": [
    "files = [f for f in Path('/home/jeremy/Projects/one_man_air_force/adaptation/synopsis/').iterdir()]\n",
    "\n",
    "\n",
    "for filename in files:\n",
    "    args = PandocArgs(input=filename, filters=['store_document_metadata.lua'])\n",
    "    rs = run_pandoc(args, output=None)\n"
   ]
  },
  {
   "cell_type": "code",
   "execution_count": null,
   "metadata": {},
   "outputs": [],
   "source": [
    "'|'.join([datetime.datetime(month=i, day=1, year=1988).strftime('%B') for i in range(1,13)])\n",
    "(January|February|March|April|May|June|July|August|September|October|November|December) ([0-9]{4})"
   ]
  },
  {
   "cell_type": "code",
   "execution_count": null,
   "metadata": {},
   "outputs": [],
   "source": [
    "dfo[~dfo.episode.isna()].episode_index"
   ]
  },
  {
   "cell_type": "code",
   "execution_count": null,
   "metadata": {},
   "outputs": [],
   "source": [
    "dfo = load_outline()\n",
    "story = 'Alternate'\n",
    "dfo[dfo.story.str.contains(story)][['incident', 'sequence', 'episode']]"
   ]
  },
  {
   "cell_type": "code",
   "execution_count": 7,
   "metadata": {},
   "outputs": [
    {
     "ename": "NameError",
     "evalue": "name 'ct' is not defined",
     "output_type": "error",
     "traceback": [
      "\u001b[0;31m---------------------------------------------------------------------------\u001b[0m",
      "\u001b[0;31mNameError\u001b[0m                                 Traceback (most recent call last)",
      "\u001b[0;32m<ipython-input-7-7898f04a025f>\u001b[0m in \u001b[0;36m<module>\u001b[0;34m\u001b[0m\n\u001b[0;32m----> 1\u001b[0;31m \u001b[0mct\u001b[0m\u001b[0;34m\u001b[0m\u001b[0;34m\u001b[0m\u001b[0m\n\u001b[0m",
      "\u001b[0;31mNameError\u001b[0m: name 'ct' is not defined"
     ]
    }
   ],
   "source": [
    "ct"
   ]
  },
  {
   "cell_type": "code",
   "execution_count": null,
   "metadata": {},
   "outputs": [],
   "source": []
  }
 ],
 "metadata": {
  "kernelspec": {
   "display_name": "Python 3",
   "language": "python",
   "name": "python3"
  },
  "language_info": {
   "codemirror_mode": {
    "name": "ipython",
    "version": 3
   },
   "file_extension": ".py",
   "mimetype": "text/x-python",
   "name": "python",
   "nbconvert_exporter": "python",
   "pygments_lexer": "ipython3",
   "version": "3.7.9"
  }
 },
 "nbformat": 4,
 "nbformat_minor": 4
}
