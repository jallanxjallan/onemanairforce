{
 "cells": [
  {
   "cell_type": "code",
   "execution_count": 1,
   "metadata": {},
   "outputs": [],
   "source": [
    "from storage.cherrytree import CherryTree\n",
    "from utility.config import load_config\n",
    "from utility.strings import snake_case\n",
    "from IPython.display import display, Markdown\n",
    "from pathlib import Path\n",
    "from functools import reduce\n",
    "from document.pandoc import PandocArgs, interfile, write_pandoc, stream_pandoc\n",
    "from document.document import Document \n",
    "import dateparser\n",
    "import pandas as pd\n",
    "import spacy\n",
    "import attr\n",
    "import re"
   ]
  },
  {
   "cell_type": "code",
   "execution_count": null,
   "metadata": {},
   "outputs": [],
   "source": [
    "        \n",
    "nlp = spacy.load('en_core_web_md')\n",
    "\n",
    "output_path = Path('output')\n",
    "wsplit = re.compile('\\s')\n",
    "    "
   ]
  },
  {
   "cell_type": "code",
   "execution_count": 2,
   "metadata": {},
   "outputs": [],
   "source": [
    "def load_outline():\n",
    "    ct = CherryTree('content_index.ctd')\n",
    "    dfs = pd.DataFrame([dict( \n",
    "                             identifier=n.id,\n",
    "                             incident=n.name,\n",
    "                             story=n.parent.name,\n",
    "                             notes=n.notes\n",
    "                            ) \n",
    "                        for n in ct.nodes('Stories')  if n.level > 2 ]) \n",
    "    dfs['story_index'] = dfs.index\n",
    "    dfs.story_index.astype(int, copy=False) \n",
    "    \n",
    "    dfi = pd.DataFrame([dict( \n",
    "                             identifier=n.id,\n",
    "                             interview=n.name,\n",
    "                             subject=n.parent.name,\n",
    "                             notes=n.notes\n",
    "                            ) \n",
    "                        for n in ct.nodes('Interviews')  if n.level > 2 ]) \n",
    "    \n",
    "    \n",
    "    dfe = pd.DataFrame([dict(identifier=l.href,\n",
    "                             sequence=s.name,\n",
    "                             episode=e.name) for e in ct.nodes('Synopsis') \n",
    "                                              for s in e.children \n",
    "                                              for l in s.links])  \n",
    "\n",
    "    dfe['episode_index'] = dfe.index\n",
    "    \n",
    "    \n",
    "    docs = [] \n",
    "\n",
    "    for node in [n for n in ct.nodes() if n.document]:\n",
    "        try:\n",
    "            doc = Document.read_file(node.document)\n",
    "        except Exception as e:\n",
    "            print('error loading document for', node.name) \n",
    "            continue\n",
    "        docs.append((doc.metadata, doc.content, node.id)) \n",
    "    dfd = pd.DataFrame(docs, columns=['metadata', 'content', 'identifier'])\n",
    "    dfm = dfd.metadata.apply(pd.Series)\n",
    "    dft = pd.merge(dfd, dfm, left_index=True, right_index=True)\n",
    "    \n",
    "    return reduce(lambda  left,right: pd.merge(left,right,on='identifier', how='outer'), [dfs, dfi, dfe, dft]).fillna('No Data')\n",
    "\n",
    "\n",
    "    \n"
   ]
  },
  {
   "cell_type": "code",
   "execution_count": null,
   "metadata": {},
   "outputs": [],
   "source": [
    "def make_linked_documents(section)\n",
    "    ct = CherryTree('content_index.ctd')\n",
    "    for node in [n for n in ct.nodes(section) if n.content if not n.filepath]:\n",
    "        link = node.insert_document_link('synopsis')\n",
    "        metadata=dict(title=node.name, date='No Date', status='check')\n",
    "        write_pandoc(PandocArgs(input=interfile(node.content), \n",
    "                                output=link.href, \n",
    "                                metadata=metadata))\n",
    "    ct.save()"
   ]
  },
  {
   "cell_type": "code",
   "execution_count": 26,
   "metadata": {},
   "outputs": [],
   "source": [
    "# def format_content(scn, pscn): \n",
    "    \n",
    "#     data = {}\n",
    "#     if scene.timestamp.__class__.__name__ == 'Timestamp'\n",
    "#         if re.match('[1-9]', scn.date):\n",
    "#             date = scn.timestamp.strftime(\"%d %B %Y\")\n",
    "#             data['exact_date'] = True \n",
    "#         else:\n",
    "#             date = scn.timestamp.strftime(\"%B %Y\")\n",
    "#     else:\n",
    "#          date = 'No Date'\n",
    "            \n",
    "#     data['date'] = date\n",
    "        \n",
    "        \n",
    "#     if not pscn:\n",
    "#         data['new'] = True \n",
    "#     elif pscn.sequence != scn.sequence:\n",
    "#         data['new'] = True \n",
    "#     elif scn.subject:\n",
    "#         data['return'] = True \n",
    "#     else:\n",
    "#         time_diff = scn.timestamp - pscn.timestamp\n",
    "#         days = time_diff.days\n",
    "#         if days < -600: \n",
    "#             data['flashback'] = True\n",
    "#         elif days == 0:\n",
    "#             data['that_day'] = True\n",
    "#         elif days == 1:\n",
    "#             data['next_day'] = True\n",
    "#         elif days < 7:\n",
    "#             data['that_week'] = True\n",
    "#         else:\n",
    "#             data['continue'] = True\n",
    "#     return data, scn.content\n",
    "\n",
    "def export_episode(episode, output_dir):\n",
    "    output_path = Path(output_dir)\n",
    "    \n",
    "    pandoc_args = [PandocArgs(input=interfile(),\n",
    "                                output=interfile(),\n",
    "                                metadata=dict(episode=episode),\n",
    "                                template='synopsis')]\n",
    "\n",
    "    prev_scene = None\n",
    "    df = load_outline()\n",
    "    scn = df[df.episode.str.contains(episode)].copy()\n",
    "    scn['timestamp'] = scn.date.apply(lambda x: dateparser.parse(x) if type(x) is str else None)\n",
    "    no_dates = scn[scn.timestamp.isna()]\n",
    "    print(df.iloc[162])\n",
    "#     print(no_dates[['incident', 'date', 'timestamp', 'episode']])\n",
    "\n",
    "#     if no_dates.any():\n",
    "#         for scene in scn[any(scn.timestamp.isna())].itertuples():\n",
    "#             print(scene.title, 'has not date') \n",
    "#         return False\n",
    "    \n",
    "    \n",
    "    \n",
    "    \n",
    "#     .sort_values(['episode_index']).itertuples():\n",
    "#         variables, content = format_content(scene, prev_scene)\n",
    "        \n",
    "                    \n",
    "#         pandoc_args.append(PandocArgs(input=interfile(content),\n",
    "#                                         output=interfile(),\n",
    "#                                         variables=variables,\n",
    "#                                         template='synopsis'))   \n",
    "            \n",
    "#         prev_scene = scene\n",
    "\n",
    "#     pandoc_args.append(PandocArgs(inputs=[a.output for a in pandoc_args],\n",
    "#                                   output=output_path.joinpath(snake_case(episode)).with_suffix('.md')))\n",
    "\n",
    "#     return stream_pandoc(pandoc_args)"
   ]
  },
  {
   "cell_type": "code",
   "execution_count": null,
   "metadata": {},
   "outputs": [],
   "source": [
    "ct = CherryTree('content_index.ctd')\n",
    "columns =['story','incident', 'episode', 'sequence']\n",
    "\n",
    "df_outline = load_outline(ct)\n",
    "\n",
    "\n",
    "stories = 'Muharto|Birth Of RI-002|Bob the Best'\n",
    "query = f'(story.str.contains(\"{stories}\", case=False))'\n",
    "\n",
    "t = df_outline.query(query).sort_values('episode_index')\n",
    "t[columns]"
   ]
  },
  {
   "cell_type": "code",
   "execution_count": null,
   "metadata": {},
   "outputs": [],
   "source": [
    "output = 'synopsis'\n",
    "ct = CherryTree('content_index.ctd') \n",
    "[n.insert_document_link(output) for n in ct.nodes('Interviews') if n.level == 3]\n",
    "ct.save()"
   ]
  },
  {
   "cell_type": "code",
   "execution_count": null,
   "metadata": {},
   "outputs": [],
   "source": [
    "ct = CherryTree('content_index.ctd') \n",
    "dfo = load_outline(ct)\n",
    "dfo.head(50)"
   ]
  },
  {
   "cell_type": "code",
   "execution_count": null,
   "metadata": {},
   "outputs": [],
   "source": [
    "dfo[dfo.duplicated(subset='title', keep='last')][['title', 'sequence']]"
   ]
  },
  {
   "cell_type": "code",
   "execution_count": 27,
   "metadata": {},
   "outputs": [
    {
     "name": "stdout",
     "output_type": "stream",
     "text": [
      "identifier                                                    1001\n",
      "incident                                                   No Data\n",
      "story                                                      No Data\n",
      "notes_x                                                    No Data\n",
      "story_index                                                No Data\n",
      "interview                                      Penniless in Manila\n",
      "subject                                                    Muharto\n",
      "notes_y          • Stuck in Manila for three months\\n• VT-CLA s...\n",
      "sequence                                     Cameron Meets Muharto\n",
      "episode                                                  Episode 1\n",
      "episode_index                                                   12\n",
      "metadata                                                   No Data\n",
      "content                                                    No Data\n",
      "title                                                      No Data\n",
      "date                                                       No Data\n",
      "location                                                   No Data\n",
      "status                                                     No Data\n",
      "type                                                       No Data\n",
      "synopsis                                                   No Data\n",
      "Name: 162, dtype: object\n"
     ]
    }
   ],
   "source": [
    "ct = CherryTree('content_index.ctd')\n",
    "export_episode('Episode 1', 'output')\n"
   ]
  },
  {
   "cell_type": "code",
   "execution_count": 71,
   "metadata": {},
   "outputs": [
    {
     "data": {
      "text/plain": [
       "identifier                                                     971\n",
       "incident                                    Julia Learns of Emeria\n",
       "story                                           Alternate Herstory\n",
       "notes_x          Document \\n☐ Explain  Victor finds shot of Eme...\n",
       "story_index                                                      1\n",
       "interview                                                      NaN\n",
       "subject                                                        NaN\n",
       "notes_y                                                        NaN\n",
       "sequence                                                    Emeria\n",
       "episode                                                  Episode 3\n",
       "episode_index                                                   43\n",
       "metadata         {'title': 'Julia Learns of Emeria', 'date': '2...\n",
       "content          \\n\\n\\nVictor searches for more shots of Batavi...\n",
       "title                                       Julia Learns of Emeria\n",
       "date                                                2 October 1988\n",
       "location                                                    IPPHOS\n",
       "status                                                  needs work\n",
       "type                                                           NaN\n",
       "synopsis         Victor finds photo of Emeria, and tells Julia ...\n",
       "timestamp                                      1988-10-02 00:00:00\n",
       "Name: 1, dtype: object"
      ]
     },
     "execution_count": 71,
     "metadata": {},
     "output_type": "execute_result"
    }
   ],
   "source": [
    "dfo = load_outline()\n",
    "story = 'Shabby'\n",
    "# dfo[(dfo.synopsis.isna()) & (dfo.story.str.contains(story))].incident\n",
    "# dfo[(dfo.synopsis.isna())].story.unique()\n",
    "dfo['timestamp'] = dfo.date.apply(lambda x: dateparser.parse(x) if type(x) is str else None)\n",
    "dfo.iloc[100]"
   ]
  },
  {
   "cell_type": "code",
   "execution_count": 76,
   "metadata": {},
   "outputs": [
    {
     "data": {
      "text/plain": [
       "identifier                                                     982\n",
       "incident                                                       NaN\n",
       "story                                                          NaN\n",
       "notes_x                                                        NaN\n",
       "story_index                                                    NaN\n",
       "interview                                 Cameron Meets Boediardjo\n",
       "subject                                                 Boediardjo\n",
       "notes_y          Document \\n October 1988\\n• First boedi meetin...\n",
       "sequence                                   Reunion With Boediardjo\n",
       "episode                                                  Episode 2\n",
       "episode_index                                                   32\n",
       "metadata         {'title': 'Cameron Meets Boediardjo', 'date': ...\n",
       "content          \\nMuharto takes Cameron to his long-delayed re...\n",
       "title                                     Cameron Meets Boediardjo\n",
       "date                                                5 October 1988\n",
       "location                                      Boediardjo Residence\n",
       "status                                                          ok\n",
       "type                                                           NaN\n",
       "synopsis                                                       NaN\n",
       "timestamp                                      1988-10-05 00:00:00\n",
       "Name: 154, dtype: object"
      ]
     },
     "execution_count": 76,
     "metadata": {},
     "output_type": "execute_result"
    }
   ],
   "source": [
    "dfo[~dfo.subject.isna()]\n",
    "dfo.iloc[154]"
   ]
  },
  {
   "cell_type": "code",
   "execution_count": 9,
   "metadata": {},
   "outputs": [],
   "source": [
    "ct = CherryTree('content_index.ctd')\n",
    "for node in [n for n in ct.nodes('Stories') if n.document]:\n",
    "    try:\n",
    "        doc = Document.read_file(node.document)\n",
    "    except:\n",
    "        print(node.name) \n",
    "        "
   ]
  },
  {
   "cell_type": "code",
   "execution_count": null,
   "metadata": {},
   "outputs": [],
   "source": []
  }
 ],
 "metadata": {
  "kernelspec": {
   "display_name": "Python 3",
   "language": "python",
   "name": "python3"
  },
  "language_info": {
   "codemirror_mode": {
    "name": "ipython",
    "version": 3
   },
   "file_extension": ".py",
   "mimetype": "text/x-python",
   "name": "python",
   "nbconvert_exporter": "python",
   "pygments_lexer": "ipython3",
   "version": "3.7.9"
  }
 },
 "nbformat": 4,
 "nbformat_minor": 4
}
