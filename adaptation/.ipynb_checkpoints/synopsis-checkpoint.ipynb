{
 "cells": [
  {
   "cell_type": "code",
   "execution_count": null,
   "metadata": {},
   "outputs": [],
   "source": [
    "from storage.cherrytree import CherryTree\n",
    "from utility.config import load_config\n",
    "from utility.strings import snake_case\n",
    "from IPython.display import display, Markdown\n",
    "from pathlib import Path\n",
    "from functools import reduce\n",
    "from document.pandoc import PandocArgs, interfile, write_pandoc, stream_pandoc\n",
    "from document.document import Document \n",
    "import dateparser\n",
    "import pandas as pd\n",
    "import spacy\n",
    "import attr\n",
    "import re"
   ]
  },
  {
   "cell_type": "code",
   "execution_count": null,
   "metadata": {},
   "outputs": [],
   "source": [
    "        \n",
    "nlp = spacy.load('en_core_web_md')\n",
    "\n",
    "output_path = Path('output')\n",
    "wsplit = re.compile('\\s')\n",
    "    "
   ]
  },
  {
   "cell_type": "code",
   "execution_count": null,
   "metadata": {},
   "outputs": [],
   "source": [
    "def load_outline():\n",
    "    collections = ('Stories', 'Interviews')\n",
    "    ct = CherryTree('content_index.ctd')\n",
    "    dfs = pd.DataFrame([dict(node=n, \n",
    "                             identifier=n.id,\n",
    "                             incident=n.name,\n",
    "                             story=n.parent.name,\n",
    "                             parent=next((a.name for a in n.ancestors if a.level==1), None),\n",
    "                             notes=n.notes\n",
    "                            ) \n",
    "                        for c in collections for n in ct.nodes(c)  if n.level > 2 ]) \n",
    "    \n",
    "\n",
    "    dfs['story_index'] = dfs.index \n",
    "    dfs.story_index.astype(int, copy=False)\n",
    "    \n",
    "    dfe = pd.DataFrame([\n",
    "        dict(identifier=l.href,\n",
    "             sequence=s.name,\n",
    "             episode=e.name) for e in ct.nodes('Synopsis') \n",
    "                              for s in e.children \n",
    "                              for l in s.links])  \n",
    "\n",
    "    dfe['episode_index'] = dfe.index\n",
    "    \n",
    "    dfp = dfs.merge(dfe, on='identifier', how='left')\n",
    "    dfp['episode_index'] = dfp.episode_index.fillna(-1).astype(int)\n",
    "    dfp.episode.fillna('unplaced', inplace=True)\n",
    "    dfp.sequence.fillna('unplaced', inplace=True)\n",
    "    \n",
    "    docs = [] \n",
    "\n",
    "    for node in [n for n in ct.nodes() if n.document]:\n",
    "        try:\n",
    "            doc = Document.read_file(node.document)\n",
    "            docs.append((doc.metadata, doc.content, node.id)) \n",
    "        except Exception as e:\n",
    "            print(e, node.document) \n",
    "            \n",
    "    dfd = pd.DataFrame(docs, columns=['metadata', 'content', 'identifier'])\n",
    "    dfm = dfd.metadata.apply(pd.Series).fillna('No Data') \n",
    "    dfm['timestamp'] = dfm.date.apply(lambda x: dateparser.parse(x))\n",
    "    return dfp.merge(pd.concat([dfd, dfm], axis=1), on='identifier', how='left').drop(['node', 'metadata'], axis=1)\n",
    "    \n"
   ]
  },
  {
   "cell_type": "code",
   "execution_count": null,
   "metadata": {},
   "outputs": [],
   "source": [
    "def make_linked_documents(section)\n",
    "    ct = CherryTree('content_index.ctd')\n",
    "    for node in [n for n in ct.nodes(section) if n.content if not n.filepath]:\n",
    "        link = node.insert_document_link('synopsis')\n",
    "        metadata=dict(title=node.name, date='No Date', status='check')\n",
    "        write_pandoc(PandocArgs(input=interfile(node.content), \n",
    "                                output=link.href, \n",
    "                                metadata=metadata))\n",
    "    ct.save()"
   ]
  },
  {
   "cell_type": "code",
   "execution_count": 118,
   "metadata": {},
   "outputs": [],
   "source": [
    "def format_content(scn, pscn): \n",
    "    if re.match('[1-9]', scn.date):\n",
    "        data = dict(date=scn.timestamp.strftime(\"%d %B %Y\"))\n",
    "        data['exact_date'] = True\n",
    "    else:\n",
    "        data = dict(date=scn.timestamp.strftime(\"%B %Y\"))\n",
    "        \n",
    "        \n",
    "    if not pscn:\n",
    "        data['new'] = True \n",
    "    elif pscn.sequence != scn.sequence:\n",
    "        data['new'] = True \n",
    "    elif scn.parent == 'Interviews':\n",
    "        data['return'] = True \n",
    "    else:\n",
    "        time_diff = scn.timestamp - pscn.timestamp\n",
    "        days = time_diff.days\n",
    "        if days < -600: \n",
    "            data['flashback'] = True\n",
    "        elif days == 0:\n",
    "            data['that_day'] == True\n",
    "        elif days == 1:\n",
    "            data['next_day'] == True\n",
    "        elif tine_diff.days < 7:\n",
    "            date['that_week'] = True\n",
    "        else:\n",
    "            data['continue'] = True\n",
    "    return data, scn.content\n",
    "\n",
    "def export_episode(episode, output_dir):\n",
    "    output_path = Path(output_dir)\n",
    "    df = load_outline()\n",
    "    pandoc_args = [PandocArgs(input=interfile(),\n",
    "                                output=interfile(),\n",
    "                                metadata=dict(episode=episode),\n",
    "                                template='synopsis')]\n",
    "\n",
    "    prev_scene = None\n",
    "    for scene in df[df.episode.str.contains(episode)].sort_values(['episode_index']).itertuples(index=True):\n",
    "        variables, content = format_content(scene, prev_scene)\n",
    "                    \n",
    "        pandoc_args.append(PandocArgs(input=interfile(content),\n",
    "                                        output=interfile(),\n",
    "                                        variables=variables,\n",
    "                                        template='synopsis'))   \n",
    "            \n",
    "        prev_scene = scene\n",
    "\n",
    "    pandoc_args.append(PandocArgs(inputs=[a.output for a in pandoc_args],\n",
    "                                  output=output_path.joinpath(snake_case(episode)).with_suffix('.md')))\n",
    "\n",
    "    return write_pandoc(pandoc_args)"
   ]
  },
  {
   "cell_type": "code",
   "execution_count": null,
   "metadata": {
    "jupyter": {
     "source_hidden": true
    }
   },
   "outputs": [],
   "source": [
    "ct = CherryTree('content_index.ctd')\n",
    "columns =['story','incident', 'episode', 'sequence']\n",
    "\n",
    "df_outline = load_outline(ct)\n",
    "\n",
    "\n",
    "stories = 'Muharto|Birth Of RI-002|Bob the Best'\n",
    "query = f'(story.str.contains(\"{stories}\", case=False))'\n",
    "\n",
    "t = df_outline.query(query).sort_values('episode_index')\n",
    "t[columns]"
   ]
  },
  {
   "cell_type": "code",
   "execution_count": null,
   "metadata": {
    "jupyter": {
     "source_hidden": true
    }
   },
   "outputs": [],
   "source": [
    "output = 'synopsis'\n",
    "ct = CherryTree('content_index.ctd') \n",
    "[n.insert_document_link(output) for n in ct.nodes('Interviews') if n.level == 3]\n",
    "ct.save()"
   ]
  },
  {
   "cell_type": "code",
   "execution_count": null,
   "metadata": {
    "jupyter": {
     "source_hidden": true
    }
   },
   "outputs": [],
   "source": [
    "ct = CherryTree('content_index.ctd') \n",
    "dfo = load_outline(ct)\n",
    "dfo.head(50)"
   ]
  },
  {
   "cell_type": "code",
   "execution_count": null,
   "metadata": {
    "jupyter": {
     "source_hidden": true
    }
   },
   "outputs": [],
   "source": [
    "dfo[dfo.duplicated(subset='title', keep='last')][['title', 'sequence']]"
   ]
  },
  {
   "cell_type": "code",
   "execution_count": 117,
   "metadata": {},
   "outputs": [],
   "source": [
    "ct = CherryTree('content_index.ctd')\n",
    "export_episode('Episode 1', 'output')"
   ]
  },
  {
   "cell_type": "code",
   "execution_count": 77,
   "metadata": {},
   "outputs": [
    {
     "name": "stdout",
     "output_type": "stream",
     "text": [
      "<re.Match object; span=(0, 1), match='5'>\n",
      "<re.Match object; span=(0, 1), match='2'>\n",
      "<re.Match object; span=(0, 1), match='7'>\n",
      "None\n",
      "None\n",
      "None\n",
      "None\n",
      "None\n",
      "None\n",
      "None\n",
      "None\n",
      "None\n",
      "None\n",
      "None\n",
      "<re.Match object; span=(0, 1), match='2'>\n",
      "None\n",
      "None\n",
      "<re.Match object; span=(0, 1), match='1'>\n",
      "<re.Match object; span=(0, 1), match='1'>\n",
      "None\n",
      "None\n",
      "<re.Match object; span=(0, 1), match='8'>\n",
      "<re.Match object; span=(0, 1), match='8'>\n",
      "<re.Match object; span=(0, 1), match='3'>\n",
      "<re.Match object; span=(0, 1), match='3'>\n",
      "<re.Match object; span=(0, 1), match='3'>\n",
      "<re.Match object; span=(0, 1), match='3'>\n",
      "<re.Match object; span=(0, 1), match='7'>\n",
      "<re.Match object; span=(0, 1), match='8'>\n",
      "<re.Match object; span=(0, 1), match='8'>\n",
      "None\n",
      "None\n",
      "None\n",
      "None\n",
      "None\n",
      "None\n",
      "<re.Match object; span=(0, 1), match='2'>\n",
      "None\n",
      "None\n",
      "None\n",
      "None\n",
      "<re.Match object; span=(0, 1), match='1'>\n",
      "None\n",
      "None\n",
      "None\n",
      "None\n",
      "None\n",
      "<re.Match object; span=(0, 1), match='2'>\n",
      "None\n",
      "<re.Match object; span=(0, 1), match='1'>\n",
      "<re.Match object; span=(0, 1), match='2'>\n",
      "None\n",
      "None\n",
      "<re.Match object; span=(0, 1), match='3'>\n",
      "<re.Match object; span=(0, 1), match='2'>\n",
      "<re.Match object; span=(0, 1), match='1'>\n",
      "None\n",
      "<re.Match object; span=(0, 1), match='1'>\n",
      "<re.Match object; span=(0, 1), match='1'>\n",
      "<re.Match object; span=(0, 1), match='2'>\n",
      "<re.Match object; span=(0, 1), match='2'>\n",
      "None\n",
      "None\n",
      "None\n",
      "None\n",
      "None\n",
      "None\n",
      "None\n",
      "None\n",
      "None\n",
      "None\n",
      "<re.Match object; span=(0, 1), match='1'>\n",
      "<re.Match object; span=(0, 1), match='2'>\n",
      "<re.Match object; span=(0, 1), match='1'>\n",
      "<re.Match object; span=(0, 1), match='1'>\n",
      "<re.Match object; span=(0, 1), match='2'>\n",
      "<re.Match object; span=(0, 1), match='2'>\n",
      "None\n",
      "<re.Match object; span=(0, 1), match='1'>\n",
      "<re.Match object; span=(0, 1), match='1'>\n",
      "None\n",
      "<re.Match object; span=(0, 1), match='2'>\n",
      "None\n",
      "None\n",
      "None\n",
      "None\n",
      "None\n",
      "None\n",
      "None\n",
      "None\n",
      "<re.Match object; span=(0, 1), match='2'>\n",
      "<re.Match object; span=(0, 1), match='1'>\n",
      "<re.Match object; span=(0, 1), match='1'>\n",
      "None\n",
      "None\n",
      "None\n",
      "None\n",
      "None\n",
      "None\n",
      "<re.Match object; span=(0, 1), match='2'>\n",
      "None\n",
      "None\n",
      "None\n",
      "None\n",
      "<re.Match object; span=(0, 1), match='2'>\n",
      "<re.Match object; span=(0, 1), match='5'>\n",
      "None\n",
      "None\n",
      "None\n",
      "None\n",
      "<re.Match object; span=(0, 1), match='1'>\n",
      "None\n",
      "None\n",
      "None\n",
      "None\n",
      "None\n",
      "None\n",
      "None\n",
      "None\n",
      "None\n",
      "<re.Match object; span=(0, 1), match='2'>\n",
      "None\n",
      "None\n",
      "None\n",
      "None\n",
      "None\n",
      "None\n",
      "<re.Match object; span=(0, 1), match='1'>\n",
      "None\n",
      "None\n",
      "<re.Match object; span=(0, 1), match='2'>\n",
      "None\n",
      "None\n",
      "None\n",
      "<re.Match object; span=(0, 1), match='3'>\n",
      "None\n",
      "None\n",
      "None\n",
      "None\n",
      "None\n",
      "None\n",
      "None\n",
      "None\n",
      "<re.Match object; span=(0, 1), match='1'>\n"
     ]
    },
    {
     "ename": "TypeError",
     "evalue": "expected string or bytes-like object",
     "output_type": "error",
     "traceback": [
      "\u001b[0;31m---------------------------------------------------------------------------\u001b[0m",
      "\u001b[0;31mTypeError\u001b[0m                                 Traceback (most recent call last)",
      "\u001b[0;32m<ipython-input-77-8b91d1fba77f>\u001b[0m in \u001b[0;36m<module>\u001b[0;34m\u001b[0m\n\u001b[1;32m      1\u001b[0m \u001b[0mdfo\u001b[0m \u001b[0;34m=\u001b[0m \u001b[0mload_outline\u001b[0m\u001b[0;34m(\u001b[0m\u001b[0;34m)\u001b[0m\u001b[0;34m\u001b[0m\u001b[0;34m\u001b[0m\u001b[0m\n\u001b[1;32m      2\u001b[0m \u001b[0;32mfor\u001b[0m \u001b[0mrow\u001b[0m \u001b[0;32min\u001b[0m \u001b[0mdfo\u001b[0m\u001b[0;34m.\u001b[0m\u001b[0mitertuples\u001b[0m\u001b[0;34m(\u001b[0m\u001b[0;34m)\u001b[0m\u001b[0;34m:\u001b[0m\u001b[0;34m\u001b[0m\u001b[0;34m\u001b[0m\u001b[0m\n\u001b[0;32m----> 3\u001b[0;31m     \u001b[0mprint\u001b[0m\u001b[0;34m(\u001b[0m\u001b[0mre\u001b[0m\u001b[0;34m.\u001b[0m\u001b[0mmatch\u001b[0m\u001b[0;34m(\u001b[0m\u001b[0;34mr'[1-9]'\u001b[0m\u001b[0;34m,\u001b[0m \u001b[0mrow\u001b[0m\u001b[0;34m.\u001b[0m\u001b[0mdate\u001b[0m\u001b[0;34m)\u001b[0m\u001b[0;34m)\u001b[0m\u001b[0;34m\u001b[0m\u001b[0;34m\u001b[0m\u001b[0m\n\u001b[0m",
      "\u001b[0;32m/usr/local/lib/python3.7/re.py\u001b[0m in \u001b[0;36mmatch\u001b[0;34m(pattern, string, flags)\u001b[0m\n\u001b[1;32m    173\u001b[0m     \"\"\"Try to apply the pattern at the start of the string, returning\n\u001b[1;32m    174\u001b[0m     a Match object, or None if no match was found.\"\"\"\n\u001b[0;32m--> 175\u001b[0;31m     \u001b[0;32mreturn\u001b[0m \u001b[0m_compile\u001b[0m\u001b[0;34m(\u001b[0m\u001b[0mpattern\u001b[0m\u001b[0;34m,\u001b[0m \u001b[0mflags\u001b[0m\u001b[0;34m)\u001b[0m\u001b[0;34m.\u001b[0m\u001b[0mmatch\u001b[0m\u001b[0;34m(\u001b[0m\u001b[0mstring\u001b[0m\u001b[0;34m)\u001b[0m\u001b[0;34m\u001b[0m\u001b[0;34m\u001b[0m\u001b[0m\n\u001b[0m\u001b[1;32m    176\u001b[0m \u001b[0;34m\u001b[0m\u001b[0m\n\u001b[1;32m    177\u001b[0m \u001b[0;32mdef\u001b[0m \u001b[0mfullmatch\u001b[0m\u001b[0;34m(\u001b[0m\u001b[0mpattern\u001b[0m\u001b[0;34m,\u001b[0m \u001b[0mstring\u001b[0m\u001b[0;34m,\u001b[0m \u001b[0mflags\u001b[0m\u001b[0;34m=\u001b[0m\u001b[0;36m0\u001b[0m\u001b[0;34m)\u001b[0m\u001b[0;34m:\u001b[0m\u001b[0;34m\u001b[0m\u001b[0;34m\u001b[0m\u001b[0m\n",
      "\u001b[0;31mTypeError\u001b[0m: expected string or bytes-like object"
     ]
    }
   ],
   "source": [
    "dfo = load_outline()\n",
    "for row in dfo.itertuples():\n",
    "    print(re.match(r'[1-9]', row.date))\n"
   ]
  },
  {
   "cell_type": "code",
   "execution_count": null,
   "metadata": {},
   "outputs": [],
   "source": [
    "df[df.synopsis.str.contains('wiry')]"
   ]
  },
  {
   "cell_type": "code",
   "execution_count": null,
   "metadata": {},
   "outputs": [],
   "source": [
    "    "
   ]
  },
  {
   "cell_type": "code",
   "execution_count": null,
   "metadata": {},
   "outputs": [],
   "source": []
  }
 ],
 "metadata": {
  "kernelspec": {
   "display_name": "Python 3",
   "language": "python",
   "name": "python3"
  },
  "language_info": {
   "codemirror_mode": {
    "name": "ipython",
    "version": 3
   },
   "file_extension": ".py",
   "mimetype": "text/x-python",
   "name": "python",
   "nbconvert_exporter": "python",
   "pygments_lexer": "ipython3",
   "version": "3.7.9"
  }
 },
 "nbformat": 4,
 "nbformat_minor": 4
}
