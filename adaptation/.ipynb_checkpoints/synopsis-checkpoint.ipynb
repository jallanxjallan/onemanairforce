{
 "cells": [
  {
   "cell_type": "code",
   "execution_count": 2,
   "metadata": {},
   "outputs": [],
   "source": [
    "from storage.cherrytree import CherryTree\n",
    "from utility.config import load_config\n",
    "from utility.strings import snake_case\n",
    "from utility.helpers import make_identifier\n",
    "from IPython.display import display, Markdown\n",
    "from pathlib import Path\n",
    "from functools import reduce\n",
    "from document.pandoc import PandocArgs, run_single\n",
    "import dateparser\n",
    "import datetime\n",
    "import pandas as pd\n",
    "import spacy\n",
    "import attr\n",
    "import re\n",
    "import redis"
   ]
  },
  {
   "cell_type": "code",
   "execution_count": 2,
   "metadata": {},
   "outputs": [],
   "source": [
    "        \n",
    "# nlp = spacy.load('en_core_web_md')\n",
    "\n",
    "output_path = Path('output')\n",
    "wsplit = re.compile('\\s')\n",
    "r = redis.Redis(decode_responses=True)\n",
    "    "
   ]
  },
  {
   "cell_type": "code",
   "execution_count": 6,
   "metadata": {},
   "outputs": [
    {
     "ename": "AttributeError",
     "evalue": "'NoneType' object has no attribute 'merge'",
     "output_type": "error",
     "traceback": [
      "\u001b[0;31m---------------------------------------------------------------------------\u001b[0m",
      "\u001b[0;31mAttributeError\u001b[0m                            Traceback (most recent call last)",
      "\u001b[0;32m<ipython-input-6-a4f26572e9af>\u001b[0m in \u001b[0;36m<module>\u001b[0;34m\u001b[0m\n\u001b[1;32m     37\u001b[0m \u001b[0mstories\u001b[0m  \u001b[0;34m=\u001b[0m \u001b[0mload_stories\u001b[0m\u001b[0;34m(\u001b[0m\u001b[0mct\u001b[0m\u001b[0;34m)\u001b[0m\u001b[0;34m\u001b[0m\u001b[0;34m\u001b[0m\u001b[0m\n\u001b[1;32m     38\u001b[0m \u001b[0mepisodes\u001b[0m \u001b[0;34m=\u001b[0m \u001b[0mload_episodes\u001b[0m\u001b[0;34m(\u001b[0m\u001b[0mct\u001b[0m\u001b[0;34m)\u001b[0m\u001b[0;34m\u001b[0m\u001b[0;34m\u001b[0m\u001b[0m\n\u001b[0;32m---> 39\u001b[0;31m \u001b[0mdfo\u001b[0m \u001b[0;34m=\u001b[0m \u001b[0mstories\u001b[0m\u001b[0;34m.\u001b[0m\u001b[0mmerge\u001b[0m\u001b[0;34m(\u001b[0m\u001b[0mepisodes\u001b[0m\u001b[0;34m,\u001b[0m \u001b[0mon\u001b[0m\u001b[0;34m=\u001b[0m\u001b[0;34m'identifier'\u001b[0m\u001b[0;34m,\u001b[0m \u001b[0mhow\u001b[0m\u001b[0;34m=\u001b[0m\u001b[0;34m'left'\u001b[0m \u001b[0;34m)\u001b[0m\u001b[0;34m\u001b[0m\u001b[0;34m\u001b[0m\u001b[0m\n\u001b[0m",
      "\u001b[0;31mAttributeError\u001b[0m: 'NoneType' object has no attribute 'merge'"
     ]
    }
   ],
   "source": [
    "def load_stories(ct):    \n",
    "    dfs = pd.DataFrame([dict( \n",
    "                             identifier=n.id,\n",
    "                             incident=n.name,\n",
    "                             story=n.parent.name,\n",
    "                             notes=n.notes,\n",
    "                             document=n.document\n",
    "                            ) \n",
    "                        for n in ct.nodes('Stories')  if n.level == 3 ]) \n",
    "    dfs['story_index'] = dfs.index\n",
    "    dfs.story_index.astype(int, copy=False) \n",
    "    return dfs\n",
    "    \n",
    "def load_episodes(ct):\n",
    "    \n",
    "    dfe = pd.DataFrame([dict(identifier=l.href,\n",
    "                             sequence=s.name,\n",
    "                             episode=e.name) for e in ct.nodes('Synopsis') \n",
    "                                              for s in e.children \n",
    "                                              for l in s.links])  \n",
    "\n",
    "    dfe['episode_index'] = dfe.index\n",
    "    return dfe\n",
    "    \n",
    "# def load_documents(folder): \n",
    "#     file_index = {str(f):f.stat().st_ino for f in Path(folder).iterdir()}\n",
    "\n",
    "#     for filename in files:\n",
    "#         args = PandocArgs(input=filename, filters=['store_document_metadata.lua'])\n",
    "#         rs = run_pandoc(args, output=None)\n",
    "\n",
    "#     return pd.DataFrame([r.hgetall(f'document:metadata:{v}') for v in file_index.values()])\n",
    "                \n",
    "#     return reduce(lambda  left,right: pd.merge(left,right,on='identifier', how='outer'), [dfs, dfi, dfe, dft]).fillna('No Data')\n",
    "\n",
    "\n",
    "ct = CherryTree('content_index.ctd')\n",
    "stories  = load_stories(ct)\n",
    "episodes = load_episodes(ct)\n",
    "dfo = stories.merge(episodes, on='identifier', how='left' )"
   ]
  },
  {
   "cell_type": "code",
   "execution_count": null,
   "metadata": {},
   "outputs": [],
   "source": [
    "def make_linked_documents(section):\n",
    "    ct = CherryTree('content_index.ctd')\n",
    "    for node in [n for n in ct.nodes(section) if n.content if not n.document]:\n",
    "        link = node.insert_document_link('synopsis')\n",
    "        metadata=dict(title=node.name, date='No Date', status='check')\n",
    "        rs = write_pandoc(PandocArgs(input=interfile(node.content), \n",
    "                                output=link.href, \n",
    "                                metadata=metadata))\n",
    "        print(rs)\n",
    "    ct.save()\n",
    "    \n",
    "dfd = make_linked_documents('Interviews')"
   ]
  },
  {
   "cell_type": "code",
   "execution_count": null,
   "metadata": {},
   "outputs": [],
   "source": [
    "# def format_content(scn, pscn): \n",
    "    \n",
    "#     data = {}\n",
    "#     if scene.timestamp.__class__.__name__ == 'Timestamp'\n",
    "#         if re.match('[1-9]', scn.date):\n",
    "#             date = scn.timestamp.strftime(\"%d %B %Y\")\n",
    "#             data['exact_date'] = True \n",
    "#         else:\n",
    "#             date = scn.timestamp.strftime(\"%B %Y\")\n",
    "#     else:\n",
    "#          date = 'No Date'\n",
    "            \n",
    "#     data['date'] = date\n",
    "        \n",
    "        \n",
    "#     if not pscn:\n",
    "#         data['new'] = True \n",
    "#     elif pscn.sequence != scn.sequence:\n",
    "#         data['new'] = True \n",
    "#     elif scn.subject:\n",
    "#         data['return'] = True \n",
    "#     else:\n",
    "#         time_diff = scn.timestamp - pscn.timestamp\n",
    "#         days = time_diff.days\n",
    "#         if days < -600: \n",
    "#             data['flashback'] = True\n",
    "#         elif days == 0:\n",
    "#             data['that_day'] = True\n",
    "#         elif days == 1:\n",
    "#             data['next_day'] = True\n",
    "#         elif days < 7:\n",
    "#             data['that_week'] = True\n",
    "#         else:\n",
    "#             data['continue'] = True\n",
    "#     return data, scn.content\n",
    "\n",
    "        \n",
    "df = load_outline()\n",
    "output=Path('episodes')\n",
    "pandoc_args = []\n",
    "for no in range(1,9):\n",
    "    episode=f'Episode {int(no)}'\n",
    "    links = [f'[{s.title}](../{s.document})' for s in \\\n",
    "             df[df.episode.str.contains(episode)].sort_values(['episode_index']).itertuples()]\n",
    "    \n",
    "    pandoc_args.append(PandocArgs(input=interfile(links),\n",
    "                       output=output.joinpath(snake_case(episode)).with_suffix('.md'),\n",
    "                       metadata=dict(title=episode)))\n",
    "\n",
    "\n",
    "write_pandoc(pandoc_args)"
   ]
  },
  {
   "cell_type": "code",
   "execution_count": null,
   "metadata": {},
   "outputs": [],
   "source": [
    "# dfd['link'] = dfd.apply(lambda x: f'[{x.title}](../{x.filepath})', axis=1) \n",
    "dfd[['title', 'link', 'synopsis']].sort_values('title').to_csv('scene_index.csv')"
   ]
  },
  {
   "cell_type": "code",
   "execution_count": null,
   "metadata": {},
   "outputs": [],
   "source": [
    "ct = CherryTree('content_index.ctd')\n",
    "columns =['story','incident', 'episode', 'sequence']\n",
    "\n",
    "df_outline = load_outline(ct)\n",
    "\n",
    "\n",
    "stories = 'Muharto|Birth Of RI-002|Bob the Best'\n",
    "query = f'(story.str.contains(\"{stories}\", case=False))'\n",
    "\n",
    "t = df_outline.query(query).sort_values('episode_index')\n",
    "t[columns]"
   ]
  },
  {
   "cell_type": "code",
   "execution_count": null,
   "metadata": {},
   "outputs": [],
   "source": [
    "output = 'synopsis'\n",
    "ct = CherryTree('content_index.ctd') \n",
    "[n.insert_document_link(output) for n in ct.nodes('Interviews') if n.level == 3]\n",
    "ct.save()"
   ]
  },
  {
   "cell_type": "code",
   "execution_count": null,
   "metadata": {},
   "outputs": [],
   "source": [
    "ct = CherryTree('content_index.ctd') \n",
    "dfo = load_outline(ct)\n",
    "dfo.head(50)"
   ]
  },
  {
   "cell_type": "code",
   "execution_count": null,
   "metadata": {},
   "outputs": [],
   "source": [
    "dfo[dfo.duplicated(subset='title', keep='last')][['title', 'sequence']]"
   ]
  },
  {
   "cell_type": "code",
   "execution_count": null,
   "metadata": {},
   "outputs": [],
   "source": [
    "df = load_outline()\n",
    "for no in range(8):\n",
    "    export_episode(f'Episode {int(no)}', df)\n"
   ]
  },
  {
   "cell_type": "code",
   "execution_count": null,
   "metadata": {},
   "outputs": [],
   "source": [
    "dfo = load_outline()\n",
    "story = 'Shabby'\n",
    "# dfo[(dfo.synopsis.isna()) & (dfo.story.str.contains(story))].incident\n",
    "# dfo[(dfo.synopsis.isna())].story.unique()\n",
    "dfo['timestamp'] = dfo.date.apply(lambda x: dateparser.parse(x) if type(x) is str else None)\n",
    "dfo.iloc[100]"
   ]
  },
  {
   "cell_type": "code",
   "execution_count": null,
   "metadata": {},
   "outputs": [],
   "source": [
    "df.columns"
   ]
  },
  {
   "cell_type": "code",
   "execution_count": null,
   "metadata": {},
   "outputs": [],
   "source": [
    "dfo = load_outline() \n",
    "dfs = dfo[dfo.story.notna()]\n",
    "# dfi = dfo[dfo.subject.notna()]\n",
    "# dfe = pd.read_csv('episode_index.csv')\n",
    "# dfa = pd.concat([dfe, dfi, dfs]).drop_duplicates('document')\n",
    "dfs['stem'] = dfs.document.apply(lambda x: Path(x).stem)\n",
    "dfs[['story', 'incident', 'stem']].to_csv('episode_index.csv', index=False)\n",
    "\n",
    "        "
   ]
  },
  {
   "cell_type": "code",
   "execution_count": null,
   "metadata": {},
   "outputs": [],
   "source": [
    "args = PandocArgs(input=interfile('this is a test'), output='output/test_pca.md')\n",
    "write_pandoc(args)\n"
   ]
  },
  {
   "cell_type": "code",
   "execution_count": 3,
   "metadata": {},
   "outputs": [],
   "source": [
    "files = [f for f in Path('/home/jeremy/Projects/one_man_air_force/adaptation/synopsis/').iterdir()]\n",
    "\n",
    "\n",
    "for filename in files:\n",
    "    args = PandocArgs(input=filename, filters=['store_document_metadata.lua'])\n",
    "    rs = run_pandoc(args, output=None)\n"
   ]
  },
  {
   "cell_type": "code",
   "execution_count": 10,
   "metadata": {},
   "outputs": [
    {
     "data": {
      "text/plain": [
       "'January|February|March|April|May|June|July|August|September|October|November|December'"
      ]
     },
     "execution_count": 10,
     "metadata": {},
     "output_type": "execute_result"
    }
   ],
   "source": [
    "'|'.join([datetime.datetime(month=i, day=1, year=1988).strftime('%B') for i in range(1,13)])\n",
    "(January|February|March|April|May|June|July|August|September|October|November|December) ([0-9]{4})"
   ]
  },
  {
   "cell_type": "code",
   "execution_count": null,
   "metadata": {},
   "outputs": [],
   "source": []
  }
 ],
 "metadata": {
  "kernelspec": {
   "display_name": "Python 3",
   "language": "python",
   "name": "python3"
  },
  "language_info": {
   "codemirror_mode": {
    "name": "ipython",
    "version": 3
   },
   "file_extension": ".py",
   "mimetype": "text/x-python",
   "name": "python",
   "nbconvert_exporter": "python",
   "pygments_lexer": "ipython3",
   "version": "3.7.9"
  }
 },
 "nbformat": 4,
 "nbformat_minor": 4
}
