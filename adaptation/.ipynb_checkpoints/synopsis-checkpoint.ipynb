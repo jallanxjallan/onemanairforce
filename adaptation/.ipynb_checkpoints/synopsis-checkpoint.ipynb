{
 "cells": [
  {
   "cell_type": "code",
   "execution_count": 1,
   "metadata": {},
   "outputs": [],
   "source": [
    "from storage.cherrytree import CherryTree\n",
    "from utility.config import load_config\n",
    "from utility.strings import snake_case\n",
    "from IPython.display import display, Markdown\n",
    "from pathlib import Path\n",
    "from document.pandoc import PandocArgs, interfile, write_pandoc, stream_pandoc\n",
    "import dateparser"
   ]
  },
  {
   "cell_type": "code",
   "execution_count": null,
   "metadata": {},
   "outputs": [],
   "source": [
    "%%capture synopsis\n",
    "cf = load_config()\n",
    "ct = CherryTree(cf['index-file']) \n",
    "for node in [n for n in ct.nodes('Synopsis') if n.level == 2]:\n",
    "    print(f'**{node.name.title()}**: {node.notes}')\n",
    "Path('output/synopsis.md').write_text(synopsis.stdout)"
   ]
  },
  {
   "cell_type": "markdown",
   "metadata": {},
   "source": [
    "synopsis"
   ]
  },
  {
   "cell_type": "code",
   "execution_count": 3,
   "metadata": {},
   "outputs": [],
   "source": [
    "ct = CherryTree('treatment.ctd')\n",
    "pandoc_args = []\n",
    "base_dir = Path('/home/jeremy/Desktop/omaf_upload')\n",
    "folder_node = ct.find_node_by_name('History')\n",
    "\n",
    "    \n",
    "for file_node in folder_node.children:\n",
    "    filepath = base_dir.joinpath(snake_case(file_node.name)).with_suffix('.docx')\n",
    "    content = []\n",
    "    for content_node in file_node.children:\n",
    "        content.extend([f'# {content_node.name}', content_node.notes])\n",
    "                       \n",
    "    pandoc_args.append(PandocArgs(\n",
    "        input=interfile(content),\n",
    "        output=filepath\n",
    "    )) \n",
    "    \n",
    "write_pandoc(pandoc_args)"
   ]
  },
  {
   "cell_type": "code",
   "execution_count": 2,
   "metadata": {},
   "outputs": [],
   "source": []
  },
  {
   "cell_type": "code",
   "execution_count": 22,
   "metadata": {},
   "outputs": [
    {
     "data": {
      "text/plain": [
       "['Spoor Poisoned',\n",
       " 'Buying RI-003',\n",
       " 'RI-003 Crashes',\n",
       " 'Running Pots And Pans',\n",
       " 'Father Interrogates',\n",
       " 'Ani Engaged',\n",
       " 'Shopping List',\n",
       " 'Ani Serves Rice',\n",
       " 'Ani Berates Muharto',\n",
       " 'Muharto Marries',\n",
       " 'Ani Berates Westerling',\n",
       " 'Primitivo Introduces Muharto',\n",
       " 'Party Animal',\n",
       " 'Ining Will Train Students',\n",
       " 'Muharto Asks George',\n",
       " 'Ining Asks To Return',\n",
       " 'Ining Was Found Dead',\n",
       " 'Muharto Reports Incident',\n",
       " 'Initial Searches',\n",
       " 'Crash Site Discovery.',\n",
       " 'Crash Site Investigation',\n",
       " 'Sixth Coffin',\n",
       " 'Victor in Jogja',\n",
       " 'Victor Meets Robert Koke',\n",
       " 'Suit Saga',\n",
       " 'Bob in Business',\n",
       " 'Third CALI Run',\n",
       " 'Muharto meets Pang',\n",
       " 'Pilot Officer',\n",
       " 'De Facto Liaison']"
      ]
     },
     "execution_count": 22,
     "metadata": {},
     "output_type": "execute_result"
    }
   ],
   "source": [
    "def dated(note):\n",
    "    return len(list(filter(None, [dateparser.parse(b) for b in note.bullets]) ))\n",
    "\n",
    "ct = CherryTree('content_index.ctd')\n",
    "    \n",
    "[n.name for n in ct.nodes('History') if not dated(n) > 0 if n.level > 2]"
   ]
  },
  {
   "cell_type": "code",
   "execution_count": null,
   "metadata": {},
   "outputs": [],
   "source": []
  }
 ],
 "metadata": {
  "kernelspec": {
   "display_name": "Python 3",
   "language": "python",
   "name": "python3"
  },
  "language_info": {
   "codemirror_mode": {
    "name": "ipython",
    "version": 3
   },
   "file_extension": ".py",
   "mimetype": "text/x-python",
   "name": "python",
   "nbconvert_exporter": "python",
   "pygments_lexer": "ipython3",
   "version": "3.7.9"
  }
 },
 "nbformat": 4,
 "nbformat_minor": 4
}
