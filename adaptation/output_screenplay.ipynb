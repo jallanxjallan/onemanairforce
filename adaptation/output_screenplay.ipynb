{
 "cells": [
  {
   "cell_type": "raw",
   "metadata": {},
   "source": [
    "extract dates through entse\n",
    "\n",
    "extract ref_node data through node links\n",
    "\n",
    "append all to phrase matcher with callback based on phrase label\n",
    "\n",
    "run phrase match on all docs to generate content list\n",
    "[ref]("
   ]
  },
  {
   "cell_type": "code",
   "execution_count": 6,
   "metadata": {},
   "outputs": [],
   "source": [
    "import sys\n",
    "import os\n",
    "import re\n",
    "import spacy\n",
    "sys.path.append('/home/jeremy/Library')\n",
    "from storage.cherrytree_xml import CherryTree\n",
    "from document.document import Document\n",
    "from spacy.matcher import PhraseMatcher"
   ]
  },
  {
   "cell_type": "code",
   "execution_count": 2,
   "metadata": {},
   "outputs": [],
   "source": [
    "note_split = re.compile(r'~+')\n",
    "ct = CherryTree('synopsis.ctd')\n",
    "nlp = spacy.load(\"en_core_web_sm\")"
   ]
  },
  {
   "cell_type": "code",
   "execution_count": 2,
   "metadata": {},
   "outputs": [],
   "source": [
    "time_pat = re.compile('(January|February|March|April|May|June|July|August|September|October|November|December\\s19\\d{2})')"
   ]
  },
  {
   "cell_type": "code",
   "execution_count": 34,
   "metadata": {},
   "outputs": [],
   "source": [
    "nodes = [n for n in ct.nodes('Sequences') if len(n.notes) > 5]"
   ]
  },
  {
   "cell_type": "code",
   "execution_count": 4,
   "metadata": {},
   "outputs": [],
   "source": [
    "docs = nlp.pipe([(n.notes, n) for n in nodes], as_tuples=True)\n"
   ]
  },
  {
   "cell_type": "code",
   "execution_count": 5,
   "metadata": {},
   "outputs": [
    {
     "data": {
      "text/plain": [
       "[{'node': <storage.cherrytree_xml.Node at 0x7f72e10d9cc0>,\n",
       "  'pos': 1,\n",
       "  'text': 'September 1988'},\n",
       " {'node': <storage.cherrytree_xml.Node at 0x7f72e10d9cc0>,\n",
       "  'pos': 18,\n",
       "  'text': 'June 1947'},\n",
       " {'node': <storage.cherrytree_xml.Node at 0x7f72e10d9cc0>,\n",
       "  'pos': 46,\n",
       "  'text': 'July 1947'},\n",
       " {'node': <storage.cherrytree_xml.Node at 0x7f72e10d9cc0>,\n",
       "  'pos': 68,\n",
       "  'text': 'August 1947'},\n",
       " {'node': <storage.cherrytree_xml.Node at 0x7f72e10d9cc0>,\n",
       "  'pos': 89,\n",
       "  'text': 'September 1947'},\n",
       " {'node': <storage.cherrytree_xml.Node at 0x7f72e10d9cc0>,\n",
       "  'pos': 98,\n",
       "  'text': 'December 1947'},\n",
       " {'node': <storage.cherrytree_xml.Node at 0x7f72e10d9cc0>,\n",
       "  'pos': 111,\n",
       "  'text': 'May 1948'},\n",
       " {'node': <storage.cherrytree_xml.Node at 0x7f72e10d9cc0>,\n",
       "  'pos': 123,\n",
       "  'text': 'September 1948'}]"
      ]
     },
     "execution_count": 5,
     "metadata": {},
     "output_type": "execute_result"
    }
   ],
   "source": [
    "content = [dict(node=n, pos=e.start, text=e.text) \\\n",
    "           for d,n in docs \\\n",
    "           for e in d.ents if e.label_ == 'DATE']\n",
    "           \n",
    "content"
   ]
  },
  {
   "cell_type": "code",
   "execution_count": 43,
   "metadata": {},
   "outputs": [],
   "source": [
    "def ref_data(match_obj, doc, index, matches):\n",
    "    print(doc._.node.name)\n",
    "#     start = matches[index][1]\n",
    "#     end = matches[index][2]\n",
    "#     name = doc[start:end]\n",
    "    \n",
    "#     ref_node = ct.find_node_by_name(name)\n",
    "    \n",
    "#     try:\n",
    "#         intro, text = note_split.split(ref_node.notes, maxsplit=2)\n",
    "#     except ValueError:\n",
    "#         return None\n",
    "# #     return dict(seq=seq, name=ref_node.name, text=text)\n",
    "#     print(text)\n",
    "\n",
    "def make_doc(tup):\n",
    "    doc, node = tup\n",
    "    doc.set_attribute(node, default=node)\n"
   ]
  },
  {
   "cell_type": "code",
   "execution_count": 47,
   "metadata": {},
   "outputs": [
    {
     "ename": "AttributeError",
     "evalue": "'spacy.tokens.doc.Doc' object has no attribute 'set_attribute'",
     "output_type": "error",
     "traceback": [
      "\u001b[0;31m---------------------------------------------------------------------------\u001b[0m",
      "\u001b[0;31mAttributeError\u001b[0m                            Traceback (most recent call last)",
      "\u001b[0;32m<ipython-input-47-6ab993ac370f>\u001b[0m in \u001b[0;36m<module>\u001b[0;34m\u001b[0m\n\u001b[1;32m      5\u001b[0m \u001b[0mmatcher\u001b[0m \u001b[0;34m=\u001b[0m \u001b[0mPhraseMatcher\u001b[0m\u001b[0;34m(\u001b[0m\u001b[0mnlp\u001b[0m\u001b[0;34m.\u001b[0m\u001b[0mvocab\u001b[0m\u001b[0;34m)\u001b[0m\u001b[0;34m\u001b[0m\u001b[0;34m\u001b[0m\u001b[0m\n\u001b[1;32m      6\u001b[0m \u001b[0mmatcher\u001b[0m\u001b[0;34m.\u001b[0m\u001b[0madd\u001b[0m\u001b[0;34m(\u001b[0m\u001b[0;34m\"REFS\"\u001b[0m\u001b[0;34m,\u001b[0m \u001b[0mlabels\u001b[0m\u001b[0;34m,\u001b[0m \u001b[0mon_match\u001b[0m\u001b[0;34m=\u001b[0m\u001b[0mref_data\u001b[0m\u001b[0;34m)\u001b[0m\u001b[0;34m\u001b[0m\u001b[0;34m\u001b[0m\u001b[0m\n\u001b[0;32m----> 7\u001b[0;31m \u001b[0mmatches\u001b[0m \u001b[0;34m=\u001b[0m \u001b[0mmatcher\u001b[0m\u001b[0;34m.\u001b[0m\u001b[0mpipe\u001b[0m\u001b[0;34m(\u001b[0m\u001b[0;34m[\u001b[0m\u001b[0mmake_doc\u001b[0m\u001b[0;34m(\u001b[0m\u001b[0mt\u001b[0m\u001b[0;34m)\u001b[0m \u001b[0;32mfor\u001b[0m \u001b[0mt\u001b[0m \u001b[0;32min\u001b[0m \u001b[0mtups\u001b[0m\u001b[0;34m]\u001b[0m\u001b[0;34m)\u001b[0m\u001b[0;34m\u001b[0m\u001b[0;34m\u001b[0m\u001b[0m\n\u001b[0m\u001b[1;32m      8\u001b[0m \u001b[0;34m\u001b[0m\u001b[0m\n\u001b[1;32m      9\u001b[0m \u001b[0;34m\u001b[0m\u001b[0m\n",
      "\u001b[0;32m<ipython-input-47-6ab993ac370f>\u001b[0m in \u001b[0;36m<listcomp>\u001b[0;34m(.0)\u001b[0m\n\u001b[1;32m      5\u001b[0m \u001b[0mmatcher\u001b[0m \u001b[0;34m=\u001b[0m \u001b[0mPhraseMatcher\u001b[0m\u001b[0;34m(\u001b[0m\u001b[0mnlp\u001b[0m\u001b[0;34m.\u001b[0m\u001b[0mvocab\u001b[0m\u001b[0;34m)\u001b[0m\u001b[0;34m\u001b[0m\u001b[0;34m\u001b[0m\u001b[0m\n\u001b[1;32m      6\u001b[0m \u001b[0mmatcher\u001b[0m\u001b[0;34m.\u001b[0m\u001b[0madd\u001b[0m\u001b[0;34m(\u001b[0m\u001b[0;34m\"REFS\"\u001b[0m\u001b[0;34m,\u001b[0m \u001b[0mlabels\u001b[0m\u001b[0;34m,\u001b[0m \u001b[0mon_match\u001b[0m\u001b[0;34m=\u001b[0m\u001b[0mref_data\u001b[0m\u001b[0;34m)\u001b[0m\u001b[0;34m\u001b[0m\u001b[0;34m\u001b[0m\u001b[0m\n\u001b[0;32m----> 7\u001b[0;31m \u001b[0mmatches\u001b[0m \u001b[0;34m=\u001b[0m \u001b[0mmatcher\u001b[0m\u001b[0;34m.\u001b[0m\u001b[0mpipe\u001b[0m\u001b[0;34m(\u001b[0m\u001b[0;34m[\u001b[0m\u001b[0mmake_doc\u001b[0m\u001b[0;34m(\u001b[0m\u001b[0mt\u001b[0m\u001b[0;34m)\u001b[0m \u001b[0;32mfor\u001b[0m \u001b[0mt\u001b[0m \u001b[0;32min\u001b[0m \u001b[0mtups\u001b[0m\u001b[0;34m]\u001b[0m\u001b[0;34m)\u001b[0m\u001b[0;34m\u001b[0m\u001b[0;34m\u001b[0m\u001b[0m\n\u001b[0m\u001b[1;32m      8\u001b[0m \u001b[0;34m\u001b[0m\u001b[0m\n\u001b[1;32m      9\u001b[0m \u001b[0;34m\u001b[0m\u001b[0m\n",
      "\u001b[0;32m<ipython-input-43-b6578b13f966>\u001b[0m in \u001b[0;36mmake_doc\u001b[0;34m(tup)\u001b[0m\n\u001b[1;32m     16\u001b[0m \u001b[0;32mdef\u001b[0m \u001b[0mmake_doc\u001b[0m\u001b[0;34m(\u001b[0m\u001b[0mtup\u001b[0m\u001b[0;34m)\u001b[0m\u001b[0;34m:\u001b[0m\u001b[0;34m\u001b[0m\u001b[0;34m\u001b[0m\u001b[0m\n\u001b[1;32m     17\u001b[0m     \u001b[0mdoc\u001b[0m\u001b[0;34m,\u001b[0m \u001b[0mnode\u001b[0m \u001b[0;34m=\u001b[0m \u001b[0mtup\u001b[0m\u001b[0;34m\u001b[0m\u001b[0;34m\u001b[0m\u001b[0m\n\u001b[0;32m---> 18\u001b[0;31m     \u001b[0mdoc\u001b[0m\u001b[0;34m.\u001b[0m\u001b[0mset_attribute\u001b[0m\u001b[0;34m(\u001b[0m\u001b[0mnode\u001b[0m\u001b[0;34m,\u001b[0m \u001b[0mdefault\u001b[0m\u001b[0;34m=\u001b[0m\u001b[0mnode\u001b[0m\u001b[0;34m)\u001b[0m\u001b[0;34m\u001b[0m\u001b[0;34m\u001b[0m\u001b[0m\n\u001b[0m",
      "\u001b[0;31mAttributeError\u001b[0m: 'spacy.tokens.doc.Doc' object has no attribute 'set_attribute'"
     ]
    }
   ],
   "source": [
    "ct = CherryTree('synopsis.ctd')\n",
    "nodes = {n:i for i,n in enumerate(ct.nodes('Sequences')) if len(n.notes) > 5}\n",
    "labels = [nlp(l.text) for n in nodes for l in n.links if l.type == 'node']\n",
    "tups = nlp.pipe([(n.notes, n) for n in nodes], as_tuples=True)\n",
    "matcher = PhraseMatcher(nlp.vocab)\n",
    "matcher.add(\"REFS\", labels, on_match=ref_data)\n",
    "matches = matcher.pipe([make_doc(t) for t in tups])\n",
    "    \n",
    "        "
   ]
  },
  {
   "cell_type": "code",
   "execution_count": null,
   "metadata": {},
   "outputs": [],
   "source": []
  }
 ],
 "metadata": {
  "kernelspec": {
   "display_name": "Python 3",
   "language": "python",
   "name": "python3"
  },
  "language_info": {
   "codemirror_mode": {
    "name": "ipython",
    "version": 3
   },
   "file_extension": ".py",
   "mimetype": "text/x-python",
   "name": "python",
   "nbconvert_exporter": "python",
   "pygments_lexer": "ipython3",
   "version": "3.6.8"
  }
 },
 "nbformat": 4,
 "nbformat_minor": 4
}
